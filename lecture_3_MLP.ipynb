{
  "cells": [
    {
      "cell_type": "markdown",
      "metadata": {
        "colab_type": "text",
        "id": "view-in-github"
      },
      "source": [
        "<a href=\"https://colab.research.google.com/github/osamja/zero-to-hero/blob/main/lecture_3/MLP.ipynb\" target=\"_parent\"><img src=\"https://colab.research.google.com/assets/colab-badge.svg\" alt=\"Open In Colab\"/></a>"
      ]
    },
    {
      "cell_type": "code",
      "execution_count": 204,
      "metadata": {
        "id": "5onyiSmq5Kqz"
      },
      "outputs": [],
      "source": [
        "import torch\n",
        "import torch.nn.functional as F\n",
        "import matplotlib.pyplot as plt\n",
        "%matplotlib inline"
      ]
    },
    {
      "attachments": {},
      "cell_type": "markdown",
      "metadata": {},
      "source": [
        "- Cheatsheet: https://github.com/karpathy/nn-zero-to-hero/blob/master/lectures/makemore/makemore_part2_mlp.ipynb\n"
      ]
    },
    {
      "cell_type": "code",
      "execution_count": 46,
      "metadata": {},
      "outputs": [],
      "source": [
        "# !wget https://raw.githubusercontent.com/karpathy/makemore/master/names.txt    # Uncomment to download names.txt\n",
        "names = open('names.txt', 'r').read().splitlines()"
      ]
    },
    {
      "cell_type": "code",
      "execution_count": 47,
      "metadata": {},
      "outputs": [],
      "source": [
        "# Create a dictionary of characters and their indices\n",
        "chars = sorted(list(set(''.join(names))))\n",
        "char2idx = {c: i+1 for i, c in enumerate(chars)}\n",
        "idx2char = {i+1: c for i, c in enumerate(chars)}\n",
        "\n",
        "char2idx['.'] = 0  # ? andrej has this set to zero but doesn't that replace the first character in the alphabet?\n",
        "idx2char[0] = '.'"
      ]
    },
    {
      "cell_type": "code",
      "execution_count": 48,
      "metadata": {},
      "outputs": [
        {
          "name": "stdout",
          "output_type": "stream",
          "text": [
            "Number of examples: 5\n"
          ]
        }
      ],
      "source": [
        "# Build the dataset\n",
        "block_size = 3 # context length: how many characters to consider before predicting the next character\n",
        "X, Y = [], []\n",
        "\n",
        "for name in names[:1]:\n",
        "    name = name + '.'\n",
        "    context = [0] * block_size      # The first context is a block of zeros which enables padding\n",
        "    for c in name:\n",
        "        X.append(context)\n",
        "        Y.append(char2idx[c])      # The next character is context[-1] (the last character in the context)\n",
        "        # print(''.join([idx2char[i] for i in context]), '->', c)\n",
        "        context = context[1:] + [char2idx[c]]   # Crop & shift the context by one character\n",
        "        \n",
        "X = torch.tensor(X, dtype=torch.long)   # Should we be using long or ints?\n",
        "Y = torch.tensor(Y, dtype=torch.long)\n",
        "\n",
        "num_examples = X.shape[0]\n",
        "print('Number of examples:', num_examples)"
      ]
    },
    {
      "cell_type": "code",
      "execution_count": 49,
      "metadata": {},
      "outputs": [
        {
          "data": {
            "text/plain": [
              "tensor([True, True])"
            ]
          },
          "execution_count": 49,
          "metadata": {},
          "output_type": "execute_result"
        }
      ],
      "source": [
        "# Embed the characters\n",
        "x_enc = torch.nn.functional.one_hot(X, num_classes=27).float()\n",
        "x_enc.shape\n",
        "\n",
        "C = torch.randn((27, 2))    # Two dimensional embedding\n",
        "C[5] == F.one_hot(torch.tensor(5), num_classes=27).float() @ C\n"
      ]
    },
    {
      "cell_type": "code",
      "execution_count": 50,
      "metadata": {},
      "outputs": [
        {
          "data": {
            "text/plain": [
              "torch.Size([5, 3, 2])"
            ]
          },
          "execution_count": 50,
          "metadata": {},
          "output_type": "execute_result"
        }
      ],
      "source": [
        "# wow this array indexing is so cool\n",
        "emb = C[X]\n",
        "emb.shape"
      ]
    },
    {
      "cell_type": "code",
      "execution_count": 51,
      "metadata": {},
      "outputs": [
        {
          "data": {
            "text/plain": [
              "tensor([-0.7234, -0.9802])"
            ]
          },
          "execution_count": 51,
          "metadata": {},
          "output_type": "execute_result"
        }
      ],
      "source": [
        "emb[2][2]"
      ]
    },
    {
      "cell_type": "code",
      "execution_count": 52,
      "metadata": {},
      "outputs": [],
      "source": [
        "# construct the hidden layer\n",
        "W1 = torch.randn(6, 100)\n",
        "b1 = torch.randn(100)"
      ]
    },
    {
      "cell_type": "code",
      "execution_count": 53,
      "metadata": {},
      "outputs": [
        {
          "data": {
            "text/plain": [
              "tensor([[-1.4922,  0.0522, -1.4922,  0.0522, -1.4922,  0.0522],\n",
              "        [-1.4922,  0.0522, -1.4922,  0.0522, -1.6107,  1.1115],\n",
              "        [-1.4922,  0.0522, -1.6107,  1.1115, -0.7234, -0.9802],\n",
              "        [-1.6107,  1.1115, -0.7234, -0.9802, -0.7234, -0.9802],\n",
              "        [-0.7234, -0.9802, -0.7234, -0.9802, -2.3375,  0.0041]])"
            ]
          },
          "execution_count": 53,
          "metadata": {},
          "output_type": "execute_result"
        }
      ],
      "source": [
        "res = emb.reshape(5, 6)\n",
        "res"
      ]
    },
    {
      "cell_type": "code",
      "execution_count": 54,
      "metadata": {},
      "outputs": [
        {
          "data": {
            "text/plain": [
              "tensor([[-1.4922,  0.0522, -1.4922,  0.0522, -1.4922,  0.0522],\n",
              "        [-1.4922,  0.0522, -1.4922,  0.0522, -1.6107,  1.1115],\n",
              "        [-1.4922,  0.0522, -1.6107,  1.1115, -0.7234, -0.9802],\n",
              "        [-1.6107,  1.1115, -0.7234, -0.9802, -0.7234, -0.9802],\n",
              "        [-0.7234, -0.9802, -0.7234, -0.9802, -2.3375,  0.0041]])"
            ]
          },
          "execution_count": 54,
          "metadata": {},
          "output_type": "execute_result"
        }
      ],
      "source": [
        "emb.view(5, 6)"
      ]
    },
    {
      "cell_type": "code",
      "execution_count": 55,
      "metadata": {},
      "outputs": [
        {
          "data": {
            "text/plain": [
              "tensor([[True, True, True, True, True, True],\n",
              "        [True, True, True, True, True, True],\n",
              "        [True, True, True, True, True, True],\n",
              "        [True, True, True, True, True, True],\n",
              "        [True, True, True, True, True, True]])"
            ]
          },
          "execution_count": 55,
          "metadata": {},
          "output_type": "execute_result"
        }
      ],
      "source": [
        "# -1 means \"whatever is needed to make the shape work\"- copilot. haha same as num_examples\n",
        "emb.view(-1, 6) == emb.reshape(num_examples, 6) "
      ]
    },
    {
      "cell_type": "code",
      "execution_count": 56,
      "metadata": {},
      "outputs": [
        {
          "data": {
            "text/plain": [
              "(tensor(-1.0000), tensor(1.))"
            ]
          },
          "execution_count": 56,
          "metadata": {},
          "output_type": "execute_result"
        }
      ],
      "source": [
        "# calculate the hidden layer\n",
        "h = emb.view(5, 6) @ W1 + b1\n",
        "h = torch.tanh(h)\n",
        "h.min(), h.max()"
      ]
    },
    {
      "cell_type": "code",
      "execution_count": 57,
      "metadata": {},
      "outputs": [],
      "source": [
        "# create the output layer\n",
        "W2 = torch.randn(100, 27)\n",
        "b2 = torch.randn(27) \n",
        "\n",
        "logits = h @ W2 + b2"
      ]
    },
    {
      "cell_type": "code",
      "execution_count": 58,
      "metadata": {},
      "outputs": [
        {
          "data": {
            "text/plain": [
              "torch.Size([5, 27])"
            ]
          },
          "execution_count": 58,
          "metadata": {},
          "output_type": "execute_result"
        }
      ],
      "source": [
        "logits.shape"
      ]
    },
    {
      "cell_type": "code",
      "execution_count": 59,
      "metadata": {},
      "outputs": [
        {
          "data": {
            "text/plain": [
              "(torch.Size([5, 27]), tensor([1.0000, 1.0000, 1.0000, 1.0000, 1.0000]))"
            ]
          },
          "execution_count": 59,
          "metadata": {},
          "output_type": "execute_result"
        }
      ],
      "source": [
        "# Let's get our fake counts and then normalize them into a probability distribution\n",
        "counts = logits.exp()\n",
        "prob = counts / counts.sum(1, keepdims=True)\n",
        "prob.shape, prob.sum(1)"
      ]
    },
    {
      "cell_type": "code",
      "execution_count": 60,
      "metadata": {},
      "outputs": [
        {
          "data": {
            "text/plain": [
              "[<matplotlib.lines.Line2D at 0x7fe532179490>]"
            ]
          },
          "execution_count": 60,
          "metadata": {},
          "output_type": "execute_result"
        },
        {
          "data": {
            "image/png": "[encoded data removed]",
            "text/plain": [
              "<Figure size 640x480 with 1 Axes>"
            ]
          },
          "metadata": {},
          "output_type": "display_data"
        }
      ],
      "source": [
        "# Lets use y to get the actual probability\n",
        "pr_dist = prob[torch.arange(num_examples), Y]\n",
        "plt.plot(pr_dist)"
      ]
    },
    {
      "cell_type": "code",
      "execution_count": 61,
      "metadata": {},
      "outputs": [
        {
          "data": {
            "text/plain": [
              "tensor(23.3431)"
            ]
          },
          "execution_count": 61,
          "metadata": {},
          "output_type": "execute_result"
        }
      ],
      "source": [
        "# Now we can calculate the loss\n",
        "loss = -torch.log(pr_dist).mean()\n",
        "loss"
      ]
    },
    {
      "cell_type": "code",
      "execution_count": 62,
      "metadata": {},
      "outputs": [
        {
          "data": {
            "text/plain": [
              "tensor(23.3431)"
            ]
          },
          "execution_count": 62,
          "metadata": {},
          "output_type": "execute_result"
        }
      ],
      "source": [
        "F.cross_entropy(logits, Y)  # This is the same as the above"
      ]
    },
    {
      "cell_type": "code",
      "execution_count": 63,
      "metadata": {},
      "outputs": [],
      "source": [
        "# Train the model from scratch\n",
        "weights = None"
      ]
    },
    {
      "cell_type": "code",
      "execution_count": 64,
      "metadata": {},
      "outputs": [],
      "source": [
        " # Create a function to train the model\n",
        "def train(names, weights=[], lr=0.1, epochs=1000, batch_size=32):\n",
        "    loss_counts = []\n",
        "    num_names = len(names)\n",
        "    \n",
        "    # Keep track of the learning rates\n",
        "    # lre = torch.linspace(-3, 0, epochs)\n",
        "    # lrs = 10 ** lre\n",
        "    # learning_rates = []\n",
        "\n",
        "    # Create a dictionary of characters and their indices\n",
        "    chars = sorted(list(set(''.join(names))))\n",
        "    char2idx = {c: i+1 for i, c in enumerate(chars)}\n",
        "    idx2char = {i+1: c for i, c in enumerate(chars)}\n",
        "    char2idx['.'] = 0  # ? andrej has this set to zero but doesn't that replace the first character in the alphabet?\n",
        "    idx2char[0] = '.'\n",
        "\n",
        "    # Build the dataset\n",
        "    \n",
        "    block_size = 3 # context length: how many characters to consider before predicting the next character\n",
        "    X, Y = [], []\n",
        "\n",
        "    for name in names[:num_names]:\n",
        "        name = name + '.'\n",
        "        context = [0] * block_size      # The first context is a block of zeros which enables padding\n",
        "        for c in name:\n",
        "            X.append(context)\n",
        "            Y.append(char2idx[c])      # The next character is context[-1] (the last character in the context)\n",
        "            # print(''.join([idx2char[i] for i in context]), '->', c)\n",
        "            context = context[1:] + [char2idx[c]]   # Crop & shift the context by one character\n",
        "            \n",
        "    X = torch.tensor(X, dtype=torch.long)   # Should we be using long or ints?\n",
        "    Y = torch.tensor(Y, dtype=torch.long)\n",
        "\n",
        "    # Create weights if they don't exist\n",
        "    if len(weights) == 0:\n",
        "        # Embed the characters\n",
        "        C = torch.randn((27, 2))    # Two dimensional embedding\n",
        "        emb = C[X]\n",
        "\n",
        "        # construct the hidden layer\n",
        "        W1 = torch.randn(6, 100)\n",
        "        b1 = torch.randn(100)\n",
        "\n",
        "        # construct the output layer\n",
        "        W2 = torch.randn(100, 27)\n",
        "        b2 = torch.randn(27) \n",
        "    else:   # Otherwise use the weights that were passed in\n",
        "        C, W1, b1, W2, b2 = weights\n",
        "\n",
        "    # Set the parameters to require gradients\n",
        "    parameters = [W1, b1, W2, b2, C]\n",
        "    for p in parameters:\n",
        "        p.requires_grad = True\n",
        "    \n",
        "    # Forward pass\n",
        "    for epoch in range(epochs):\n",
        "        # lr = lrs[epoch]\n",
        "        # Get a random batch of names\n",
        "        # learning_rates.append(lre[epoch])\n",
        "        rand_batch_idx = torch.randint(0, num_names, (batch_size,))\n",
        "        x_batch = X[rand_batch_idx]\n",
        "        y_batch = Y[rand_batch_idx]\n",
        "\n",
        "        # Embed the characters\n",
        "        emb = C[x_batch]\n",
        "        emb = emb.view(batch_size, 6)\n",
        "\n",
        "        # Calculate the hidden layer\n",
        "        h = torch.tanh(emb @ W1 + b1)\n",
        "        logits = h @ W2 + b2\n",
        "\n",
        "        # Calculate the loss\n",
        "        loss = F.cross_entropy(logits, y_batch)\n",
        "        loss_counts.append(loss.item())\n",
        "        \n",
        "        # Backward pass\n",
        "        loss.backward()\n",
        "        \n",
        "        # Update the weights\n",
        "        with torch.no_grad():\n",
        "            W1 -= lr * W1.grad\n",
        "            b1 -= lr * b1.grad\n",
        "            W2 -= lr * W2.grad\n",
        "            b2 -= lr * b2.grad\n",
        "            C -= lr * C.grad\n",
        "            \n",
        "        # Zero the gradients\n",
        "        W1.grad.zero_()\n",
        "        b1.grad.zero_()\n",
        "        W2.grad.zero_()\n",
        "        b2.grad.zero_()\n",
        "        C.grad.zero_()\n",
        "        \n",
        "        if epoch == 100 == 0:\n",
        "            print(f'Epoch: {epoch}, Loss: {loss.item()}')\n",
        "\n",
        "    # Calculate the number of parameters\n",
        "    batch_parameters = [W1, b1, W2, b2, emb]\n",
        "    num_parameters = 0\n",
        "    for p in batch_parameters:\n",
        "        for s in p.shape:\n",
        "            num_parameters += s\n",
        "    print('Number of parameters:', num_parameters)\n",
        "\n",
        "    # Plot the learning rates\n",
        "    # plt.plot(learning_rates, loss_counts)\n",
        "    # plt.xlabel('Learning rate')\n",
        "    # plt.ylabel('Loss')\n",
        "    # plt.title(f'Loss over learning rate')\n",
        "    # plt.show()\n",
        "\n",
        "\n",
        "    # Plot the loss\n",
        "    plt.plot(loss_counts)\n",
        "    plt.xlabel('Epoch')\n",
        "    plt.ylabel('Loss')\n",
        "    plt.title(f'Loss over time')\n",
        "    plt.annotate(f'lr={lr:.3f}, batch_size={batch_size}, num_names={num_names}, min_loss={min(loss_counts):.3f}', (0, 0), (0, -40), xycoords='axes fraction', textcoords='offset points', va='top')\n",
        "\n",
        "    # Return the trained parameter weighst\n",
        "    return [C, W1, b1, W2, b2]\n",
        "\n"
      ]
    },
    {
      "cell_type": "code",
      "execution_count": 65,
      "metadata": {},
      "outputs": [
        {
          "name": "stdout",
          "output_type": "stream",
          "text": [
            "Number of parameters: 398\n"
          ]
        },
        {
          "data": {
            "image/png": "[encoded data removed]",
            "text/plain": [
              "<Figure size 640x480 with 1 Axes>"
            ]
          },
          "metadata": {},
          "output_type": "display_data"
        }
      ],
      "source": [
        "names = open('names.txt', 'r').read().splitlines()\n",
        "weights = train(names)"
      ]
    },
    {
      "cell_type": "code",
      "execution_count": 66,
      "metadata": {},
      "outputs": [
        {
          "name": "stdout",
          "output_type": "stream",
          "text": [
            "Number of parameters: 398\n"
          ]
        },
        {
          "data": {
            "image/png": "[encoded data removed]",
            "text/plain": [
              "<Figure size 640x480 with 1 Axes>"
            ]
          },
          "metadata": {},
          "output_type": "display_data"
        }
      ],
      "source": [
        "weights = train(names, weights=weights, lr=0.001, epochs=1000, batch_size=32)"
      ]
    },
    {
      "cell_type": "code",
      "execution_count": null,
      "metadata": {},
      "outputs": [],
      "source": []
    },
    {
      "cell_type": "code",
      "execution_count": 67,
      "metadata": {},
      "outputs": [
        {
          "data": {
            "text/plain": [
              "torch.Size([27, 2])"
            ]
          },
          "execution_count": 67,
          "metadata": {},
          "output_type": "execute_result"
        }
      ],
      "source": [
        "[C, W1, b1, W2, b2] = weights\n",
        "C.shape"
      ]
    },
    {
      "cell_type": "code",
      "execution_count": 68,
      "metadata": {},
      "outputs": [
        {
          "ename": "RuntimeError",
          "evalue": "shape '[-1, 27]' is invalid for input of size 6",
          "output_type": "error",
          "traceback": [
            "\u001b[0;31m---------------------------------------------------------------------------\u001b[0m",
            "\u001b[0;31mRuntimeError\u001b[0m                              Traceback (most recent call last)",
            "\u001b[0;32m/var/folders/1f/qjk02_3s70zd4sxj573fj7400000gn/T/ipykernel_65243/3660436293.py\u001b[0m in \u001b[0;36m<module>\u001b[0;34m\u001b[0m\n\u001b[1;32m     37\u001b[0m     \u001b[0;32mreturn\u001b[0m \u001b[0mgenerated_names\u001b[0m\u001b[0;34m\u001b[0m\u001b[0;34m\u001b[0m\u001b[0m\n\u001b[1;32m     38\u001b[0m \u001b[0;34m\u001b[0m\u001b[0m\n\u001b[0;32m---> 39\u001b[0;31m \u001b[0msample\u001b[0m\u001b[0;34m(\u001b[0m\u001b[0mC\u001b[0m\u001b[0;34m,\u001b[0m \u001b[0mW1\u001b[0m\u001b[0;34m,\u001b[0m \u001b[0mb1\u001b[0m\u001b[0;34m,\u001b[0m \u001b[0mW2\u001b[0m\u001b[0;34m,\u001b[0m \u001b[0mb2\u001b[0m\u001b[0;34m)\u001b[0m\u001b[0;34m\u001b[0m\u001b[0;34m\u001b[0m\u001b[0m\n\u001b[0m",
            "\u001b[0;32m/var/folders/1f/qjk02_3s70zd4sxj573fj7400000gn/T/ipykernel_65243/3660436293.py\u001b[0m in \u001b[0;36msample\u001b[0;34m(C, W1, b1, W2, b2, num_names)\u001b[0m\n\u001b[1;32m     14\u001b[0m             \u001b[0;31m# Embed the characters\u001b[0m\u001b[0;34m\u001b[0m\u001b[0;34m\u001b[0m\u001b[0m\n\u001b[1;32m     15\u001b[0m             \u001b[0memb\u001b[0m \u001b[0;34m=\u001b[0m \u001b[0mC\u001b[0m\u001b[0;34m[\u001b[0m\u001b[0mcontext\u001b[0m\u001b[0;34m]\u001b[0m\u001b[0;34m\u001b[0m\u001b[0;34m\u001b[0m\u001b[0m\n\u001b[0;32m---> 16\u001b[0;31m             \u001b[0memb\u001b[0m \u001b[0;34m=\u001b[0m \u001b[0memb\u001b[0m\u001b[0;34m.\u001b[0m\u001b[0mview\u001b[0m\u001b[0;34m(\u001b[0m\u001b[0;34m-\u001b[0m\u001b[0;36m1\u001b[0m\u001b[0;34m,\u001b[0m \u001b[0mlayer_size\u001b[0m\u001b[0;34m)\u001b[0m\u001b[0;34m\u001b[0m\u001b[0;34m\u001b[0m\u001b[0m\n\u001b[0m\u001b[1;32m     17\u001b[0m \u001b[0;34m\u001b[0m\u001b[0m\n\u001b[1;32m     18\u001b[0m             \u001b[0;31m# Calculate the hidden layer\u001b[0m\u001b[0;34m\u001b[0m\u001b[0;34m\u001b[0m\u001b[0m\n",
            "\u001b[0;31mRuntimeError\u001b[0m: shape '[-1, 27]' is invalid for input of size 6"
          ]
        }
      ],
      "source": [
        "# Sample from the model\n",
        "def sample(C, W1, b1, W2, b2, num_names=10):\n",
        "    context = [0] * 3\n",
        "    block_size = 3\n",
        "    generated_names = []\n",
        "    K = 9\n",
        "    layer_size = K * block_size\n",
        "    for i in range(num_names):\n",
        "        # Sample a name from the starting context character (.)\n",
        "        context = [0] * block_size\n",
        "        emb = C[context]\n",
        "        name = ''\n",
        "        while True:\n",
        "            # Embed the characters\n",
        "            emb = C[context]\n",
        "            emb = emb.view(-1, layer_size)\n",
        "\n",
        "            # Calculate the hidden layer\n",
        "            h = torch.tanh(emb @ W1 + b1)\n",
        "            logits = h @ W2 + b2\n",
        "\n",
        "            # Sample from the output layer\n",
        "            probs = logits.exp() / logits.exp().sum()\n",
        "            idx = torch.multinomial(probs, 1)\n",
        "\n",
        "            # Check if we're done\n",
        "            if idx2char[idx.item()] == '.':\n",
        "                generated_names.append(name)\n",
        "                break\n",
        "\n",
        "            # Add the character to the name\n",
        "            name += (idx2char[idx.item()])\n",
        "\n",
        "            # Update the context\n",
        "            context = context[1:] + [idx.item()]\n",
        "    \n",
        "    return generated_names\n",
        "\n",
        "sample(C, W1, b1, W2, b2)"
      ]
    },
    {
      "attachments": {},
      "cell_type": "markdown",
      "metadata": {},
      "source": [
        "### Sample names\n",
        "```\n",
        "['ezyon',\n",
        " 'sareroe',\n",
        " 'voe',\n",
        " 'japoyn',\n",
        " 'belhe',\n",
        " 'nna',\n",
        " 'egefe',\n",
        " 'calin',\n",
        " 'kazec',\n",
        " 'cein']\n",
        "```\n",
        "\n",
        "These names are 'name like' but I would've expected slightly better given we've traind on three context charactesr."
      ]
    },
    {
      "attachments": {},
      "cell_type": "markdown",
      "metadata": {},
      "source": [
        "- To counteract a model that is overfitted to our data, we can create a train, validation/dev, and test split."
      ]
    },
    {
      "cell_type": "code",
      "execution_count": null,
      "metadata": {},
      "outputs": [],
      "source": [
        "# create the training, validation, and test sets\n",
        "names = open('names.txt', 'r').read().splitlines()\n",
        "num_names = len(names)\n",
        "# shuffle the names\n",
        "import random\n",
        "random.shuffle(names)\n",
        "num_train = int(num_names * 0.8)\n",
        "num_val = int(num_names * 0.1)\n",
        "num_test = num_names - num_train - num_val\n",
        "\n",
        "train_names = names[:num_train]\n",
        "val_names = names[num_train:num_train+num_val]\n",
        "test_names = names[num_train+num_val:]\n",
        "\n",
        "\n"
      ]
    },
    {
      "cell_type": "code",
      "execution_count": null,
      "metadata": {},
      "outputs": [],
      "source": [
        "# Train the model\n",
        "weights = train(train_names, lr=0.1, epochs=1000, batch_size=32)\n",
        "\n",
        "# Sample from the model\n",
        "generated_names = sample(*weights, num_names=10)\n",
        "\n",
        "# Print the generated names\n",
        "print('Generated names:')\n",
        "for name in generated_names:\n",
        "    print(name)"
      ]
    },
    {
      "cell_type": "code",
      "execution_count": null,
      "metadata": {},
      "outputs": [],
      "source": [
        "# Calculate the accuracy on the validation set\n",
        "[C, W1, b1, W2, b2] = weights\n",
        "correct = 0\n",
        "total = 0\n",
        "\n",
        "x,y = [], []\n",
        "for name in train_names:\n",
        "    # Convert the name to a tensor\n",
        "    # Build the dataset\n",
        "    block_size = 3 # context length: how many characters to consider before predicting the next character\n",
        "    name = name + '.'\n",
        "    context = [0] * block_size      # The first context is a block of zeros which enables padding\n",
        "\n",
        "    for c in name:\n",
        "        x.append(context)\n",
        "        y.append(char2idx[c])      # The next character is context[-1] (the last character in the context)\n",
        "        context = context[1:] + [char2idx[c]]   # Crop & shift the context by one character\n",
        "            \n",
        "x = torch.tensor(x, dtype=torch.long)   # Should we be using long or ints?\n",
        "y = torch.tensor(y, dtype=torch.long)\n",
        "\n",
        "# Embed the characters\n",
        "emb = C[x]\n",
        "emb = emb.view(-1, 6)\n",
        "\n",
        "# Calculate the hidden layer\n",
        "h = torch.tanh(emb @ W1 + b1)\n",
        "logits = h @ W2 + b2\n",
        "\n",
        "# Calculate the loss\n",
        "loss = F.cross_entropy(logits, y)\n",
        "\n",
        "print('Loss:', loss.item())\n",
        "\n",
        "# Calculate the accuracy\n",
        "probs = logits.exp() / logits.exp().sum()\n",
        "idx = torch.argmax(probs, 1)\n",
        "\n",
        "correct += (idx == y).sum().item()\n",
        "total += len(y)\n",
        "\n",
        "print('x:', x)\n",
        "print('y:', y)\n",
        "print('idx:', idx)\n",
        "\n",
        "\n",
        "print('Accuracy:', correct / total)\n"
      ]
    },
    {
      "attachments": {},
      "cell_type": "markdown",
      "metadata": {},
      "source": [
        "Our loss for the train, validation, and test sets are so close that our model is actually underfitting.  To counteract this, we can expand our neural network to overit our model to our training data."
      ]
    },
    {
      "cell_type": "code",
      "execution_count": null,
      "metadata": {},
      "outputs": [],
      "source": [
        " # Create a function to train the model\n",
        "def train(names=train_names, weights=[], lr=0.1, epochs=10000, batch_size=64):\n",
        "    loss_counts = []\n",
        "    num_names = len(names)\n",
        "\n",
        "    # Create a dictionary of characters and their indices\n",
        "    chars = sorted(list(set(''.join(names))))\n",
        "    char2idx = {c: i+1 for i, c in enumerate(chars)}\n",
        "    idx2char = {i+1: c for i, c in enumerate(chars)}\n",
        "    char2idx['.'] = 0\n",
        "    idx2char[0] = '.'\n",
        "\n",
        "    # Build the dataset\n",
        "    block_size = 3 # context length: how many characters to consider before predicting the next character\n",
        "    X, Y = [], []\n",
        "\n",
        "    for name in names[:num_names]:\n",
        "        name = name + '.'\n",
        "        context = [0] * block_size      # The first context is a block of zeros which enables padding\n",
        "        for c in name:\n",
        "            X.append(context)\n",
        "            Y.append(char2idx[c])      # The next character is context[-1] (the last character in the context)\n",
        "            context = context[1:] + [char2idx[c]]   # Crop & shift the context by one character\n",
        "            \n",
        "    X = torch.tensor(X, dtype=torch.long)   # Should we be using long or ints?\n",
        "    Y = torch.tensor(Y, dtype=torch.long)\n",
        "\n",
        "    # Create weights if they don't exist\n",
        "    if len(weights) == 0:\n",
        "        # Embed the characters\n",
        "        C = torch.randn((27, 2))    # Two dimensional embedding\n",
        "        emb = C[X]\n",
        "\n",
        "        # construct the hidden layer\n",
        "        W1 = torch.randn(6, 1000)\n",
        "        b1 = torch.randn(1000)\n",
        "\n",
        "        # construct the output layer\n",
        "        W2 = torch.randn(1000, 27)\n",
        "        b2 = torch.randn(27) \n",
        "    else:   # Otherwise use the weights that were passed in\n",
        "        C, W1, b1, W2, b2 = weights\n",
        "\n",
        "    # Set the parameters to require gradients\n",
        "    parameters = [W1, b1, W2, b2, C]\n",
        "    for p in parameters:\n",
        "        p.requires_grad = True\n",
        "    \n",
        "    # Forward pass\n",
        "    for epoch in range(epochs):\n",
        "        rand_batch_idx = torch.randint(0, num_names, (batch_size,))\n",
        "        x_batch = X[rand_batch_idx]\n",
        "        y_batch = Y[rand_batch_idx]\n",
        "\n",
        "        # Embed the characters\n",
        "        emb = C[x_batch]\n",
        "        emb = emb.view(-1, 6)\n",
        "\n",
        "        # Calculate the hidden layer\n",
        "        h = torch.tanh(emb @ W1 + b1)\n",
        "        logits = h @ W2 + b2\n",
        "\n",
        "        # Calculate the loss\n",
        "        loss = F.cross_entropy(logits, y_batch)\n",
        "        loss_counts.append(loss.item())\n",
        "        \n",
        "        # Backward pass\n",
        "        loss.backward()\n",
        "        \n",
        "        # Update the weights\n",
        "        with torch.no_grad():\n",
        "            W1 -= lr * W1.grad\n",
        "            b1 -= lr * b1.grad\n",
        "            W2 -= lr * W2.grad\n",
        "            b2 -= lr * b2.grad\n",
        "            C -= lr * C.grad\n",
        "            \n",
        "        # Zero the gradients\n",
        "        W1.grad.zero_()\n",
        "        b1.grad.zero_()\n",
        "        W2.grad.zero_()\n",
        "        b2.grad.zero_()\n",
        "        C.grad.zero_()\n",
        "        \n",
        "        if epoch % 100 == 0:\n",
        "            print(f'Epoch: {epoch}, Loss: {loss.item()}')\n",
        "\n",
        "    # Plot the loss\n",
        "    plt.plot(loss_counts)\n",
        "    plt.xlabel('Epoch')\n",
        "    plt.ylabel('Loss')\n",
        "    plt.title(f'Loss over time')\n",
        "    plt.annotate(f'lr={lr:.3f}, batch_size={batch_size}, num_names={num_names}, min_loss={min(loss_counts):.3f}', (0, 0), (0, -40), xycoords='axes fraction', textcoords='offset points', va='top')\n",
        "\n",
        "    # Return the trained parameter weighst\n",
        "    return [C, W1, b1, W2, b2]\n",
        "\n",
        "weights = train()"
      ]
    },
    {
      "cell_type": "code",
      "execution_count": 150,
      "metadata": {},
      "outputs": [],
      "source": [
        "val_losses = []"
      ]
    },
    {
      "attachments": {},
      "cell_type": "markdown",
      "metadata": {},
      "source": [
        "# Exercises:\n",
        "- E01: Tune the hyperparameters of the training to beat my best validation loss of 2.2\n",
        "- E02: I was not careful with the intialization of the network in this video. (1) What is the loss you'd get if the predicted probabilities at initialization were perfectly uniform? What loss do we achieve? (2) Can you tune the initialization to get a starting loss that is much more similar to (1)?\n",
        "- E03: Read the Bengio et al 2003 paper (link above), implement and try any idea from the paper. Did it work?"
      ]
    },
    {
      "attachments": {},
      "cell_type": "markdown",
      "metadata": {},
      "source": [
        "### Exercise 1: \n",
        "- Tune the hyperparameters of the training to beat my best validation loss of 2.2"
      ]
    },
    {
      "cell_type": "code",
      "execution_count": 151,
      "metadata": {},
      "outputs": [],
      "source": [
        "import random\n",
        "\n",
        "names = open('names.txt', 'r').read().splitlines()\n",
        "num_names = len(names)\n",
        "\n",
        "# shuffle the names\n",
        "random.shuffle(names)\n",
        "num_train = int(num_names * 0.8)\n",
        "num_val = int(num_names * 0.1)\n",
        "num_test = num_names - num_train - num_val\n",
        "\n",
        "# create the training, validation, and test sets\n",
        "train_names = names[:num_train]\n",
        "val_names = names[num_train:num_train+num_val]\n",
        "test_names = names[num_train+num_val:]"
      ]
    },
    {
      "cell_type": "code",
      "execution_count": 195,
      "metadata": {},
      "outputs": [],
      "source": [
        "# Create a function to train the model\n",
        "# names: the names to train on\n",
        "# hyperparams: a dictionary of hyperparameters\n",
        "#   K: the number of characters to generate\n",
        "#   neurons: the number of neurons in the hidden layer\n",
        "#   block_size: the number of characters to consider before predicting the next character\n",
        "#   epochs: the number of epochs to train for\n",
        "#   lr: the learning rate\n",
        "#   batch_size: the batch size\n",
        "# weights: the weights to use for the model\n",
        "def train(\n",
        "    names,\n",
        "    hyperparams,\n",
        "    weights=[],\n",
        "):\n",
        "    # Unpack the hyperparameters from the dictionary\n",
        "    K = hyperparams['K']\n",
        "    neurons = hyperparams['neurons']\n",
        "    block_size = hyperparams['block_size']\n",
        "    epochs = hyperparams['epochs']\n",
        "    lr = hyperparams['lr']\n",
        "    batch_size = hyperparams['batch_size']\n",
        "\n",
        "    adjustment_epoch = epochs // 2\n",
        "    layer_size = K * block_size\n",
        "    loss_counts = []\n",
        "    num_names = len(names)\n",
        "    \n",
        "    print(f'K={K}, neurons={neurons}, block_size={block_size}, epochs={epochs}, lr={lr}, batch_size={batch_size}')\n",
        "\n",
        "    # Create a dictionary of characters and their indices\n",
        "    chars = sorted(list(set(''.join(names))))\n",
        "    char2idx = {c: i+1 for i, c in enumerate(chars)}\n",
        "    idx2char = {i+1: c for i, c in enumerate(chars)}\n",
        "    char2idx['.'] = 0\n",
        "    idx2char[0] = '.'\n",
        "\n",
        "    # Build the dataset\n",
        "    X, Y = [], []\n",
        "\n",
        "    for name in names[:num_names]:\n",
        "        name = name + '.'\n",
        "        context = [0] * block_size      # The first context is a block of zeros which enables padding\n",
        "        for c in name:\n",
        "            X.append(context)\n",
        "            Y.append(char2idx[c])      # The next character is context[-1] (the last character in the context)\n",
        "            context = context[1:] + [char2idx[c]]   # Crop & shift the context by one character\n",
        "            \n",
        "    X = torch.tensor(X, dtype=torch.long)\n",
        "    Y = torch.tensor(Y, dtype=torch.long)\n",
        "\n",
        "    # Embed the characters\n",
        "    C = torch.randn((27, K))    # Two dimensional embedding -> 3D -> \n",
        "    emb = C[X]\n",
        "\n",
        "    # construct the first hidden layer\n",
        "    W1 = torch.randn(layer_size, neurons)\n",
        "    b1 = torch.randn(neurons)\n",
        "\n",
        "    # construct the output layer\n",
        "    W2 = torch.randn(neurons, 27)\n",
        "    b2 = torch.randn(27) \n",
        "\n",
        "    # Set the parameters to require gradients\n",
        "    parameters = [W1, b1, W2, b2, C]\n",
        "    for p in parameters:\n",
        "        p.requires_grad = True\n",
        "    \n",
        "    # Forward pass\n",
        "    for epoch in range(epochs):\n",
        "        # Tune the learning rate and batch size\n",
        "        if epoch == adjustment_epoch:\n",
        "            lr = lr / 10\n",
        "            batch_size = batch_size * 10\n",
        "            print(f'Adjusting learning rate to {lr}, batch_size={batch_size}')\n",
        "        elif epoch == epochs-5000:\n",
        "            lr = lr / 10\n",
        "            batch_size = batch_size * 10\n",
        "            print(f'Adjusting learning rate to {lr}, batch_size={batch_size}')\n",
        "\n",
        "        rand_batch_idx = torch.randint(0, num_names, (batch_size,))\n",
        "        x_batch = X[rand_batch_idx]\n",
        "        y_batch = Y[rand_batch_idx]\n",
        "\n",
        "        # Embed the characters\n",
        "        emb = C[x_batch]\n",
        "        emb = emb.view(-1, layer_size)\n",
        "\n",
        "        # Calculate the first hidden layer\n",
        "        h = torch.tanh(emb @ W1 + b1)\n",
        "        logits = h @ W2 + b2\n",
        "\n",
        "        # Calculate the loss\n",
        "        loss = F.cross_entropy(logits, y_batch)\n",
        "        loss_counts.append(loss.item())\n",
        "        \n",
        "        # Backward pass\n",
        "        loss.backward()\n",
        "        \n",
        "        # Update the weights\n",
        "        with torch.no_grad():\n",
        "            W1 -= lr * W1.grad\n",
        "            b1 -= lr * b1.grad\n",
        "            W2 -= lr * W2.grad\n",
        "            b2 -= lr * b2.grad\n",
        "            C -= lr * C.grad\n",
        "            \n",
        "        # Zero the gradients\n",
        "        W1.grad.zero_()\n",
        "        b1.grad.zero_()\n",
        "        W2.grad.zero_()\n",
        "        b2.grad.zero_()\n",
        "        C.grad.zero_()\n",
        "\n",
        "    weights = [C, W1, b1, W2, b2]\n",
        "    # print(f'lr={lr:.3f}, batch_size={batch_size}, num_names={num_names}, min_loss={min(loss_counts):.3f}, K={K}, neurons={neurons}, block_size={block_size}, epochs={epochs}')\n",
        "\n",
        "    # Plot the loss\n",
        "    plt.plot(loss_counts)\n",
        "    plt.xlabel('Epoch')\n",
        "    plt.ylabel('Loss')\n",
        "    plt.title(f'Loss over time')\n",
        "    # plt.annotate(f'lr={lr:.3f}, batch_size={batch_size}, num_names={num_names}, min_loss={min(loss_counts):.3f}', (0, 0), (0, -40), xycoords='axes fraction', textcoords='offset points', va='top')\n",
        "\n",
        "    # Return the trained parameter weighst\n",
        "    return weights"
      ]
    },
    {
      "cell_type": "code",
      "execution_count": 196,
      "metadata": {},
      "outputs": [],
      "source": [
        "# Evaluate the hopefully overfitted model\n",
        "def evaluate(names, weights):\n",
        "    C, W1, b1, W2, b2 = weights\n",
        "    num_names = len(names)\n",
        "    block_size = C.shape[1]\n",
        "    layer_size = W1.shape[0]\n",
        "\n",
        "    # Build the dataset\n",
        "    X, Y = [], []\n",
        "\n",
        "    for name in names[:num_names]:\n",
        "        name = name + '.'\n",
        "        context = [0] * block_size      # The first context is a block of zeros which enables padding\n",
        "        for c in name:\n",
        "            X.append(context)\n",
        "            Y.append(char2idx[c])      # The next character is context[-1] (the last character in the context)\n",
        "            context = context[1:] + [char2idx[c]]   # Crop & shift the context by one character\n",
        "            \n",
        "    X = torch.tensor(X, dtype=torch.long)   # Should we be using long or ints?\n",
        "    Y = torch.tensor(Y, dtype=torch.long)\n",
        "    \n",
        "    # Embed the characters\n",
        "    emb = C[X]\n",
        "    emb = emb.view(-1, layer_size)\n",
        "    h = torch.tanh(emb @ W1 + b1)\n",
        "    logits = h @ W2 + b2\n",
        "\n",
        "    # Calculate the loss\n",
        "    loss = F.cross_entropy(logits, Y)\n",
        "    \n",
        "    return loss.item()\n"
      ]
    },
    {
      "cell_type": "code",
      "execution_count": 201,
      "metadata": {},
      "outputs": [
        {
          "name": "stdout",
          "output_type": "stream",
          "text": [
            "K=4, neurons=800, block_size=4, epochs=50000, lr=0.1, batch_size=32\n",
            "Adjusting learning rate to 0.01, batch_size=32\n",
            "Adjusting learning rate to 0.001, batch_size=320\n"
          ]
        },
        {
          "data": {
            "image/png": "[encoded data removed]",
            "text/plain": [
              "<Figure size 640x480 with 1 Axes>"
            ]
          },
          "metadata": {},
          "output_type": "display_data"
        }
      ],
      "source": [
        "hyperparams = {\n",
        "    'epochs':50000,\n",
        "    'K': 4,\n",
        "    'neurons': 800,\n",
        "    'block_size': 4,\n",
        "    'lr': 0.1,\n",
        "    'batch_size': 32,\n",
        "}\n",
        "\n",
        "# Train the model with the best hyperparameters on the training set\n",
        "weights = train(\n",
        "    train_names,\n",
        "    hyperparams\n",
        ")"
      ]
    },
    {
      "cell_type": "code",
      "execution_count": 202,
      "metadata": {},
      "outputs": [],
      "source": [
        "# Evaluate the model on the validation set\n",
        "val_loss = evaluate(val_names, weights)\n",
        "val_losses.append((val_loss, hyperparams))"
      ]
    },
    {
      "cell_type": "code",
      "execution_count": 203,
      "metadata": {},
      "outputs": [
        {
          "name": "stdout",
          "output_type": "stream",
          "text": [
            "val_loss=2.802 \n",
            "hyperparams={'epochs': 1000, 'K': 4, 'neurons': 750, 'block_size': 4, 'lr': 0.1, 'batch_size': 32}\n",
            "\n",
            "val_loss=3.039 \n",
            "hyperparams={'epochs': 1000, 'K': 4, 'neurons': 750, 'block_size': 4, 'lr': 0.1, 'batch_size': 32}\n",
            "\n",
            "val_loss=2.684 \n",
            "hyperparams={'epochs': 1000, 'K': 4, 'neurons': 500, 'block_size': 4, 'lr': 0.1, 'batch_size': 32}\n",
            "\n",
            "val_loss=2.418 \n",
            "hyperparams={'epochs': 10000, 'K': 4, 'neurons': 500, 'block_size': 4, 'lr': 0.1, 'batch_size': 32}\n",
            "\n",
            "val_loss=2.341 \n",
            "hyperparams={'epochs': 50000, 'K': 4, 'neurons': 500, 'block_size': 4, 'lr': 0.1, 'batch_size': 32}\n",
            "\n",
            "val_loss=2.366 \n",
            "hyperparams={'epochs': 50000, 'K': 4, 'neurons': 500, 'block_size': 4, 'lr': 0.1, 'batch_size': 32}\n",
            "\n",
            "val_loss=2.254 \n",
            "hyperparams={'epochs': 50000, 'K': 4, 'neurons': 800, 'block_size': 4, 'lr': 0.1, 'batch_size': 32}\n",
            "\n"
          ]
        }
      ],
      "source": [
        "for val_loss in val_losses:\n",
        "    (loss, hyperparams) = val_loss\n",
        "    print(f'val_loss={loss:.3f} \\nhyperparams={hyperparams}\\n')"
      ]
    },
    {
      "attachments": {},
      "cell_type": "markdown",
      "metadata": {},
      "source": [
        "### Minimizing Validation Loss\n",
        "\n",
        "\n",
        "The best I was able to do was a validation loss of 2.254 with the following hyperparams\n",
        "hyperparams={'epochs': 50000, 'K': 4, 'neurons': 800, 'block_size': 4, 'lr': 0.1, 'batch_size': 32}\n",
        "\n",
        "Although I was getting close to 2.2, I made the following enhancements to tune my validation loss\n",
        "- Slowed the learning rate and increased the batch size towards the last few thousand epochs.  I could see less noise in the loss rate with this change and I figured it was what I needed for a micro-optimization to get from a loss of 2.3 to 2.2\n",
        "- I tried adding another layer to the NN but that actually seemed to hurt performance.\n",
        "- Instead of adding all the for loops for the various hyperparameters in the train function, I moved the hyperparams into a dictionary.  This kept the training and evaluation functions more simple which helped to debug issues.  i.e. the block_size was not defined within the function but from the notebook cells above\n",
        "- Plotting the epoch vs loss graph was helpful in visualizing whether our NN was benefiting from extra epochs.  Although, I noticed that the more complex our NN was, the more epochs I needed to train over to achieve a competetive validation loss.  I tried to make it a goal to achieve a validation loss of 2.2 within 50K epochs as to create an efficient NN.\n",
        "\n",
        "\n",
        "- loss.item(), K, neurons, block_size, epochs, min_loss\n",
        "- (2.350400924682617, 3, 1000, 4, 50000, 1.205239176750183)\n",
        "- (2.30, 3, 500, 4, 40000, 1.384570837020874)\n",
        "- (2.296140193939209, 3, 800, 4, 50000, 1.3054497241973877)"
      ]
    },
    {
      "cell_type": "code",
      "execution_count": 217,
      "metadata": {},
      "outputs": [
        {
          "data": {
            "text/plain": [
              "['cabra',\n",
              " 'cat',\n",
              " 'zamarie',\n",
              " 'amasorlynn',\n",
              " 'jylon',\n",
              " 'mary',\n",
              " 'entriy',\n",
              " 'tanrod',\n",
              " 'aaknier',\n",
              " 'brigeloni']"
            ]
          },
          "execution_count": 217,
          "metadata": {},
          "output_type": "execute_result"
        }
      ],
      "source": [
        "# Sample from the model\n",
        "def sample(weights, num_names=10):\n",
        "    C, W1, b1, W2, b2 = weights\n",
        "    block_size = C.shape[1]\n",
        "    layer_size = W1.shape[0]\n",
        "    context = [0] * block_size\n",
        "    generated_names = []\n",
        "\n",
        "    for i in range(num_names):\n",
        "        # Sample a name from the starting context character (.)\n",
        "        context = [0] * block_size\n",
        "        emb = C[context]\n",
        "        name = ''\n",
        "        \n",
        "        while True:\n",
        "            # Embed the characters\n",
        "            emb = C[context]\n",
        "            emb = emb.view(-1, layer_size)\n",
        "\n",
        "            # Calculate the hidden layer\n",
        "            h = torch.tanh(emb @ W1 + b1)\n",
        "            logits = h @ W2 + b2\n",
        "\n",
        "            # Sample from the output layer\n",
        "            probs = logits.exp() / logits.exp().sum()\n",
        "            idx = torch.multinomial(probs, 1)\n",
        "\n",
        "            # Check if we're done\n",
        "            if idx2char[idx.item()] == '.':\n",
        "                generated_names.append(name)\n",
        "                break\n",
        "\n",
        "            # Add the character to the name\n",
        "            name += (idx2char[idx.item()])\n",
        "\n",
        "            # Update the context\n",
        "            context = context[1:] + [idx.item()]\n",
        "    \n",
        "    return generated_names\n",
        "\n",
        "sample(weights)"
      ]
    },
    {
      "attachments": {},
      "cell_type": "markdown",
      "metadata": {},
      "source": [
        "Sampled names:\n",
        "\n",
        "```\n",
        "['jeennath',\n",
        " 'jassa',\n",
        " 'wannyickeliah',\n",
        " 'lyra',\n",
        " 'delefda',\n",
        " 'lyanna',\n",
        " 'shuh',\n",
        " 'deonne',\n",
        " 'khohi',\n",
        " 'binia']\n",
        " ```\n",
        " \n",
        " These names seem alright enough that I'm not going to debug this model any further :)"
      ]
    },
    {
      "attachments": {},
      "cell_type": "markdown",
      "metadata": {},
      "source": []
    }
  ],
  "metadata": {
    "colab": {
      "authorship_tag": "ABX9TyOkY45OAMkpFzYuL1GYgdPQ",
      "include_colab_link": true,
      "provenance": []
    },
    "kernelspec": {
      "display_name": "base",
      "language": "python",
      "name": "python3"
    },
    "language_info": {
      "codemirror_mode": {
        "name": "ipython",
        "version": 3
      },
      "file_extension": ".py",
      "mimetype": "text/x-python",
      "name": "python",
      "nbconvert_exporter": "python",
      "pygments_lexer": "ipython3",
      "version": "3.9.13"
    },
    "vscode": {
      "interpreter": {
        "hash": "bebb980880604d236ddcb4913ad10a36ac6cae9759cdda587ed688a750b11c5c"
      }
    }
  },
  "nbformat": 4,
  "nbformat_minor": 0
}
