{
  "cells": [
    {
      "cell_type": "markdown",
      "metadata": {
        "colab_type": "text",
        "id": "view-in-github"
      },
      "source": [
        "<a href=\"https://colab.research.google.com/github/osamja/zero-to-hero/blob/main/lecture_3/MLP.ipynb\" target=\"_parent\"><img src=\"https://colab.research.google.com/assets/colab-badge.svg\" alt=\"Open In Colab\"/></a>"
      ]
    },
    {
      "cell_type": "code",
      "execution_count": 241,
      "metadata": {
        "id": "5onyiSmq5Kqz"
      },
      "outputs": [],
      "source": [
        "import torch\n",
        "import torch.nn.functional as F\n",
        "import matplotlib.pyplot as plt\n",
        "%matplotlib inline"
      ]
    },
    {
      "attachments": {},
      "cell_type": "markdown",
      "metadata": {},
      "source": [
        "- Cheatsheet: https://github.com/karpathy/nn-zero-to-hero/blob/master/lectures/makemore/makemore_part2_mlp.ipynb\n"
      ]
    },
    {
      "cell_type": "code",
      "execution_count": 242,
      "metadata": {},
      "outputs": [],
      "source": [
        "# !wget https://raw.githubusercontent.com/karpathy/makemore/master/names.txt    # Uncomment to download names.txt\n",
        "names = open('names.txt', 'r').read().splitlines()"
      ]
    },
    {
      "cell_type": "code",
      "execution_count": 243,
      "metadata": {},
      "outputs": [],
      "source": [
        "# Create a dictionary of characters and their indices\n",
        "chars = sorted(list(set(''.join(names))))\n",
        "char2idx = {c: i+1 for i, c in enumerate(chars)}\n",
        "idx2char = {i+1: c for i, c in enumerate(chars)}\n",
        "\n",
        "char2idx['.'] = 0  # ? andrej has this set to zero but doesn't that replace the first character in the alphabet?\n",
        "idx2char[0] = '.'"
      ]
    },
    {
      "cell_type": "code",
      "execution_count": 244,
      "metadata": {},
      "outputs": [
        {
          "name": "stdout",
          "output_type": "stream",
          "text": [
            "Number of examples: 5\n"
          ]
        }
      ],
      "source": [
        "# Build the dataset\n",
        "block_size = 3 # context length: how many characters to consider before predicting the next character\n",
        "X, Y = [], []\n",
        "\n",
        "for name in names[:1]:\n",
        "    name = name + '.'\n",
        "    context = [0] * block_size      # The first context is a block of zeros which enables padding\n",
        "    for c in name:\n",
        "        X.append(context)\n",
        "        Y.append(char2idx[c])      # The next character is context[-1] (the last character in the context)\n",
        "        # print(''.join([idx2char[i] for i in context]), '->', c)\n",
        "        context = context[1:] + [char2idx[c]]   # Crop & shift the context by one character\n",
        "        \n",
        "X = torch.tensor(X, dtype=torch.long)   # Should we be using long or ints?\n",
        "Y = torch.tensor(Y, dtype=torch.long)\n",
        "\n",
        "num_examples = X.shape[0]\n",
        "print('Number of examples:', num_examples)"
      ]
    },
    {
      "cell_type": "code",
      "execution_count": 245,
      "metadata": {},
      "outputs": [
        {
          "data": {
            "text/plain": [
              "tensor([True, True])"
            ]
          },
          "execution_count": 245,
          "metadata": {},
          "output_type": "execute_result"
        }
      ],
      "source": [
        "# Embed the characters\n",
        "x_enc = torch.nn.functional.one_hot(X, num_classes=27).float()\n",
        "x_enc.shape\n",
        "\n",
        "C = torch.randn((27, 2))    # Two dimensional embedding\n",
        "C[5] == F.one_hot(torch.tensor(5), num_classes=27).float() @ C\n"
      ]
    },
    {
      "cell_type": "code",
      "execution_count": 246,
      "metadata": {},
      "outputs": [
        {
          "data": {
            "text/plain": [
              "torch.Size([5, 3, 2])"
            ]
          },
          "execution_count": 246,
          "metadata": {},
          "output_type": "execute_result"
        }
      ],
      "source": [
        "# wow this array indexing is so cool\n",
        "emb = C[X]\n",
        "emb.shape"
      ]
    },
    {
      "cell_type": "code",
      "execution_count": 247,
      "metadata": {},
      "outputs": [
        {
          "data": {
            "text/plain": [
              "tensor([ 0.8730, -0.6262])"
            ]
          },
          "execution_count": 247,
          "metadata": {},
          "output_type": "execute_result"
        }
      ],
      "source": [
        "emb[2][2]"
      ]
    },
    {
      "cell_type": "code",
      "execution_count": 248,
      "metadata": {},
      "outputs": [],
      "source": [
        "# construct the hidden layer\n",
        "W1 = torch.randn(6, 100)\n",
        "b1 = torch.randn(100)"
      ]
    },
    {
      "cell_type": "code",
      "execution_count": 249,
      "metadata": {},
      "outputs": [
        {
          "data": {
            "text/plain": [
              "tensor([[-0.1277, -0.1120, -0.1277, -0.1120, -0.1277, -0.1120],\n",
              "        [-0.1277, -0.1120, -0.1277, -0.1120, -1.4580, -1.0950],\n",
              "        [-0.1277, -0.1120, -1.4580, -1.0950,  0.8730, -0.6262],\n",
              "        [-1.4580, -1.0950,  0.8730, -0.6262,  0.8730, -0.6262],\n",
              "        [ 0.8730, -0.6262,  0.8730, -0.6262, -0.2593, -1.1318]])"
            ]
          },
          "execution_count": 249,
          "metadata": {},
          "output_type": "execute_result"
        }
      ],
      "source": [
        "res = emb.reshape(5, 6)\n",
        "res"
      ]
    },
    {
      "cell_type": "code",
      "execution_count": 250,
      "metadata": {},
      "outputs": [
        {
          "data": {
            "text/plain": [
              "tensor([[-0.1277, -0.1120, -0.1277, -0.1120, -0.1277, -0.1120],\n",
              "        [-0.1277, -0.1120, -0.1277, -0.1120, -1.4580, -1.0950],\n",
              "        [-0.1277, -0.1120, -1.4580, -1.0950,  0.8730, -0.6262],\n",
              "        [-1.4580, -1.0950,  0.8730, -0.6262,  0.8730, -0.6262],\n",
              "        [ 0.8730, -0.6262,  0.8730, -0.6262, -0.2593, -1.1318]])"
            ]
          },
          "execution_count": 250,
          "metadata": {},
          "output_type": "execute_result"
        }
      ],
      "source": [
        "emb.view(5, 6)"
      ]
    },
    {
      "cell_type": "code",
      "execution_count": 251,
      "metadata": {},
      "outputs": [
        {
          "data": {
            "text/plain": [
              "tensor([[True, True, True, True, True, True],\n",
              "        [True, True, True, True, True, True],\n",
              "        [True, True, True, True, True, True],\n",
              "        [True, True, True, True, True, True],\n",
              "        [True, True, True, True, True, True]])"
            ]
          },
          "execution_count": 251,
          "metadata": {},
          "output_type": "execute_result"
        }
      ],
      "source": [
        "# -1 means \"whatever is needed to make the shape work\"- copilot. haha same as num_examples\n",
        "emb.view(-1, 6) == emb.reshape(num_examples, 6) "
      ]
    },
    {
      "cell_type": "code",
      "execution_count": 252,
      "metadata": {},
      "outputs": [
        {
          "data": {
            "text/plain": [
              "(tensor(-1.0000), tensor(1.0000))"
            ]
          },
          "execution_count": 252,
          "metadata": {},
          "output_type": "execute_result"
        }
      ],
      "source": [
        "# calculate the hidden layer\n",
        "h = emb.view(5, 6) @ W1 + b1\n",
        "h = torch.tanh(h)\n",
        "h.min(), h.max()"
      ]
    },
    {
      "cell_type": "code",
      "execution_count": 253,
      "metadata": {},
      "outputs": [],
      "source": [
        "# create the output layer\n",
        "W2 = torch.randn(100, 27)\n",
        "b2 = torch.randn(27) \n",
        "\n",
        "logits = h @ W2 + b2"
      ]
    },
    {
      "cell_type": "code",
      "execution_count": 254,
      "metadata": {},
      "outputs": [
        {
          "data": {
            "text/plain": [
              "torch.Size([5, 27])"
            ]
          },
          "execution_count": 254,
          "metadata": {},
          "output_type": "execute_result"
        }
      ],
      "source": [
        "logits.shape"
      ]
    },
    {
      "cell_type": "code",
      "execution_count": 255,
      "metadata": {},
      "outputs": [
        {
          "data": {
            "text/plain": [
              "(torch.Size([5, 27]), tensor([1.0000, 1.0000, 1.0000, 1.0000, 1.0000]))"
            ]
          },
          "execution_count": 255,
          "metadata": {},
          "output_type": "execute_result"
        }
      ],
      "source": [
        "# Let's get our fake counts and then normalize them into a probability distribution\n",
        "counts = logits.exp()\n",
        "prob = counts / counts.sum(1, keepdims=True)\n",
        "prob.shape, prob.sum(1)"
      ]
    },
    {
      "cell_type": "code",
      "execution_count": 256,
      "metadata": {},
      "outputs": [
        {
          "data": {
            "text/plain": [
              "[<matplotlib.lines.Line2D at 0x7fb708e59bb0>]"
            ]
          },
          "execution_count": 256,
          "metadata": {},
          "output_type": "execute_result"
        },
        {
          "data": {
            "image/png": "[encoded data removed]",
            "text/plain": [
              "<Figure size 640x480 with 1 Axes>"
            ]
          },
          "metadata": {},
          "output_type": "display_data"
        }
      ],
      "source": [
        "# Lets use y to get the actual probability\n",
        "pr_dist = prob[torch.arange(num_examples), Y]\n",
        "plt.plot(pr_dist)"
      ]
    },
    {
      "cell_type": "code",
      "execution_count": 257,
      "metadata": {},
      "outputs": [
        {
          "data": {
            "text/plain": [
              "tensor(29.7288)"
            ]
          },
          "execution_count": 257,
          "metadata": {},
          "output_type": "execute_result"
        }
      ],
      "source": [
        "# Now we can calculate the loss\n",
        "loss = -torch.log(pr_dist).mean()\n",
        "loss"
      ]
    },
    {
      "cell_type": "code",
      "execution_count": 258,
      "metadata": {},
      "outputs": [
        {
          "data": {
            "text/plain": [
              "tensor(29.7288)"
            ]
          },
          "execution_count": 258,
          "metadata": {},
          "output_type": "execute_result"
        }
      ],
      "source": [
        "F.cross_entropy(logits, Y)  # This is the same as the above"
      ]
    },
    {
      "cell_type": "code",
      "execution_count": 375,
      "metadata": {},
      "outputs": [
        {
          "name": "stdout",
          "output_type": "stream",
          "text": [
            "Epoch: 0, Loss: 17.555978775024414\n",
            "Epoch: 100, Loss: 3.6845951080322266\n",
            "Epoch: 200, Loss: 2.701594114303589\n",
            "Epoch: 300, Loss: 2.586404800415039\n",
            "Epoch: 400, Loss: 2.598540782928467\n",
            "Epoch: 500, Loss: 2.6223936080932617\n",
            "Epoch: 600, Loss: 2.5675251483917236\n",
            "Epoch: 700, Loss: 2.4360511302948\n",
            "Epoch: 800, Loss: 2.195204973220825\n",
            "Epoch: 900, Loss: 2.57855486869812\n",
            "Number of parameters: 398\n"
          ]
        },
        {
          "data": {
            "image/png": "[encoded data removed]",
            "text/plain": [
              "<Figure size 640x480 with 1 Axes>"
            ]
          },
          "metadata": {},
          "output_type": "display_data"
        }
      ],
      "source": [
        " # Create a function to train the model\n",
        "def train(names, lr=0.1, epochs=1000, batch_size=32):\n",
        "    loss_counts = []\n",
        "    num_names = len(names)\n",
        "\n",
        "    # Create a dictionary of characters and their indices\n",
        "    chars = sorted(list(set(''.join(names))))\n",
        "    char2idx = {c: i+1 for i, c in enumerate(chars)}\n",
        "    idx2char = {i+1: c for i, c in enumerate(chars)}\n",
        "    char2idx['.'] = 0  # ? andrej has this set to zero but doesn't that replace the first character in the alphabet?\n",
        "    idx2char[0] = '.'\n",
        "\n",
        "    # Build the dataset\n",
        "    block_size = 3 # context length: how many characters to consider before predicting the next character\n",
        "    X, Y = [], []\n",
        "\n",
        "    for name in names[:num_names]:\n",
        "        name = name + '.'\n",
        "        context = [0] * block_size      # The first context is a block of zeros which enables padding\n",
        "        for c in name:\n",
        "            X.append(context)\n",
        "            Y.append(char2idx[c])      # The next character is context[-1] (the last character in the context)\n",
        "            # print(''.join([idx2char[i] for i in context]), '->', c)\n",
        "            context = context[1:] + [char2idx[c]]   # Crop & shift the context by one character\n",
        "            \n",
        "    X = torch.tensor(X, dtype=torch.long)   # Should we be using long or ints?\n",
        "    Y = torch.tensor(Y, dtype=torch.long)\n",
        "    C = torch.randn((27, 2))    # Two dimensional embedding\n",
        "    emb = C[X]\n",
        "\n",
        "    # construct the hidden layer\n",
        "    W1 = torch.randn(6, 100)\n",
        "    b1 = torch.randn(100)\n",
        "\n",
        "    # construct the output layer\n",
        "    W2 = torch.randn(100, 27)\n",
        "    b2 = torch.randn(27) \n",
        "    \n",
        "    # Set the parameters to require gradients\n",
        "    parameters = [W1, b1, W2, b2, C]\n",
        "    for p in parameters:\n",
        "        p.requires_grad = True\n",
        "    \n",
        "    # Forward pass\n",
        "    for epoch in range(epochs):\n",
        "        # Get a random batch of names\n",
        "        rand_batch_idx = torch.randint(0, num_names, (batch_size,))\n",
        "        x_batch = X[rand_batch_idx]\n",
        "        y_batch = Y[rand_batch_idx]\n",
        "\n",
        "        # Embed the characters\n",
        "        emb = C[x_batch]\n",
        "        emb = emb.view(batch_size, 6)\n",
        "\n",
        "        # Calculate the hidden layer\n",
        "        h = torch.tanh(emb @ W1 + b1)\n",
        "        logits = h @ W2 + b2\n",
        "\n",
        "        # Calculate the loss\n",
        "        loss = F.cross_entropy(logits, y_batch)\n",
        "        loss_counts.append(loss.item())\n",
        "        \n",
        "        # Backward pass\n",
        "        loss.backward()\n",
        "        \n",
        "        # Update the weights\n",
        "        with torch.no_grad():\n",
        "            W1 -= lr * W1.grad\n",
        "            b1 -= lr * b1.grad\n",
        "            W2 -= lr * W2.grad\n",
        "            b2 -= lr * b2.grad\n",
        "            C -= lr * C.grad\n",
        "            \n",
        "        # Zero the gradients\n",
        "        W1.grad.zero_()\n",
        "        b1.grad.zero_()\n",
        "        W2.grad.zero_()\n",
        "        b2.grad.zero_()\n",
        "        C.grad.zero_()\n",
        "        \n",
        "        if epoch % 100 == 0:\n",
        "            print(f'Epoch: {epoch}, Loss: {loss.item()}')\n",
        "\n",
        "    # Calculate the number of parameters\n",
        "    batch_parameters = [W1, b1, W2, b2, emb]\n",
        "    num_parameters = 0\n",
        "    for p in batch_parameters:\n",
        "        for s in p.shape:\n",
        "            num_parameters += s\n",
        "    print('Number of parameters:', num_parameters)\n",
        "\n",
        "    # Plot the loss\n",
        "    plt.plot(loss_counts)\n",
        "    plt.xlabel('Epoch')\n",
        "    plt.ylabel('Loss')\n",
        "    plt.title(f'Loss over time')\n",
        "    plt.annotate(f'lr={lr}, batch_size={batch_size}, num_names={num_names}, min_loss={min(loss_counts):.3f}', (0, 0), (0, -40), xycoords='axes fraction', textcoords='offset points', va='top')\n",
        "\n",
        "    # Return the trained parameter weighst\n",
        "    return [C, W1, b1, W2, b2]\n",
        "\n",
        "names = open('names.txt', 'r').read().splitlines()\n",
        "weights = train(names)"
      ]
    },
    {
      "cell_type": "code",
      "execution_count": 337,
      "metadata": {},
      "outputs": [
        {
          "data": {
            "text/plain": [
              "torch.Size([27, 2])"
            ]
          },
          "execution_count": 337,
          "metadata": {},
          "output_type": "execute_result"
        }
      ],
      "source": [
        "[C, W1, b1, W2, b2] = weights\n",
        "C.shape"
      ]
    },
    {
      "cell_type": "code",
      "execution_count": 374,
      "metadata": {},
      "outputs": [
        {
          "data": {
            "text/plain": [
              "['ezyon',\n",
              " 'sareroe',\n",
              " 'voe',\n",
              " 'japoyn',\n",
              " 'belhe',\n",
              " 'nna',\n",
              " 'egefe',\n",
              " 'calin',\n",
              " 'kazec',\n",
              " 'cein']"
            ]
          },
          "execution_count": 374,
          "metadata": {},
          "output_type": "execute_result"
        }
      ],
      "source": [
        "# Sample from the model\n",
        "def sample(C, W1, b1, W2, b2, num_names=10):\n",
        "    context = [0] * 3\n",
        "    generated_names = []\n",
        "    for i in range(num_names):\n",
        "        # Sample a name from the starting context character (.)\n",
        "        context = [0] * 3\n",
        "        emb = C[context]\n",
        "        name = ''\n",
        "        while True:\n",
        "            # Embed the characters\n",
        "            emb = C[context]\n",
        "            emb = emb.view(-1, 6)\n",
        "\n",
        "            # Calculate the hidden layer\n",
        "            h = torch.tanh(emb @ W1 + b1)\n",
        "            logits = h @ W2 + b2\n",
        "\n",
        "            # Sample from the output layer\n",
        "            probs = logits.exp() / logits.exp().sum()\n",
        "            idx = torch.multinomial(probs, 1)\n",
        "\n",
        "            # Check if we're done\n",
        "            if idx2char[idx.item()] == '.':\n",
        "                generated_names.append(name)\n",
        "                break\n",
        "\n",
        "            # Add the character to the name\n",
        "            name += (idx2char[idx.item()])\n",
        "\n",
        "            # Update the context\n",
        "            context = context[1:] + [idx.item()]\n",
        "    \n",
        "    return generated_names\n",
        "\n",
        "sample(C, W1, b1, W2, b2)"
      ]
    },
    {
      "attachments": {},
      "cell_type": "markdown",
      "metadata": {},
      "source": [
        "### Sample names\n",
        "```\n",
        "['ezyon',\n",
        " 'sareroe',\n",
        " 'voe',\n",
        " 'japoyn',\n",
        " 'belhe',\n",
        " 'nna',\n",
        " 'egefe',\n",
        " 'calin',\n",
        " 'kazec',\n",
        " 'cein']\n",
        "```\n",
        "\n",
        "These names are 'name like' but I would've expected slightly better given we've traind on three context charactesr."
      ]
    },
    {
      "cell_type": "code",
      "execution_count": null,
      "metadata": {},
      "outputs": [],
      "source": []
    }
  ],
  "metadata": {
    "colab": {
      "authorship_tag": "ABX9TyOkY45OAMkpFzYuL1GYgdPQ",
      "include_colab_link": true,
      "provenance": []
    },
    "kernelspec": {
      "display_name": "base",
      "language": "python",
      "name": "python3"
    },
    "language_info": {
      "codemirror_mode": {
        "name": "ipython",
        "version": 3
      },
      "file_extension": ".py",
      "mimetype": "text/x-python",
      "name": "python",
      "nbconvert_exporter": "python",
      "pygments_lexer": "ipython3",
      "version": "3.9.13"
    },
    "vscode": {
      "interpreter": {
        "hash": "bebb980880604d236ddcb4913ad10a36ac6cae9759cdda587ed688a750b11c5c"
      }
    }
  },
  "nbformat": 4,
  "nbformat_minor": 0
}
