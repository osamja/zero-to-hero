{
  "cells": [
    {
      "cell_type": "markdown",
      "metadata": {
        "colab_type": "text",
        "id": "view-in-github"
      },
      "source": [
        "<a href=\"https://colab.research.google.com/github/osamja/zero-to-hero/blob/main/lecture_3/MLP.ipynb\" target=\"_parent\"><img src=\"https://colab.research.google.com/assets/colab-badge.svg\" alt=\"Open In Colab\"/></a>"
      ]
    },
    {
      "cell_type": "code",
      "execution_count": 102,
      "metadata": {
        "id": "5onyiSmq5Kqz"
      },
      "outputs": [],
      "source": [
        "import torch\n",
        "import torch.nn.functional as F\n",
        "import matplotlib.pyplot as plt\n",
        "%matplotlib inline"
      ]
    },
    {
      "attachments": {},
      "cell_type": "markdown",
      "metadata": {},
      "source": [
        "- Cheatsheet: https://github.com/karpathy/nn-zero-to-hero/blob/master/lectures/makemore/makemore_part2_mlp.ipynb\n"
      ]
    },
    {
      "cell_type": "code",
      "execution_count": 103,
      "metadata": {},
      "outputs": [],
      "source": [
        "# !wget https://raw.githubusercontent.com/karpathy/makemore/master/names.txt    # Uncomment to download names.txt\n",
        "names = open('names.txt', 'r').read().splitlines()"
      ]
    },
    {
      "cell_type": "code",
      "execution_count": 104,
      "metadata": {},
      "outputs": [],
      "source": [
        "# Create a dictionary of characters and their indices\n",
        "chars = sorted(list(set(''.join(names))))\n",
        "char2idx = {c: i+1 for i, c in enumerate(chars)}\n",
        "idx2char = {i+1: c for i, c in enumerate(chars)}\n",
        "\n",
        "char2idx['.'] = 0\n",
        "idx2char[0] = '.'"
      ]
    },
    {
      "cell_type": "code",
      "execution_count": 105,
      "metadata": {},
      "outputs": [
        {
          "name": "stdout",
          "output_type": "stream",
          "text": [
            "Number of examples: 5\n"
          ]
        }
      ],
      "source": [
        "# Build the dataset\n",
        "block_size = 3 # context length: how many characters to consider before predicting the next character\n",
        "X, Y = [], []\n",
        "\n",
        "for name in names[:1]:              # Let's just use the first name for now\n",
        "    name = name + '.'\n",
        "    context = [0] * block_size      # The first context is a block of zeros which enables padding\n",
        "    for c in name:\n",
        "        X.append(context)\n",
        "        Y.append(char2idx[c])      # The next character is context[-1] (the last character in the context)\n",
        "        # print(''.join([idx2char[i] for i in context]), '->', c)\n",
        "        context = context[1:] + [char2idx[c]]   # Crop & shift the context by one character\n",
        "        \n",
        "X = torch.tensor(X, dtype=torch.long)   # Should we be using long or ints?\n",
        "Y = torch.tensor(Y, dtype=torch.long)\n",
        "\n",
        "num_examples = X.shape[0]\n",
        "print('Number of examples:', num_examples)"
      ]
    },
    {
      "cell_type": "code",
      "execution_count": 146,
      "metadata": {},
      "outputs": [
        {
          "data": {
            "text/plain": [
              "tensor([True, True])"
            ]
          },
          "execution_count": 146,
          "metadata": {},
          "output_type": "execute_result"
        }
      ],
      "source": [
        "# Embed the characters\n",
        "x_enc = torch.nn.functional.one_hot(X, num_classes=27).float()\n",
        "\n",
        "C = torch.randn((27, 2))    # Two dimensional embedding\n",
        "C[5] == F.one_hot(torch.tensor(5), num_classes=27).float() @ C  # Check that the character lookup embedding is equivalent to one-hot encoding followed by matrix multiplication\n"
      ]
    },
    {
      "cell_type": "code",
      "execution_count": 147,
      "metadata": {},
      "outputs": [
        {
          "data": {
            "text/plain": [
              "tensor([-0.4175,  0.2453])"
            ]
          },
          "execution_count": 147,
          "metadata": {},
          "output_type": "execute_result"
        }
      ],
      "source": [
        "C[0]"
      ]
    },
    {
      "cell_type": "code",
      "execution_count": 149,
      "metadata": {},
      "outputs": [
        {
          "data": {
            "text/plain": [
              "(torch.Size([5, 3, 2]), torch.Size([27, 2]), torch.Size([5, 3]))"
            ]
          },
          "execution_count": 149,
          "metadata": {},
          "output_type": "execute_result"
        }
      ],
      "source": [
        "# wow this array indexing is so cool\n",
        "emb = C[X]\n",
        "emb.shape, C.shape, X.shape"
      ]
    },
    {
      "cell_type": "code",
      "execution_count": 108,
      "metadata": {},
      "outputs": [
        {
          "data": {
            "text/plain": [
              "tensor([1.5863, 0.7088])"
            ]
          },
          "execution_count": 108,
          "metadata": {},
          "output_type": "execute_result"
        }
      ],
      "source": [
        "emb[2][2]"
      ]
    },
    {
      "cell_type": "code",
      "execution_count": 109,
      "metadata": {},
      "outputs": [],
      "source": [
        "# construct the hidden layer\n",
        "W1 = torch.randn(6, 100)\n",
        "b1 = torch.randn(100)"
      ]
    },
    {
      "cell_type": "code",
      "execution_count": 110,
      "metadata": {},
      "outputs": [
        {
          "data": {
            "text/plain": [
              "tensor([[ 1.4029, -0.7571,  1.4029, -0.7571,  1.4029, -0.7571],\n",
              "        [ 1.4029, -0.7571,  1.4029, -0.7571,  1.2378, -0.3878],\n",
              "        [ 1.4029, -0.7571,  1.2378, -0.3878,  1.5863,  0.7088],\n",
              "        [ 1.2378, -0.3878,  1.5863,  0.7088,  1.5863,  0.7088],\n",
              "        [ 1.5863,  0.7088,  1.5863,  0.7088, -0.4075,  0.5170]])"
            ]
          },
          "execution_count": 110,
          "metadata": {},
          "output_type": "execute_result"
        }
      ],
      "source": [
        "res = emb.reshape(5, 6)\n",
        "res"
      ]
    },
    {
      "cell_type": "code",
      "execution_count": 111,
      "metadata": {},
      "outputs": [
        {
          "data": {
            "text/plain": [
              "tensor([[ 1.4029, -0.7571,  1.4029, -0.7571,  1.4029, -0.7571],\n",
              "        [ 1.4029, -0.7571,  1.4029, -0.7571,  1.2378, -0.3878],\n",
              "        [ 1.4029, -0.7571,  1.2378, -0.3878,  1.5863,  0.7088],\n",
              "        [ 1.2378, -0.3878,  1.5863,  0.7088,  1.5863,  0.7088],\n",
              "        [ 1.5863,  0.7088,  1.5863,  0.7088, -0.4075,  0.5170]])"
            ]
          },
          "execution_count": 111,
          "metadata": {},
          "output_type": "execute_result"
        }
      ],
      "source": [
        "emb.view(5, 6)"
      ]
    },
    {
      "cell_type": "code",
      "execution_count": 112,
      "metadata": {},
      "outputs": [
        {
          "data": {
            "text/plain": [
              "tensor([[True, True, True, True, True, True],\n",
              "        [True, True, True, True, True, True],\n",
              "        [True, True, True, True, True, True],\n",
              "        [True, True, True, True, True, True],\n",
              "        [True, True, True, True, True, True]])"
            ]
          },
          "execution_count": 112,
          "metadata": {},
          "output_type": "execute_result"
        }
      ],
      "source": [
        "# -1 means \"whatever is needed to make the shape work\"- copilot. haha same as num_examples\n",
        "emb.view(-1, 6) == emb.reshape(num_examples, 6) "
      ]
    },
    {
      "cell_type": "code",
      "execution_count": 113,
      "metadata": {},
      "outputs": [
        {
          "data": {
            "text/plain": [
              "(tensor(-1.0000), tensor(1.0000))"
            ]
          },
          "execution_count": 113,
          "metadata": {},
          "output_type": "execute_result"
        }
      ],
      "source": [
        "# calculate the hidden layer\n",
        "h = emb.view(5, 6) @ W1 + b1\n",
        "h = torch.tanh(h)\n",
        "h.min(), h.max()"
      ]
    },
    {
      "cell_type": "code",
      "execution_count": 114,
      "metadata": {},
      "outputs": [],
      "source": [
        "# create the output layer\n",
        "W2 = torch.randn(100, 27)\n",
        "b2 = torch.randn(27) \n",
        "\n",
        "logits = h @ W2 + b2"
      ]
    },
    {
      "cell_type": "code",
      "execution_count": 115,
      "metadata": {},
      "outputs": [
        {
          "data": {
            "text/plain": [
              "torch.Size([5, 27])"
            ]
          },
          "execution_count": 115,
          "metadata": {},
          "output_type": "execute_result"
        }
      ],
      "source": [
        "logits.shape"
      ]
    },
    {
      "cell_type": "code",
      "execution_count": 116,
      "metadata": {},
      "outputs": [
        {
          "data": {
            "text/plain": [
              "(torch.Size([5, 27]), tensor([1.0000, 1.0000, 1.0000, 1.0000, 1.0000]))"
            ]
          },
          "execution_count": 116,
          "metadata": {},
          "output_type": "execute_result"
        }
      ],
      "source": [
        "# Let's get our fake counts and then normalize them into a probability distribution\n",
        "counts = logits.exp()\n",
        "prob = counts / counts.sum(1, keepdims=True)\n",
        "prob.shape, prob.sum(1)"
      ]
    },
    {
      "cell_type": "code",
      "execution_count": 117,
      "metadata": {},
      "outputs": [
        {
          "data": {
            "text/plain": [
              "[<matplotlib.lines.Line2D at 0x7f79917a4370>]"
            ]
          },
          "execution_count": 117,
          "metadata": {},
          "output_type": "execute_result"
        },
        {
          "data": {
            "image/png": "[encoded data removed]",
            "text/plain": [
              "<Figure size 640x480 with 1 Axes>"
            ]
          },
          "metadata": {},
          "output_type": "display_data"
        }
      ],
      "source": [
        "# Lets use y to get the actual probability\n",
        "pr_dist = prob[torch.arange(num_examples), Y]\n",
        "plt.plot(pr_dist)"
      ]
    },
    {
      "cell_type": "code",
      "execution_count": 118,
      "metadata": {},
      "outputs": [
        {
          "data": {
            "text/plain": [
              "tensor(20.4956)"
            ]
          },
          "execution_count": 118,
          "metadata": {},
          "output_type": "execute_result"
        }
      ],
      "source": [
        "# Now we can calculate the loss\n",
        "loss = -torch.log(pr_dist).mean()\n",
        "loss"
      ]
    },
    {
      "cell_type": "code",
      "execution_count": 119,
      "metadata": {},
      "outputs": [
        {
          "data": {
            "text/plain": [
              "tensor(20.4956)"
            ]
          },
          "execution_count": 119,
          "metadata": {},
          "output_type": "execute_result"
        }
      ],
      "source": [
        "F.cross_entropy(logits, Y)  # This is the same as the above"
      ]
    },
    {
      "cell_type": "code",
      "execution_count": 120,
      "metadata": {},
      "outputs": [],
      "source": [
        "# Train the model from scratch\n",
        "weights = None"
      ]
    },
    {
      "cell_type": "code",
      "execution_count": 121,
      "metadata": {},
      "outputs": [],
      "source": [
        " # Create a function to train the model\n",
        "def train(names, weights=[], lr=0.1, epochs=1000, batch_size=32):\n",
        "    loss_counts = []\n",
        "    num_names = len(names)\n",
        "    \n",
        "    # Keep track of the learning rates\n",
        "    # lre = torch.linspace(-3, 0, epochs)\n",
        "    # lrs = 10 ** lre\n",
        "    # learning_rates = []\n",
        "\n",
        "    # Create a dictionary of characters and their indices\n",
        "    chars = sorted(list(set(''.join(names))))\n",
        "    char2idx = {c: i+1 for i, c in enumerate(chars)}\n",
        "    idx2char = {i+1: c for i, c in enumerate(chars)}\n",
        "    char2idx['.'] = 0  # ? andrej has this set to zero but doesn't that replace the first character in the alphabet?\n",
        "    idx2char[0] = '.'\n",
        "\n",
        "    # Build the dataset\n",
        "    \n",
        "    block_size = 3 # context length: how many characters to consider before predicting the next character\n",
        "    X, Y = [], []\n",
        "\n",
        "    for name in names[:num_names]:\n",
        "        name = name + '.'\n",
        "        context = [0] * block_size      # The first context is a block of zeros which enables padding\n",
        "        for c in name:\n",
        "            X.append(context)\n",
        "            Y.append(char2idx[c])      # The next character is context[-1] (the last character in the context)\n",
        "            # print(''.join([idx2char[i] for i in context]), '->', c)\n",
        "            context = context[1:] + [char2idx[c]]   # Crop & shift the context by one character\n",
        "            \n",
        "    X = torch.tensor(X, dtype=torch.long)   # Should we be using long or ints?\n",
        "    Y = torch.tensor(Y, dtype=torch.long)\n",
        "\n",
        "    # Create weights if they don't exist\n",
        "    if len(weights) == 0:\n",
        "        # Embed the characters\n",
        "        C = torch.randn((27, 2))    # Two dimensional embedding\n",
        "        emb = C[X]\n",
        "\n",
        "        # construct the hidden layer\n",
        "        W1 = torch.randn(6, 100)\n",
        "        b1 = torch.randn(100)\n",
        "\n",
        "        # construct the output layer\n",
        "        W2 = torch.randn(100, 27)\n",
        "        b2 = torch.randn(27) \n",
        "    else:   # Otherwise use the weights that were passed in\n",
        "        C, W1, b1, W2, b2 = weights\n",
        "\n",
        "    # Set the parameters to require gradients\n",
        "    parameters = [W1, b1, W2, b2, C]\n",
        "    for p in parameters:\n",
        "        p.requires_grad = True\n",
        "    \n",
        "    # Forward pass\n",
        "    for epoch in range(epochs):\n",
        "        # lr = lrs[epoch]\n",
        "        # Get a random batch of names\n",
        "        # learning_rates.append(lre[epoch])\n",
        "        rand_batch_idx = torch.randint(0, num_names, (batch_size,))\n",
        "        x_batch = X[rand_batch_idx]\n",
        "        y_batch = Y[rand_batch_idx]\n",
        "\n",
        "        # Embed the characters\n",
        "        emb = C[x_batch]\n",
        "        emb = emb.view(batch_size, 6)\n",
        "\n",
        "        # Calculate the hidden layer\n",
        "        h = torch.tanh(emb @ W1 + b1)\n",
        "        logits = h @ W2 + b2\n",
        "\n",
        "        # Calculate the loss\n",
        "        loss = F.cross_entropy(logits, y_batch)\n",
        "        loss_counts.append(loss.item())\n",
        "        \n",
        "        # Backward pass\n",
        "        loss.backward()\n",
        "        \n",
        "        # Update the weights\n",
        "        with torch.no_grad():\n",
        "            W1 -= lr * W1.grad\n",
        "            b1 -= lr * b1.grad\n",
        "            W2 -= lr * W2.grad\n",
        "            b2 -= lr * b2.grad\n",
        "            C -= lr * C.grad\n",
        "            \n",
        "        # Zero the gradients\n",
        "        W1.grad.zero_()\n",
        "        b1.grad.zero_()\n",
        "        W2.grad.zero_()\n",
        "        b2.grad.zero_()\n",
        "        C.grad.zero_()\n",
        "        \n",
        "        if epoch == 100 == 0:\n",
        "            print(f'Epoch: {epoch}, Loss: {loss.item()}')\n",
        "\n",
        "    # Calculate the number of parameters\n",
        "    batch_parameters = [W1, b1, W2, b2, emb]\n",
        "    num_parameters = 0\n",
        "    for p in batch_parameters:\n",
        "        for s in p.shape:\n",
        "            num_parameters += s\n",
        "    print('Number of parameters:', num_parameters)\n",
        "\n",
        "    # Plot the learning rates\n",
        "    # plt.plot(learning_rates, loss_counts)\n",
        "    # plt.xlabel('Learning rate')\n",
        "    # plt.ylabel('Loss')\n",
        "    # plt.title(f'Loss over learning rate')\n",
        "    # plt.show()\n",
        "\n",
        "\n",
        "    # Plot the loss\n",
        "    plt.plot(loss_counts)\n",
        "    plt.xlabel('Epoch')\n",
        "    plt.ylabel('Loss')\n",
        "    plt.title(f'Loss over time')\n",
        "    plt.annotate(f'lr={lr:.3f}, batch_size={batch_size}, num_names={num_names}, min_loss={min(loss_counts):.3f}', (0, 0), (0, -40), xycoords='axes fraction', textcoords='offset points', va='top')\n",
        "\n",
        "    # Return the trained parameter weighst\n",
        "    return [C, W1, b1, W2, b2]\n",
        "\n"
      ]
    },
    {
      "cell_type": "code",
      "execution_count": 122,
      "metadata": {},
      "outputs": [
        {
          "name": "stdout",
          "output_type": "stream",
          "text": [
            "Number of parameters: 398\n"
          ]
        },
        {
          "data": {
            "image/png": "[encoded data removed]",
            "text/plain": [
              "<Figure size 640x480 with 1 Axes>"
            ]
          },
          "metadata": {},
          "output_type": "display_data"
        }
      ],
      "source": [
        "names = open('names.txt', 'r').read().splitlines()\n",
        "weights = train(names)"
      ]
    },
    {
      "cell_type": "code",
      "execution_count": 123,
      "metadata": {},
      "outputs": [
        {
          "name": "stdout",
          "output_type": "stream",
          "text": [
            "Number of parameters: 398\n"
          ]
        },
        {
          "data": {
            "image/png": "[encoded data removed]",
            "text/plain": [
              "<Figure size 640x480 with 1 Axes>"
            ]
          },
          "metadata": {},
          "output_type": "display_data"
        }
      ],
      "source": [
        "weights = train(names, weights=weights, lr=0.001, epochs=1000, batch_size=32)"
      ]
    },
    {
      "cell_type": "code",
      "execution_count": null,
      "metadata": {},
      "outputs": [],
      "source": []
    },
    {
      "cell_type": "code",
      "execution_count": 124,
      "metadata": {},
      "outputs": [
        {
          "data": {
            "text/plain": [
              "torch.Size([27, 2])"
            ]
          },
          "execution_count": 124,
          "metadata": {},
          "output_type": "execute_result"
        }
      ],
      "source": [
        "[C, W1, b1, W2, b2] = weights\n",
        "C.shape"
      ]
    },
    {
      "cell_type": "code",
      "execution_count": 125,
      "metadata": {},
      "outputs": [
        {
          "data": {
            "text/plain": [
              "['lob',\n",
              " 'abitleel',\n",
              " 'naammiein',\n",
              " 'ileak',\n",
              " 'eac',\n",
              " 'iarigt',\n",
              " 'sue',\n",
              " 'awa',\n",
              " 'aniasi',\n",
              " 'yutzlictydelnt']"
            ]
          },
          "execution_count": 125,
          "metadata": {},
          "output_type": "execute_result"
        }
      ],
      "source": [
        "# Sample from the model\n",
        "def sample(C, W1, b1, W2, b2, num_names=10):\n",
        "    block_size = 3\n",
        "    context = [0] * block_size\n",
        "    generated_names = []\n",
        "    K = 2\n",
        "    layer_size = K * block_size\n",
        "    for i in range(num_names):\n",
        "        # Sample a name from the starting context character (.)\n",
        "        context = [0] * block_size\n",
        "        emb = C[context]\n",
        "        name = ''\n",
        "        while True:\n",
        "            # Embed the characters\n",
        "            emb = C[context]\n",
        "            emb = emb.view(-1, layer_size)\n",
        "\n",
        "            # Calculate the hidden layer\n",
        "            h = torch.tanh(emb @ W1 + b1)\n",
        "            logits = h @ W2 + b2\n",
        "\n",
        "            # Sample from the output layer\n",
        "            probs = logits.exp() / logits.exp().sum()\n",
        "            idx = torch.multinomial(probs, 1)\n",
        "\n",
        "            # Check if we're done\n",
        "            if idx2char[idx.item()] == '.':\n",
        "                generated_names.append(name)\n",
        "                break\n",
        "\n",
        "            # Add the character to the name\n",
        "            name += (idx2char[idx.item()])\n",
        "\n",
        "            # Update the context\n",
        "            context = context[1:] + [idx.item()]\n",
        "    \n",
        "    return generated_names\n",
        "\n",
        "sample(C, W1, b1, W2, b2)"
      ]
    },
    {
      "attachments": {},
      "cell_type": "markdown",
      "metadata": {},
      "source": [
        "### Sample names\n",
        "```\n",
        "['ezyon',\n",
        " 'sareroe',\n",
        " 'voe',\n",
        " 'japoyn',\n",
        " 'belhe',\n",
        " 'nna',\n",
        " 'egefe',\n",
        " 'calin',\n",
        " 'kazec',\n",
        " 'cein']\n",
        "```\n",
        "\n",
        "These names are 'name like' but I would've expected slightly better given we've traind on three context charactesr."
      ]
    },
    {
      "attachments": {},
      "cell_type": "markdown",
      "metadata": {},
      "source": [
        "- To counteract a model that is overfitted to our data, we can create a train, validation/dev, and test split."
      ]
    },
    {
      "cell_type": "code",
      "execution_count": 126,
      "metadata": {},
      "outputs": [],
      "source": [
        "# create the training, validation, and test sets\n",
        "names = open('names.txt', 'r').read().splitlines()\n",
        "num_names = len(names)\n",
        "# shuffle the names\n",
        "import random\n",
        "random.shuffle(names)\n",
        "num_train = int(num_names * 0.8)\n",
        "num_val = int(num_names * 0.1)\n",
        "num_test = num_names - num_train - num_val\n",
        "\n",
        "train_names = names[:num_train]\n",
        "val_names = names[num_train:num_train+num_val]\n",
        "test_names = names[num_train+num_val:]\n",
        "\n",
        "\n"
      ]
    },
    {
      "cell_type": "code",
      "execution_count": 127,
      "metadata": {},
      "outputs": [
        {
          "name": "stdout",
          "output_type": "stream",
          "text": [
            "Number of parameters: 398\n",
            "Generated names:\n",
            "ahakeh\n",
            "ren\n",
            "mav\n",
            "aoy\n",
            "fverraerle\n",
            "sah\n",
            "cah\n",
            "zaadaneinenney\n",
            "says\n",
            "rnoyganasan\n"
          ]
        },
        {
          "data": {
            "image/png": "[encoded data removed]",
            "text/plain": [
              "<Figure size 640x480 with 1 Axes>"
            ]
          },
          "metadata": {},
          "output_type": "display_data"
        }
      ],
      "source": [
        "# Train the model\n",
        "weights = train(train_names, lr=0.1, epochs=1000, batch_size=32)\n",
        "\n",
        "# Sample from the model\n",
        "generated_names = sample(*weights, num_names=10)\n",
        "\n",
        "# Print the generated names\n",
        "print('Generated names:')\n",
        "for name in generated_names:\n",
        "    print(name)"
      ]
    },
    {
      "cell_type": "code",
      "execution_count": 128,
      "metadata": {},
      "outputs": [
        {
          "name": "stdout",
          "output_type": "stream",
          "text": [
            "Loss: 2.7175076007843018\n",
            "x: tensor([[ 0,  0,  0],\n",
            "        [ 0,  0,  2],\n",
            "        [ 0,  2,  1],\n",
            "        ...,\n",
            "        [ 8,  9, 18],\n",
            "        [ 9, 18,  1],\n",
            "        [18,  1, 14]])\n",
            "y: tensor([ 2,  1, 18,  ...,  1, 14,  0])\n",
            "idx: tensor([18, 18, 18,  ...,  0,  0,  0])\n",
            "Accuracy: 0.2166233452878404\n"
          ]
        }
      ],
      "source": [
        "# Calculate the accuracy on the validation set\n",
        "[C, W1, b1, W2, b2] = weights\n",
        "correct = 0\n",
        "total = 0\n",
        "\n",
        "x,y = [], []\n",
        "for name in train_names:\n",
        "    # Convert the name to a tensor\n",
        "    # Build the dataset\n",
        "    block_size = 3 # context length: how many characters to consider before predicting the next character\n",
        "    name = name + '.'\n",
        "    context = [0] * block_size      # The first context is a block of zeros which enables padding\n",
        "\n",
        "    for c in name:\n",
        "        x.append(context)\n",
        "        y.append(char2idx[c])      # The next character is context[-1] (the last character in the context)\n",
        "        context = context[1:] + [char2idx[c]]   # Crop & shift the context by one character\n",
        "            \n",
        "x = torch.tensor(x, dtype=torch.long)   # Should we be using long or ints?\n",
        "y = torch.tensor(y, dtype=torch.long)\n",
        "\n",
        "# Embed the characters\n",
        "emb = C[x]\n",
        "emb = emb.view(-1, 6)\n",
        "\n",
        "# Calculate the hidden layer\n",
        "h = torch.tanh(emb @ W1 + b1)\n",
        "logits = h @ W2 + b2\n",
        "\n",
        "# Calculate the loss\n",
        "loss = F.cross_entropy(logits, y)\n",
        "\n",
        "print('Loss:', loss.item())\n",
        "\n",
        "# Calculate the accuracy\n",
        "probs = logits.exp() / logits.exp().sum()\n",
        "idx = torch.argmax(probs, 1)\n",
        "\n",
        "correct += (idx == y).sum().item()\n",
        "total += len(y)\n",
        "\n",
        "print('x:', x)\n",
        "print('y:', y)\n",
        "print('idx:', idx)\n",
        "\n",
        "\n",
        "print('Accuracy:', correct / total)\n"
      ]
    },
    {
      "attachments": {},
      "cell_type": "markdown",
      "metadata": {},
      "source": [
        "Our loss for the train, validation, and test sets are so close that our model is actually underfitting.  To counteract this, we can expand our neural network to overit our model to our training data."
      ]
    },
    {
      "cell_type": "code",
      "execution_count": 129,
      "metadata": {},
      "outputs": [
        {
          "name": "stdout",
          "output_type": "stream",
          "text": [
            "Epoch: 0, Loss: 54.510780334472656\n",
            "Epoch: 100, Loss: 12.55130386352539\n",
            "Epoch: 200, Loss: 11.940763473510742\n",
            "Epoch: 300, Loss: 6.486308574676514\n",
            "Epoch: 400, Loss: 6.32669734954834\n",
            "Epoch: 500, Loss: 6.866593360900879\n",
            "Epoch: 600, Loss: 7.9023942947387695\n",
            "Epoch: 700, Loss: 4.705204963684082\n",
            "Epoch: 800, Loss: 7.653514385223389\n",
            "Epoch: 900, Loss: 5.917499542236328\n",
            "Epoch: 1000, Loss: 5.693940162658691\n",
            "Epoch: 1100, Loss: 6.220512390136719\n",
            "Epoch: 1200, Loss: 6.301297664642334\n",
            "Epoch: 1300, Loss: 6.508129596710205\n",
            "Epoch: 1400, Loss: 6.639739513397217\n",
            "Epoch: 1500, Loss: 5.129456996917725\n",
            "Epoch: 1600, Loss: 7.209167003631592\n",
            "Epoch: 1700, Loss: 3.966110944747925\n",
            "Epoch: 1800, Loss: 5.988818168640137\n",
            "Epoch: 1900, Loss: 5.268300533294678\n",
            "Epoch: 2000, Loss: 5.555890083312988\n",
            "Epoch: 2100, Loss: 5.366042613983154\n",
            "Epoch: 2200, Loss: 5.399162292480469\n",
            "Epoch: 2300, Loss: 5.044149875640869\n",
            "Epoch: 2400, Loss: 4.708813667297363\n",
            "Epoch: 2500, Loss: 4.231750011444092\n",
            "Epoch: 2600, Loss: 5.50528621673584\n",
            "Epoch: 2700, Loss: 4.584208965301514\n",
            "Epoch: 2800, Loss: 6.976203918457031\n",
            "Epoch: 2900, Loss: 5.086546421051025\n",
            "Epoch: 3000, Loss: 4.730686187744141\n",
            "Epoch: 3100, Loss: 6.178600311279297\n",
            "Epoch: 3200, Loss: 4.6449384689331055\n",
            "Epoch: 3300, Loss: 4.5885090827941895\n",
            "Epoch: 3400, Loss: 5.154428958892822\n",
            "Epoch: 3500, Loss: 4.432703971862793\n",
            "Epoch: 3600, Loss: 6.639823913574219\n",
            "Epoch: 3700, Loss: 4.542328357696533\n",
            "Epoch: 3800, Loss: 4.245498180389404\n",
            "Epoch: 3900, Loss: 3.934657573699951\n",
            "Epoch: 4000, Loss: 4.406587600708008\n",
            "Epoch: 4100, Loss: 4.790670871734619\n",
            "Epoch: 4200, Loss: 6.02971887588501\n",
            "Epoch: 4300, Loss: 6.3572869300842285\n",
            "Epoch: 4400, Loss: 4.409575939178467\n",
            "Epoch: 4500, Loss: 4.860455513000488\n",
            "Epoch: 4600, Loss: 3.8717408180236816\n",
            "Epoch: 4700, Loss: 4.203807353973389\n",
            "Epoch: 4800, Loss: 4.572166919708252\n",
            "Epoch: 4900, Loss: 4.234882354736328\n",
            "Epoch: 5000, Loss: 3.7931981086730957\n",
            "Epoch: 5100, Loss: 4.53082799911499\n",
            "Epoch: 5200, Loss: 4.049063205718994\n",
            "Epoch: 5300, Loss: 3.95011305809021\n",
            "Epoch: 5400, Loss: 4.432399272918701\n",
            "Epoch: 5500, Loss: 5.21983528137207\n",
            "Epoch: 5600, Loss: 3.6687357425689697\n",
            "Epoch: 5700, Loss: 4.973092555999756\n",
            "Epoch: 5800, Loss: 4.2358903884887695\n",
            "Epoch: 5900, Loss: 5.596798896789551\n",
            "Epoch: 6000, Loss: 5.786337375640869\n",
            "Epoch: 6100, Loss: 3.9411861896514893\n",
            "Epoch: 6200, Loss: 3.7444276809692383\n",
            "Epoch: 6300, Loss: 3.892605781555176\n",
            "Epoch: 6400, Loss: 5.358160495758057\n",
            "Epoch: 6500, Loss: 4.450952529907227\n",
            "Epoch: 6600, Loss: 3.2130072116851807\n",
            "Epoch: 6700, Loss: 4.553499221801758\n",
            "Epoch: 6800, Loss: 4.11397123336792\n",
            "Epoch: 6900, Loss: 3.8767800331115723\n",
            "Epoch: 7000, Loss: 3.5213842391967773\n",
            "Epoch: 7100, Loss: 3.868694543838501\n",
            "Epoch: 7200, Loss: 5.07164192199707\n",
            "Epoch: 7300, Loss: 5.144896984100342\n",
            "Epoch: 7400, Loss: 4.4413161277771\n",
            "Epoch: 7500, Loss: 4.060727119445801\n",
            "Epoch: 7600, Loss: 5.380807876586914\n",
            "Epoch: 7700, Loss: 3.312401294708252\n",
            "Epoch: 7800, Loss: 4.6747727394104\n",
            "Epoch: 7900, Loss: 4.648970127105713\n",
            "Epoch: 8000, Loss: 4.006760120391846\n",
            "Epoch: 8100, Loss: 3.1773905754089355\n",
            "Epoch: 8200, Loss: 3.6780049800872803\n",
            "Epoch: 8300, Loss: 3.6207540035247803\n",
            "Epoch: 8400, Loss: 3.2222137451171875\n",
            "Epoch: 8500, Loss: 4.122818946838379\n",
            "Epoch: 8600, Loss: 3.4050204753875732\n",
            "Epoch: 8700, Loss: 3.5545947551727295\n",
            "Epoch: 8800, Loss: 3.3028526306152344\n",
            "Epoch: 8900, Loss: 4.767669200897217\n",
            "Epoch: 9000, Loss: 4.020771026611328\n",
            "Epoch: 9100, Loss: 3.839815139770508\n",
            "Epoch: 9200, Loss: 3.3678901195526123\n",
            "Epoch: 9300, Loss: 3.4498038291931152\n",
            "Epoch: 9400, Loss: 3.5111277103424072\n",
            "Epoch: 9500, Loss: 3.5885276794433594\n",
            "Epoch: 9600, Loss: 3.528731107711792\n",
            "Epoch: 9700, Loss: 3.677245616912842\n",
            "Epoch: 9800, Loss: 3.6521213054656982\n",
            "Epoch: 9900, Loss: 3.3238070011138916\n"
          ]
        },
        {
          "data": {
            "image/png": "[encoded data removed]",
            "text/plain": [
              "<Figure size 640x480 with 1 Axes>"
            ]
          },
          "metadata": {},
          "output_type": "display_data"
        }
      ],
      "source": [
        " # Create a function to train the model\n",
        "def train(names=train_names, weights=[], lr=0.1, epochs=10000, batch_size=64):\n",
        "    loss_counts = []\n",
        "    num_names = len(names)\n",
        "\n",
        "    # Create a dictionary of characters and their indices\n",
        "    chars = sorted(list(set(''.join(names))))\n",
        "    char2idx = {c: i+1 for i, c in enumerate(chars)}\n",
        "    idx2char = {i+1: c for i, c in enumerate(chars)}\n",
        "    char2idx['.'] = 0\n",
        "    idx2char[0] = '.'\n",
        "\n",
        "    # Build the dataset\n",
        "    block_size = 3 # context length: how many characters to consider before predicting the next character\n",
        "    X, Y = [], []\n",
        "\n",
        "    for name in names[:num_names]:\n",
        "        name = name + '.'\n",
        "        context = [0] * block_size      # The first context is a block of zeros which enables padding\n",
        "        for c in name:\n",
        "            X.append(context)\n",
        "            Y.append(char2idx[c])      # The next character is context[-1] (the last character in the context)\n",
        "            context = context[1:] + [char2idx[c]]   # Crop & shift the context by one character\n",
        "            \n",
        "    X = torch.tensor(X, dtype=torch.long)   # Should we be using long or ints?\n",
        "    Y = torch.tensor(Y, dtype=torch.long)\n",
        "\n",
        "    # Create weights if they don't exist\n",
        "    if len(weights) == 0:\n",
        "        # Embed the characters\n",
        "        C = torch.randn((27, 2))    # Two dimensional embedding\n",
        "        emb = C[X]\n",
        "\n",
        "        # construct the hidden layer\n",
        "        W1 = torch.randn(6, 1000)\n",
        "        b1 = torch.randn(1000)\n",
        "\n",
        "        # construct the output layer\n",
        "        W2 = torch.randn(1000, 27)\n",
        "        b2 = torch.randn(27) \n",
        "    else:   # Otherwise use the weights that were passed in\n",
        "        C, W1, b1, W2, b2 = weights\n",
        "\n",
        "    # Set the parameters to require gradients\n",
        "    parameters = [W1, b1, W2, b2, C]\n",
        "    for p in parameters:\n",
        "        p.requires_grad = True\n",
        "    \n",
        "    # Forward pass\n",
        "    for epoch in range(epochs):\n",
        "        rand_batch_idx = torch.randint(0, num_names, (batch_size,))\n",
        "        x_batch = X[rand_batch_idx]\n",
        "        y_batch = Y[rand_batch_idx]\n",
        "\n",
        "        # Embed the characters\n",
        "        emb = C[x_batch]\n",
        "        emb = emb.view(-1, 6)\n",
        "\n",
        "        # Calculate the hidden layer\n",
        "        h = torch.tanh(emb @ W1 + b1)\n",
        "        logits = h @ W2 + b2\n",
        "\n",
        "        # Calculate the loss\n",
        "        loss = F.cross_entropy(logits, y_batch)\n",
        "        loss_counts.append(loss.item())\n",
        "        \n",
        "        # Backward pass\n",
        "        loss.backward()\n",
        "        \n",
        "        # Update the weights\n",
        "        with torch.no_grad():\n",
        "            W1 -= lr * W1.grad\n",
        "            b1 -= lr * b1.grad\n",
        "            W2 -= lr * W2.grad\n",
        "            b2 -= lr * b2.grad\n",
        "            C -= lr * C.grad\n",
        "            \n",
        "        # Zero the gradients\n",
        "        W1.grad.zero_()\n",
        "        b1.grad.zero_()\n",
        "        W2.grad.zero_()\n",
        "        b2.grad.zero_()\n",
        "        C.grad.zero_()\n",
        "        \n",
        "        if epoch % 100 == 0:\n",
        "            print(f'Epoch: {epoch}, Loss: {loss.item()}')\n",
        "\n",
        "    # Plot the loss\n",
        "    plt.plot(loss_counts)\n",
        "    plt.xlabel('Epoch')\n",
        "    plt.ylabel('Loss')\n",
        "    plt.title(f'Loss over time')\n",
        "    plt.annotate(f'lr={lr:.3f}, batch_size={batch_size}, num_names={num_names}, min_loss={min(loss_counts):.3f}', (0, 0), (0, -40), xycoords='axes fraction', textcoords='offset points', va='top')\n",
        "\n",
        "    # Return the trained parameter weighst\n",
        "    return [C, W1, b1, W2, b2]\n",
        "\n",
        "weights = train()"
      ]
    },
    {
      "cell_type": "code",
      "execution_count": 130,
      "metadata": {},
      "outputs": [],
      "source": [
        "val_losses = []"
      ]
    },
    {
      "attachments": {},
      "cell_type": "markdown",
      "metadata": {},
      "source": [
        "# Exercises:\n",
        "- E01: Tune the hyperparameters of the training to beat my best validation loss of 2.2\n",
        "- E02: I was not careful with the intialization of the network in this video. (1) What is the loss you'd get if the predicted probabilities at initialization were perfectly uniform? What loss do we achieve? (2) Can you tune the initialization to get a starting loss that is much more similar to (1)?\n",
        "- E03: Read the Bengio et al 2003 paper (link above), implement and try any idea from the paper. Did it work?"
      ]
    },
    {
      "attachments": {},
      "cell_type": "markdown",
      "metadata": {},
      "source": [
        "### Exercise 1: \n",
        "- Tune the hyperparameters of the training to beat my best validation loss of 2.2"
      ]
    },
    {
      "cell_type": "code",
      "execution_count": 131,
      "metadata": {},
      "outputs": [],
      "source": [
        "import random\n",
        "\n",
        "names = open('names.txt', 'r').read().splitlines()\n",
        "num_names = len(names)\n",
        "\n",
        "# shuffle the names\n",
        "random.shuffle(names)\n",
        "num_train = int(num_names * 0.8)\n",
        "num_val = int(num_names * 0.1)\n",
        "num_test = num_names - num_train - num_val\n",
        "\n",
        "# create the training, validation, and test sets\n",
        "train_names = names[:num_train]\n",
        "val_names = names[num_train:num_train+num_val]\n",
        "test_names = names[num_train+num_val:]"
      ]
    },
    {
      "cell_type": "code",
      "execution_count": 132,
      "metadata": {},
      "outputs": [],
      "source": [
        "# Create a function to train the model\n",
        "# names: the names to train on\n",
        "# hyperparams: a dictionary of hyperparameters\n",
        "#   K: character embedding dimension\n",
        "#   neurons: the number of neurons in the hidden layer\n",
        "#   block_size: the number of characters to consider before predicting the next character\n",
        "#   epochs: the number of epochs to train for\n",
        "#   lr: the learning rate\n",
        "#   batch_size: the batch size\n",
        "# weights: the weights to use for the model\n",
        "def train(\n",
        "    names,\n",
        "    hyperparams,\n",
        "    weights=[],\n",
        "):\n",
        "    # Unpack the hyperparameters from the dictionary\n",
        "    K = hyperparams['K']\n",
        "    neurons = hyperparams['neurons']\n",
        "    block_size = hyperparams['block_size']\n",
        "    epochs = hyperparams['epochs']\n",
        "    lr = hyperparams['lr']\n",
        "    batch_size = hyperparams['batch_size']\n",
        "\n",
        "    adjustment_epoch = epochs // 2\n",
        "    layer_size = K * block_size\n",
        "    loss_counts = []\n",
        "    num_names = len(names)\n",
        "    \n",
        "    print(f'K={K}, neurons={neurons}, block_size={block_size}, epochs={epochs}, lr={lr}, batch_size={batch_size}')\n",
        "\n",
        "    # Create a dictionary of characters and their indices\n",
        "    chars = sorted(list(set(''.join(names))))\n",
        "    char2idx = {c: i+1 for i, c in enumerate(chars)}\n",
        "    idx2char = {i+1: c for i, c in enumerate(chars)}\n",
        "    char2idx['.'] = 0\n",
        "    idx2char[0] = '.'\n",
        "\n",
        "    # Build the dataset\n",
        "    X, Y = [], []\n",
        "\n",
        "    for name in names[:num_names]:\n",
        "        name = name + '.'\n",
        "        context = [0] * block_size      # The first context is a block of zeros which enables padding\n",
        "        for c in name:\n",
        "            X.append(context)\n",
        "            Y.append(char2idx[c])      # The next character is context[-1] (the last character in the context)\n",
        "            context = context[1:] + [char2idx[c]]   # Crop & shift the context by one character\n",
        "            \n",
        "    X = torch.tensor(X, dtype=torch.long)\n",
        "    Y = torch.tensor(Y, dtype=torch.long)\n",
        "\n",
        "    # Embed the characters\n",
        "    C = torch.randn((27, K))    # Two dimensional embedding -> 3D -> \n",
        "    emb = C[X]\n",
        "\n",
        "    # construct the first hidden layer\n",
        "    W1 = torch.randn(layer_size, neurons)\n",
        "    b1 = torch.randn(neurons)\n",
        "\n",
        "    # construct the output layer\n",
        "    W2 = torch.randn(neurons, 27)\n",
        "    b2 = torch.randn(27) \n",
        "\n",
        "    # Set the parameters to require gradients\n",
        "    parameters = [W1, b1, W2, b2, C]\n",
        "    for p in parameters:\n",
        "        p.requires_grad = True\n",
        "    \n",
        "    # Forward pass\n",
        "    for epoch in range(epochs):\n",
        "        # Tune the learning rate and batch size\n",
        "        if epoch == adjustment_epoch:\n",
        "            lr = lr / 10\n",
        "            batch_size = batch_size * 10\n",
        "            print(f'Adjusting learning rate to {lr}, batch_size={batch_size}')\n",
        "        elif epoch == epochs-5000:\n",
        "            lr = lr / 10\n",
        "            batch_size = batch_size * 10\n",
        "            print(f'Adjusting learning rate to {lr}, batch_size={batch_size}')\n",
        "\n",
        "        rand_batch_idx = torch.randint(0, num_names, (batch_size,))\n",
        "        x_batch = X[rand_batch_idx]\n",
        "        y_batch = Y[rand_batch_idx]\n",
        "\n",
        "        # Embed the characters\n",
        "        emb = C[x_batch]\n",
        "        emb = emb.view(-1, layer_size)\n",
        "\n",
        "        # Calculate the first hidden layer\n",
        "        h = torch.tanh(emb @ W1 + b1)\n",
        "        logits = h @ W2 + b2\n",
        "\n",
        "        # Calculate the loss\n",
        "        loss = F.cross_entropy(logits, y_batch)\n",
        "        loss_counts.append(loss.item())\n",
        "        \n",
        "        # Backward pass\n",
        "        loss.backward()\n",
        "        \n",
        "        # Update the weights\n",
        "        with torch.no_grad():\n",
        "            W1 -= lr * W1.grad\n",
        "            b1 -= lr * b1.grad\n",
        "            W2 -= lr * W2.grad\n",
        "            b2 -= lr * b2.grad\n",
        "            C -= lr * C.grad\n",
        "            \n",
        "        # Zero the gradients\n",
        "        W1.grad.zero_()\n",
        "        b1.grad.zero_()\n",
        "        W2.grad.zero_()\n",
        "        b2.grad.zero_()\n",
        "        C.grad.zero_()\n",
        "\n",
        "    weights = [C, W1, b1, W2, b2]\n",
        "    # print(f'lr={lr:.3f}, batch_size={batch_size}, num_names={num_names}, min_loss={min(loss_counts):.3f}, K={K}, neurons={neurons}, block_size={block_size}, epochs={epochs}')\n",
        "\n",
        "    # Plot the loss\n",
        "    plt.plot(loss_counts)\n",
        "    plt.xlabel('Epoch')\n",
        "    plt.ylabel('Loss')\n",
        "    plt.title(f'Loss over time')\n",
        "    # plt.annotate(f'lr={lr:.3f}, batch_size={batch_size}, num_names={num_names}, min_loss={min(loss_counts):.3f}', (0, 0), (0, -40), xycoords='axes fraction', textcoords='offset points', va='top')\n",
        "\n",
        "    # Return the trained parameter weighst\n",
        "    return weights"
      ]
    },
    {
      "cell_type": "code",
      "execution_count": 133,
      "metadata": {},
      "outputs": [],
      "source": [
        "# Evaluate the hopefully overfitted model\n",
        "def evaluate(names, weights):\n",
        "    C, W1, b1, W2, b2 = weights\n",
        "    num_names = len(names)\n",
        "    block_size = C.shape[1]\n",
        "    layer_size = W1.shape[0]\n",
        "\n",
        "    # Build the dataset\n",
        "    X, Y = [], []\n",
        "\n",
        "    for name in names[:num_names]:\n",
        "        name = name + '.'\n",
        "        context = [0] * block_size      # The first context is a block of zeros which enables padding\n",
        "        for c in name:\n",
        "            X.append(context)\n",
        "            Y.append(char2idx[c])      # The next character is context[-1] (the last character in the context)\n",
        "            context = context[1:] + [char2idx[c]]   # Crop & shift the context by one character\n",
        "            \n",
        "    X = torch.tensor(X, dtype=torch.long)   # Should we be using long or ints?\n",
        "    Y = torch.tensor(Y, dtype=torch.long)\n",
        "    \n",
        "    # Embed the characters\n",
        "    emb = C[X]\n",
        "    emb = emb.view(-1, layer_size)\n",
        "    h = torch.tanh(emb @ W1 + b1)\n",
        "    logits = h @ W2 + b2\n",
        "\n",
        "    # Calculate the loss\n",
        "    loss = F.cross_entropy(logits, Y)\n",
        "    \n",
        "    return loss.item()\n"
      ]
    },
    {
      "cell_type": "code",
      "execution_count": 134,
      "metadata": {},
      "outputs": [
        {
          "name": "stdout",
          "output_type": "stream",
          "text": [
            "K=4, neurons=800, block_size=4, epochs=1000, lr=0.1, batch_size=32\n",
            "Adjusting learning rate to 0.01, batch_size=320\n"
          ]
        },
        {
          "data": {
            "image/png": "[encoded data removed]",
            "text/plain": [
              "<Figure size 640x480 with 1 Axes>"
            ]
          },
          "metadata": {},
          "output_type": "display_data"
        }
      ],
      "source": [
        "hyperparams = {\n",
        "    'epochs':1000,\n",
        "    'K': 4,\n",
        "    'neurons': 800,\n",
        "    'block_size': 4,\n",
        "    'lr': 0.1,\n",
        "    'batch_size': 32,\n",
        "}\n",
        "\n",
        "# Train the model with the best hyperparameters on the training set\n",
        "weights = train(\n",
        "    train_names,\n",
        "    hyperparams\n",
        ")"
      ]
    },
    {
      "cell_type": "code",
      "execution_count": 135,
      "metadata": {},
      "outputs": [],
      "source": [
        "# Evaluate the model on the validation set\n",
        "val_loss = evaluate(val_names, weights)\n",
        "val_losses.append((val_loss, hyperparams))"
      ]
    },
    {
      "cell_type": "code",
      "execution_count": 136,
      "metadata": {},
      "outputs": [
        {
          "name": "stdout",
          "output_type": "stream",
          "text": [
            "val_loss=3.011 \n",
            "hyperparams={'epochs': 1000, 'K': 4, 'neurons': 800, 'block_size': 4, 'lr': 0.1, 'batch_size': 32}\n",
            "\n"
          ]
        }
      ],
      "source": [
        "for val_loss in val_losses:\n",
        "    (loss, hyperparams) = val_loss\n",
        "    print(f'val_loss={loss:.3f} \\nhyperparams={hyperparams}\\n')"
      ]
    },
    {
      "attachments": {},
      "cell_type": "markdown",
      "metadata": {},
      "source": [
        "### Minimizing Validation Loss\n",
        "\n",
        "\n",
        "The best I was able to do was a validation loss of 2.254 with the following hyperparams\n",
        "hyperparams={'epochs': 50000, 'K': 4, 'neurons': 800, 'block_size': 4, 'lr': 0.1, 'batch_size': 32}.  Where K is the character embedding dimension size.\n",
        "\n",
        "Although I was getting close to 2.2, I made the following enhancements to tune my validation loss\n",
        "- Slowed the learning rate and increased the batch size towards the last few thousand epochs.  I could see less noise in the loss rate with this change and I figured it was what I needed for a micro-optimization to get from a loss of 2.3 to 2.2\n",
        "- I tried adding another layer to the NN but that actually seemed to hurt performance.\n",
        "- Instead of adding all the for loops for the various hyperparameters in the train function, I moved the hyperparams into a dictionary.  This kept the training and evaluation functions more simple which helped to debug issues.  i.e. the block_size was not defined within the function but from the notebook cells above\n",
        "- Plotting the epoch vs loss graph was helpful in visualizing whether our NN was benefiting from extra epochs.  Although, I noticed that the more complex our NN was, the more epochs I needed to train over to achieve a competetive validation loss.  I tried to make it a goal to achieve a validation loss of 2.2 within 50K epochs as to create an efficient NN.\n",
        "\n",
        "\n",
        "- loss.item(), K, neurons, block_size, epochs, min_loss\n",
        "- (2.350400924682617, 3, 1000, 4, 50000, 1.205239176750183)\n",
        "- (2.30, 3, 500, 4, 40000, 1.384570837020874)\n",
        "- (2.296140193939209, 3, 800, 4, 50000, 1.3054497241973877)"
      ]
    },
    {
      "cell_type": "code",
      "execution_count": 156,
      "metadata": {},
      "outputs": [
        {
          "data": {
            "text/plain": [
              "['mank',\n",
              " 'hoswa',\n",
              " 'anmehl',\n",
              " 'kiulzevlon',\n",
              " 'shel',\n",
              " 'maslyy',\n",
              " 'jayie',\n",
              " 'shsore',\n",
              " 'maheydaer',\n",
              " 'deya']"
            ]
          },
          "execution_count": 156,
          "metadata": {},
          "output_type": "execute_result"
        }
      ],
      "source": [
        "# Sample from the model\n",
        "def sample(weights, num_names=10):\n",
        "    C, W1, b1, W2, b2 = weights\n",
        "    block_size = C.shape[1]\n",
        "    layer_size = W1.shape[0]\n",
        "    context = [0] * block_size\n",
        "    generated_names = []\n",
        "\n",
        "    for i in range(num_names):\n",
        "        # Sample a name from the starting context character (.)\n",
        "        context = [0] * block_size\n",
        "        emb = C[context]\n",
        "        name = ''\n",
        "        \n",
        "        while True:\n",
        "            # Embed the characters\n",
        "            emb = C[context]\n",
        "            emb = emb.view(-1, layer_size)\n",
        "\n",
        "            # Calculate the hidden layer\n",
        "            h = torch.tanh(emb @ W1 + b1)\n",
        "            logits = h @ W2 + b2\n",
        "\n",
        "            # Calculate the probability distribution from the logits\n",
        "            probs = torch.softmax(logits, dim=1)\n",
        "\n",
        "            # Sample from the output layer\n",
        "            probs = logits.exp() / logits.exp().sum()\n",
        "            idx = torch.multinomial(probs, 1)\n",
        "\n",
        "            # Check if we're done\n",
        "            if idx2char[idx.item()] == '.':\n",
        "                generated_names.append(name)\n",
        "                break\n",
        "\n",
        "            # Add the character to the name\n",
        "            name += (idx2char[idx.item()])\n",
        "\n",
        "            # Update the context\n",
        "            context = context[1:] + [idx.item()]\n",
        "    \n",
        "    return generated_names\n",
        "\n",
        "sample(weights)"
      ]
    },
    {
      "attachments": {},
      "cell_type": "markdown",
      "metadata": {},
      "source": [
        "Sampled names:\n",
        "\n",
        "```\n",
        "['jeennath',\n",
        " 'jassa',\n",
        " 'wannyickeliah',\n",
        " 'lyra',\n",
        " 'delefda',\n",
        " 'lyanna',\n",
        " 'shuh',\n",
        " 'deonne',\n",
        " 'khohi',\n",
        " 'binia']\n",
        " ```\n",
        " \n",
        " These names seem alright enough that I'm not going to debug this model any further :)"
      ]
    },
    {
      "attachments": {},
      "cell_type": "markdown",
      "metadata": {},
      "source": [
        "## Exercise 2\n",
        "- E02: I was not careful with the intialization of the network in this video. (1) What is the loss you'd get if the predicted probabilities at initialization were perfectly uniform? What loss do we achieve? (2) Can you tune the initialization to get a starting loss that is much more similar to (1)?\n",
        "- Ok from watching the beginning of lecture 4, we essentially want to get rid of the first loss which is usually super high.  We dont want to waste epoch cycles shrinking weights, so lets just do that at initialization\n",
        "- Since having large values in logits maximizes the entropy (bc our model is confident and thinks its guesses are good), we scale down these weights so the logit values are smaller\n",
        "- ```W2 = W2 * 0.01  # Initialize the weights to be small for a good starting point```"
      ]
    },
    {
      "cell_type": "code",
      "execution_count": 157,
      "metadata": {},
      "outputs": [
        {
          "name": "stdout",
          "output_type": "stream",
          "text": [
            "Probability of a character: 0.037\n",
            "tensor([0.0370, 0.0370, 0.0370, 0.0370, 0.0370, 0.0370, 0.0370, 0.0370, 0.0370,\n",
            "        0.0370, 0.0370, 0.0370, 0.0370, 0.0370, 0.0370, 0.0370, 0.0370, 0.0370,\n",
            "        0.0370, 0.0370, 0.0370, 0.0370, 0.0370, 0.0370, 0.0370, 0.0370, 0.0370])\n"
          ]
        },
        {
          "data": {
            "text/plain": [
              "tensor(3.2958)"
            ]
          },
          "execution_count": 157,
          "metadata": {},
          "output_type": "execute_result"
        }
      ],
      "source": [
        "pr_ch = 1/27\n",
        "print(f'Probability of a character: {pr_ch:.3f}')\n",
        "expected_loss = -torch.log(torch.tensor(pr_ch))\n",
        "expected_loss\n",
        "\n",
        "K = 1\n",
        "C = torch.zeros((27))\n",
        "\n",
        "probs = torch.softmax(C, dim=0).float()\n",
        "print(probs)\n",
        "-torch.log(probs[3])"
      ]
    },
    {
      "cell_type": "code",
      "execution_count": 139,
      "metadata": {},
      "outputs": [],
      "source": [
        "# Create a function to train the model\n",
        "# names: the names to train on\n",
        "# hyperparams: a dictionary of hyperparameters\n",
        "#   K: character embedding dimension\n",
        "#   neurons: the number of neurons in the hidden layer\n",
        "#   block_size: the number of characters to consider before predicting the next character\n",
        "#   epochs: the number of epochs to train for\n",
        "#   lr: the learning rate\n",
        "#   batch_size: the batch size\n",
        "# weights: the weights to use for the model\n",
        "def train(\n",
        "    names,\n",
        "    hyperparams,\n",
        "    weights=[],\n",
        "):\n",
        "    # Unpack the hyperparameters from the dictionary\n",
        "    K = hyperparams['K']\n",
        "    neurons = hyperparams['neurons']\n",
        "    block_size = hyperparams['block_size']\n",
        "    epochs = hyperparams['epochs']\n",
        "    lr = hyperparams['lr']\n",
        "    batch_size = hyperparams['batch_size']\n",
        "\n",
        "    adjustment_epoch = epochs // 2\n",
        "    layer_size = K * block_size\n",
        "    loss_counts = []\n",
        "    num_names = len(names)\n",
        "    \n",
        "    print(f'K={K}, neurons={neurons}, block_size={block_size}, epochs={epochs}, lr={lr}, batch_size={batch_size}')\n",
        "\n",
        "    # Create a dictionary of characters and their indices\n",
        "    chars = sorted(list(set(''.join(names))))\n",
        "    char2idx = {c: i+1 for i, c in enumerate(chars)}\n",
        "    idx2char = {i+1: c for i, c in enumerate(chars)}\n",
        "    char2idx['.'] = 0\n",
        "    idx2char[0] = '.'\n",
        "\n",
        "    # Build the dataset\n",
        "    X, Y = [], []\n",
        "\n",
        "    for name in names[:num_names]:\n",
        "        name = name + '.'\n",
        "        context = [0] * block_size      # The first context is a block of zeros which enables padding\n",
        "        for c in name:\n",
        "            X.append(context)\n",
        "            Y.append(char2idx[c])      # The next character is context[-1] (the last character in the context)\n",
        "            context = context[1:] + [char2idx[c]]   # Crop & shift the context by one character\n",
        "            \n",
        "    X = torch.tensor(X, dtype=torch.long)\n",
        "    Y = torch.tensor(Y, dtype=torch.long)\n",
        "\n",
        "    # Embed the characters\n",
        "    C = torch.randn((27, K))\n",
        "    # Make the embedding \n",
        "    emb = C[X]\n",
        "\n",
        "    # construct the first hidden layer\n",
        "    W1 = torch.randn(layer_size, neurons)\n",
        "    b1 = torch.randn(neurons)\n",
        "\n",
        "    # construct the output layer\n",
        "    W2 = torch.randn(neurons, 27)\n",
        "    W2 = W2 * 0.01  # Initialize the weights to be small for a good starting point (prevent false overconfidence)\n",
        "    b2 = torch.randn(27) * 0\n",
        "\n",
        "    # Set the parameters to require gradients\n",
        "    parameters = [W1, b1, W2, b2, C]\n",
        "    for p in parameters:\n",
        "        p.requires_grad = True\n",
        "    \n",
        "    # Forward pass\n",
        "    for epoch in range(epochs):\n",
        "        # Tune the learning rate and batch size\n",
        "        if epoch == adjustment_epoch:\n",
        "            lr = lr / 10\n",
        "            batch_size = batch_size * 10\n",
        "            print(f'Adjusting learning rate to {lr}, batch_size={batch_size}')\n",
        "        elif epoch == epochs-5000:\n",
        "            lr = lr / 10\n",
        "            batch_size = batch_size * 10\n",
        "            print(f'Adjusting learning rate to {lr}, batch_size={batch_size}')\n",
        "\n",
        "        rand_batch_idx = torch.randint(0, num_names, (batch_size,))\n",
        "        x_batch = X[rand_batch_idx]\n",
        "        y_batch = Y[rand_batch_idx]\n",
        "\n",
        "        # Embed the characters\n",
        "        emb = C[x_batch]\n",
        "        emb = emb.view(-1, layer_size)\n",
        "\n",
        "        # Calculate the first hidden layer\n",
        "        h = torch.tanh(emb @ W1 + b1)\n",
        "        logits = h @ W2 + b2\n",
        "\n",
        "        # Calculate the loss\n",
        "        loss = F.cross_entropy(logits, y_batch)\n",
        "        loss_counts.append(loss.item())\n",
        "        \n",
        "        # Backward pass\n",
        "        loss.backward()\n",
        "        \n",
        "        # Update the weights\n",
        "        with torch.no_grad():\n",
        "            W1 -= lr * W1.grad\n",
        "            b1 -= lr * b1.grad\n",
        "            W2 -= lr * W2.grad\n",
        "            b2 -= lr * b2.grad\n",
        "            C -= lr * C.grad\n",
        "            \n",
        "        # Zero the gradients\n",
        "        W1.grad.zero_()\n",
        "        b1.grad.zero_()\n",
        "        W2.grad.zero_()\n",
        "        b2.grad.zero_()\n",
        "        C.grad.zero_()\n",
        "\n",
        "    weights = [C, W1, b1, W2, b2]\n",
        "    # print(f'lr={lr:.3f}, batch_size={batch_size}, num_names={num_names}, min_loss={min(loss_counts):.3f}, K={K}, neurons={neurons}, block_size={block_size}, epochs={epochs}')\n",
        "\n",
        "    # Plot the loss\n",
        "    plt.plot(loss_counts)\n",
        "    plt.xlabel('Epoch')\n",
        "    plt.ylabel('Loss')\n",
        "    plt.title(f'Loss over time')\n",
        "    # plt.annotate(f'lr={lr:.3f}, batch_size={batch_size}, num_names={num_names}, min_loss={min(loss_counts):.3f}', (0, 0), (0, -40), xycoords='axes fraction', textcoords='offset points', va='top')\n",
        "\n",
        "    # Return the trained parameter weighst\n",
        "    return weights"
      ]
    },
    {
      "cell_type": "code",
      "execution_count": 141,
      "metadata": {},
      "outputs": [
        {
          "name": "stdout",
          "output_type": "stream",
          "text": [
            "K=4, neurons=800, block_size=4, epochs=1000, lr=0.1, batch_size=32\n",
            "Adjusting learning rate to 0.01, batch_size=320\n"
          ]
        },
        {
          "data": {
            "image/png": "[encoded data removed]",
            "text/plain": [
              "<Figure size 640x480 with 1 Axes>"
            ]
          },
          "metadata": {},
          "output_type": "display_data"
        }
      ],
      "source": [
        "hyperparams = {\n",
        "    'epochs':1000,\n",
        "    'K': 4,\n",
        "    'neurons': 800,\n",
        "    'block_size': 4,\n",
        "    'lr': 0.1,\n",
        "    'batch_size': 32,\n",
        "}\n",
        "\n",
        "# Train the model with the best hyperparameters on the training set\n",
        "weights = train(\n",
        "    train_names,\n",
        "    hyperparams\n",
        ")"
      ]
    },
    {
      "attachments": {},
      "cell_type": "markdown",
      "metadata": {},
      "source": [
        "In the graph above, it looks less hockey stick like because our logits are intialized to have smaller values and a more uniform distribution. "
      ]
    },
    {
      "cell_type": "code",
      "execution_count": null,
      "metadata": {},
      "outputs": [],
      "source": []
    }
  ],
  "metadata": {
    "colab": {
      "authorship_tag": "ABX9TyOkY45OAMkpFzYuL1GYgdPQ",
      "include_colab_link": true,
      "provenance": []
    },
    "kernelspec": {
      "display_name": "base",
      "language": "python",
      "name": "python3"
    },
    "language_info": {
      "codemirror_mode": {
        "name": "ipython",
        "version": 3
      },
      "file_extension": ".py",
      "mimetype": "text/x-python",
      "name": "python",
      "nbconvert_exporter": "python",
      "pygments_lexer": "ipython3",
      "version": "3.9.13"
    },
    "vscode": {
      "interpreter": {
        "hash": "bebb980880604d236ddcb4913ad10a36ac6cae9759cdda587ed688a750b11c5c"
      }
    }
  },
  "nbformat": 4,
  "nbformat_minor": 0
}
