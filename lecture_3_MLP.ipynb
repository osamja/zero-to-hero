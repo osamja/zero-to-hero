{
  "cells": [
    {
      "cell_type": "markdown",
      "metadata": {
        "colab_type": "text",
        "id": "view-in-github"
      },
      "source": [
        "<a href=\"https://colab.research.google.com/github/osamja/zero-to-hero/blob/main/lecture_3/MLP.ipynb\" target=\"_parent\"><img src=\"https://colab.research.google.com/assets/colab-badge.svg\" alt=\"Open In Colab\"/></a>"
      ]
    },
    {
      "cell_type": "code",
      "execution_count": 2,
      "metadata": {
        "id": "5onyiSmq5Kqz"
      },
      "outputs": [],
      "source": [
        "import torch\n",
        "import torch.nn.functional as F\n",
        "import matplotlib.pyplot as plt\n",
        "%matplotlib inline"
      ]
    },
    {
      "attachments": {},
      "cell_type": "markdown",
      "metadata": {},
      "source": [
        "- Cheatsheet: https://github.com/karpathy/nn-zero-to-hero/blob/master/lectures/makemore/makemore_part2_mlp.ipynb\n"
      ]
    },
    {
      "cell_type": "code",
      "execution_count": 3,
      "metadata": {},
      "outputs": [],
      "source": [
        "# !wget https://raw.githubusercontent.com/karpathy/makemore/master/names.txt    # Uncomment to download names.txt\n",
        "names = open('names.txt', 'r').read().splitlines()"
      ]
    },
    {
      "cell_type": "code",
      "execution_count": 4,
      "metadata": {},
      "outputs": [],
      "source": [
        "# Create a dictionary of characters and their indices\n",
        "chars = sorted(list(set(''.join(names))))\n",
        "char2idx = {c: i+1 for i, c in enumerate(chars)}\n",
        "idx2char = {i+1: c for i, c in enumerate(chars)}\n",
        "\n",
        "char2idx['.'] = 0  # ? andrej has this set to zero but doesn't that replace the first character in the alphabet?\n",
        "idx2char[0] = '.'"
      ]
    },
    {
      "cell_type": "code",
      "execution_count": 5,
      "metadata": {},
      "outputs": [
        {
          "name": "stdout",
          "output_type": "stream",
          "text": [
            "Number of examples: 5\n"
          ]
        }
      ],
      "source": [
        "# Build the dataset\n",
        "block_size = 3 # context length: how many characters to consider before predicting the next character\n",
        "X, Y = [], []\n",
        "\n",
        "for name in names[:1]:\n",
        "    name = name + '.'\n",
        "    context = [0] * block_size      # The first context is a block of zeros which enables padding\n",
        "    for c in name:\n",
        "        X.append(context)\n",
        "        Y.append(char2idx[c])      # The next character is context[-1] (the last character in the context)\n",
        "        # print(''.join([idx2char[i] for i in context]), '->', c)\n",
        "        context = context[1:] + [char2idx[c]]   # Crop & shift the context by one character\n",
        "        \n",
        "X = torch.tensor(X, dtype=torch.long)   # Should we be using long or ints?\n",
        "Y = torch.tensor(Y, dtype=torch.long)\n",
        "\n",
        "num_examples = X.shape[0]\n",
        "print('Number of examples:', num_examples)"
      ]
    },
    {
      "cell_type": "code",
      "execution_count": 6,
      "metadata": {},
      "outputs": [
        {
          "data": {
            "text/plain": [
              "tensor([True, True])"
            ]
          },
          "execution_count": 6,
          "metadata": {},
          "output_type": "execute_result"
        }
      ],
      "source": [
        "# Embed the characters\n",
        "x_enc = torch.nn.functional.one_hot(X, num_classes=27).float()\n",
        "x_enc.shape\n",
        "\n",
        "C = torch.randn((27, 2))    # Two dimensional embedding\n",
        "C[5] == F.one_hot(torch.tensor(5), num_classes=27).float() @ C\n"
      ]
    },
    {
      "cell_type": "code",
      "execution_count": 7,
      "metadata": {},
      "outputs": [
        {
          "data": {
            "text/plain": [
              "torch.Size([5, 3, 2])"
            ]
          },
          "execution_count": 7,
          "metadata": {},
          "output_type": "execute_result"
        }
      ],
      "source": [
        "# wow this array indexing is so cool\n",
        "emb = C[X]\n",
        "emb.shape"
      ]
    },
    {
      "cell_type": "code",
      "execution_count": 8,
      "metadata": {},
      "outputs": [
        {
          "data": {
            "text/plain": [
              "tensor([-0.3776,  1.2012])"
            ]
          },
          "execution_count": 8,
          "metadata": {},
          "output_type": "execute_result"
        }
      ],
      "source": [
        "emb[2][2]"
      ]
    },
    {
      "cell_type": "code",
      "execution_count": 9,
      "metadata": {},
      "outputs": [],
      "source": [
        "# construct the hidden layer\n",
        "W1 = torch.randn(6, 100)\n",
        "b1 = torch.randn(100)"
      ]
    },
    {
      "cell_type": "code",
      "execution_count": 10,
      "metadata": {},
      "outputs": [
        {
          "data": {
            "text/plain": [
              "tensor([[ 2.5143,  0.8726,  2.5143,  0.8726,  2.5143,  0.8726],\n",
              "        [ 2.5143,  0.8726,  2.5143,  0.8726, -0.3633,  0.5824],\n",
              "        [ 2.5143,  0.8726, -0.3633,  0.5824, -0.3776,  1.2012],\n",
              "        [-0.3633,  0.5824, -0.3776,  1.2012, -0.3776,  1.2012],\n",
              "        [-0.3776,  1.2012, -0.3776,  1.2012, -0.3825,  0.7859]])"
            ]
          },
          "execution_count": 10,
          "metadata": {},
          "output_type": "execute_result"
        }
      ],
      "source": [
        "res = emb.reshape(5, 6)\n",
        "res"
      ]
    },
    {
      "cell_type": "code",
      "execution_count": 11,
      "metadata": {},
      "outputs": [
        {
          "data": {
            "text/plain": [
              "tensor([[ 2.5143,  0.8726,  2.5143,  0.8726,  2.5143,  0.8726],\n",
              "        [ 2.5143,  0.8726,  2.5143,  0.8726, -0.3633,  0.5824],\n",
              "        [ 2.5143,  0.8726, -0.3633,  0.5824, -0.3776,  1.2012],\n",
              "        [-0.3633,  0.5824, -0.3776,  1.2012, -0.3776,  1.2012],\n",
              "        [-0.3776,  1.2012, -0.3776,  1.2012, -0.3825,  0.7859]])"
            ]
          },
          "execution_count": 11,
          "metadata": {},
          "output_type": "execute_result"
        }
      ],
      "source": [
        "emb.view(5, 6)"
      ]
    },
    {
      "cell_type": "code",
      "execution_count": 12,
      "metadata": {},
      "outputs": [
        {
          "data": {
            "text/plain": [
              "tensor([[True, True, True, True, True, True],\n",
              "        [True, True, True, True, True, True],\n",
              "        [True, True, True, True, True, True],\n",
              "        [True, True, True, True, True, True],\n",
              "        [True, True, True, True, True, True]])"
            ]
          },
          "execution_count": 12,
          "metadata": {},
          "output_type": "execute_result"
        }
      ],
      "source": [
        "# -1 means \"whatever is needed to make the shape work\"- copilot. haha same as num_examples\n",
        "emb.view(-1, 6) == emb.reshape(num_examples, 6) "
      ]
    },
    {
      "cell_type": "code",
      "execution_count": 13,
      "metadata": {},
      "outputs": [
        {
          "data": {
            "text/plain": [
              "(tensor(-1.), tensor(1.))"
            ]
          },
          "execution_count": 13,
          "metadata": {},
          "output_type": "execute_result"
        }
      ],
      "source": [
        "# calculate the hidden layer\n",
        "h = emb.view(5, 6) @ W1 + b1\n",
        "h = torch.tanh(h)\n",
        "h.min(), h.max()"
      ]
    },
    {
      "cell_type": "code",
      "execution_count": 14,
      "metadata": {},
      "outputs": [],
      "source": [
        "# create the output layer\n",
        "W2 = torch.randn(100, 27)\n",
        "b2 = torch.randn(27) \n",
        "\n",
        "logits = h @ W2 + b2"
      ]
    },
    {
      "cell_type": "code",
      "execution_count": 15,
      "metadata": {},
      "outputs": [
        {
          "data": {
            "text/plain": [
              "torch.Size([5, 27])"
            ]
          },
          "execution_count": 15,
          "metadata": {},
          "output_type": "execute_result"
        }
      ],
      "source": [
        "logits.shape"
      ]
    },
    {
      "cell_type": "code",
      "execution_count": 16,
      "metadata": {},
      "outputs": [
        {
          "data": {
            "text/plain": [
              "(torch.Size([5, 27]), tensor([1.0000, 1.0000, 1.0000, 1.0000, 1.0000]))"
            ]
          },
          "execution_count": 16,
          "metadata": {},
          "output_type": "execute_result"
        }
      ],
      "source": [
        "# Let's get our fake counts and then normalize them into a probability distribution\n",
        "counts = logits.exp()\n",
        "prob = counts / counts.sum(1, keepdims=True)\n",
        "prob.shape, prob.sum(1)"
      ]
    },
    {
      "cell_type": "code",
      "execution_count": 17,
      "metadata": {},
      "outputs": [
        {
          "data": {
            "text/plain": [
              "[<matplotlib.lines.Line2D at 0x7fe4c1104f10>]"
            ]
          },
          "execution_count": 17,
          "metadata": {},
          "output_type": "execute_result"
        },
        {
          "data": {
            "image/png": "[encoded data removed]",
            "text/plain": [
              "<Figure size 640x480 with 1 Axes>"
            ]
          },
          "metadata": {},
          "output_type": "display_data"
        }
      ],
      "source": [
        "# Lets use y to get the actual probability\n",
        "pr_dist = prob[torch.arange(num_examples), Y]\n",
        "plt.plot(pr_dist)"
      ]
    },
    {
      "cell_type": "code",
      "execution_count": 18,
      "metadata": {},
      "outputs": [
        {
          "data": {
            "text/plain": [
              "tensor(15.2148)"
            ]
          },
          "execution_count": 18,
          "metadata": {},
          "output_type": "execute_result"
        }
      ],
      "source": [
        "# Now we can calculate the loss\n",
        "loss = -torch.log(pr_dist).mean()\n",
        "loss"
      ]
    },
    {
      "cell_type": "code",
      "execution_count": 19,
      "metadata": {},
      "outputs": [
        {
          "data": {
            "text/plain": [
              "tensor(15.2148)"
            ]
          },
          "execution_count": 19,
          "metadata": {},
          "output_type": "execute_result"
        }
      ],
      "source": [
        "F.cross_entropy(logits, Y)  # This is the same as the above"
      ]
    },
    {
      "cell_type": "code",
      "execution_count": 20,
      "metadata": {},
      "outputs": [],
      "source": [
        "# Train the model from scratch\n",
        "weights = None"
      ]
    },
    {
      "cell_type": "code",
      "execution_count": 21,
      "metadata": {},
      "outputs": [],
      "source": [
        " # Create a function to train the model\n",
        "def train(names, weights=[], lr=0.1, epochs=1000, batch_size=32):\n",
        "    loss_counts = []\n",
        "    num_names = len(names)\n",
        "    \n",
        "    # Keep track of the learning rates\n",
        "    # lre = torch.linspace(-3, 0, epochs)\n",
        "    # lrs = 10 ** lre\n",
        "    # learning_rates = []\n",
        "\n",
        "    # Create a dictionary of characters and their indices\n",
        "    chars = sorted(list(set(''.join(names))))\n",
        "    char2idx = {c: i+1 for i, c in enumerate(chars)}\n",
        "    idx2char = {i+1: c for i, c in enumerate(chars)}\n",
        "    char2idx['.'] = 0  # ? andrej has this set to zero but doesn't that replace the first character in the alphabet?\n",
        "    idx2char[0] = '.'\n",
        "\n",
        "    # Build the dataset\n",
        "    \n",
        "    block_size = 3 # context length: how many characters to consider before predicting the next character\n",
        "    X, Y = [], []\n",
        "\n",
        "    for name in names[:num_names]:\n",
        "        name = name + '.'\n",
        "        context = [0] * block_size      # The first context is a block of zeros which enables padding\n",
        "        for c in name:\n",
        "            X.append(context)\n",
        "            Y.append(char2idx[c])      # The next character is context[-1] (the last character in the context)\n",
        "            # print(''.join([idx2char[i] for i in context]), '->', c)\n",
        "            context = context[1:] + [char2idx[c]]   # Crop & shift the context by one character\n",
        "            \n",
        "    X = torch.tensor(X, dtype=torch.long)   # Should we be using long or ints?\n",
        "    Y = torch.tensor(Y, dtype=torch.long)\n",
        "\n",
        "    # Create weights if they don't exist\n",
        "    if len(weights) == 0:\n",
        "        # Embed the characters\n",
        "        C = torch.randn((27, 2))    # Two dimensional embedding\n",
        "        emb = C[X]\n",
        "\n",
        "        # construct the hidden layer\n",
        "        W1 = torch.randn(6, 100)\n",
        "        b1 = torch.randn(100)\n",
        "\n",
        "        # construct the output layer\n",
        "        W2 = torch.randn(100, 27)\n",
        "        b2 = torch.randn(27) \n",
        "    else:   # Otherwise use the weights that were passed in\n",
        "        C, W1, b1, W2, b2 = weights\n",
        "\n",
        "    # Set the parameters to require gradients\n",
        "    parameters = [W1, b1, W2, b2, C]\n",
        "    for p in parameters:\n",
        "        p.requires_grad = True\n",
        "    \n",
        "    # Forward pass\n",
        "    for epoch in range(epochs):\n",
        "        # lr = lrs[epoch]\n",
        "        # Get a random batch of names\n",
        "        # learning_rates.append(lre[epoch])\n",
        "        rand_batch_idx = torch.randint(0, num_names, (batch_size,))\n",
        "        x_batch = X[rand_batch_idx]\n",
        "        y_batch = Y[rand_batch_idx]\n",
        "\n",
        "        # Embed the characters\n",
        "        emb = C[x_batch]\n",
        "        emb = emb.view(batch_size, 6)\n",
        "\n",
        "        # Calculate the hidden layer\n",
        "        h = torch.tanh(emb @ W1 + b1)\n",
        "        logits = h @ W2 + b2\n",
        "\n",
        "        # Calculate the loss\n",
        "        loss = F.cross_entropy(logits, y_batch)\n",
        "        loss_counts.append(loss.item())\n",
        "        \n",
        "        # Backward pass\n",
        "        loss.backward()\n",
        "        \n",
        "        # Update the weights\n",
        "        with torch.no_grad():\n",
        "            W1 -= lr * W1.grad\n",
        "            b1 -= lr * b1.grad\n",
        "            W2 -= lr * W2.grad\n",
        "            b2 -= lr * b2.grad\n",
        "            C -= lr * C.grad\n",
        "            \n",
        "        # Zero the gradients\n",
        "        W1.grad.zero_()\n",
        "        b1.grad.zero_()\n",
        "        W2.grad.zero_()\n",
        "        b2.grad.zero_()\n",
        "        C.grad.zero_()\n",
        "        \n",
        "        if epoch == 100 == 0:\n",
        "            print(f'Epoch: {epoch}, Loss: {loss.item()}')\n",
        "\n",
        "    # Calculate the number of parameters\n",
        "    batch_parameters = [W1, b1, W2, b2, emb]\n",
        "    num_parameters = 0\n",
        "    for p in batch_parameters:\n",
        "        for s in p.shape:\n",
        "            num_parameters += s\n",
        "    print('Number of parameters:', num_parameters)\n",
        "\n",
        "    # Plot the learning rates\n",
        "    # plt.plot(learning_rates, loss_counts)\n",
        "    # plt.xlabel('Learning rate')\n",
        "    # plt.ylabel('Loss')\n",
        "    # plt.title(f'Loss over learning rate')\n",
        "    # plt.show()\n",
        "\n",
        "\n",
        "    # Plot the loss\n",
        "    plt.plot(loss_counts)\n",
        "    plt.xlabel('Epoch')\n",
        "    plt.ylabel('Loss')\n",
        "    plt.title(f'Loss over time')\n",
        "    plt.annotate(f'lr={lr:.3f}, batch_size={batch_size}, num_names={num_names}, min_loss={min(loss_counts):.3f}', (0, 0), (0, -40), xycoords='axes fraction', textcoords='offset points', va='top')\n",
        "\n",
        "    # Return the trained parameter weighst\n",
        "    return [C, W1, b1, W2, b2]\n",
        "\n"
      ]
    },
    {
      "cell_type": "code",
      "execution_count": 22,
      "metadata": {},
      "outputs": [
        {
          "name": "stdout",
          "output_type": "stream",
          "text": [
            "Number of parameters: 398\n"
          ]
        },
        {
          "data": {
            "image/png": "[encoded data removed]",
            "text/plain": [
              "<Figure size 640x480 with 1 Axes>"
            ]
          },
          "metadata": {},
          "output_type": "display_data"
        }
      ],
      "source": [
        "names = open('names.txt', 'r').read().splitlines()\n",
        "weights = train(names)"
      ]
    },
    {
      "cell_type": "code",
      "execution_count": 23,
      "metadata": {},
      "outputs": [
        {
          "name": "stdout",
          "output_type": "stream",
          "text": [
            "Number of parameters: 398\n"
          ]
        },
        {
          "data": {
            "image/png": "[encoded data removed]",
            "text/plain": [
              "<Figure size 640x480 with 1 Axes>"
            ]
          },
          "metadata": {},
          "output_type": "display_data"
        }
      ],
      "source": [
        "weights = train(names, weights=weights, lr=0.001, epochs=1000, batch_size=32)"
      ]
    },
    {
      "cell_type": "code",
      "execution_count": null,
      "metadata": {},
      "outputs": [],
      "source": []
    },
    {
      "cell_type": "code",
      "execution_count": 24,
      "metadata": {},
      "outputs": [
        {
          "data": {
            "text/plain": [
              "torch.Size([27, 2])"
            ]
          },
          "execution_count": 24,
          "metadata": {},
          "output_type": "execute_result"
        }
      ],
      "source": [
        "[C, W1, b1, W2, b2] = weights\n",
        "C.shape"
      ]
    },
    {
      "cell_type": "code",
      "execution_count": 25,
      "metadata": {},
      "outputs": [
        {
          "ename": "RuntimeError",
          "evalue": "shape '[-1, 27]' is invalid for input of size 6",
          "output_type": "error",
          "traceback": [
            "\u001b[0;31m---------------------------------------------------------------------------\u001b[0m",
            "\u001b[0;31mRuntimeError\u001b[0m                              Traceback (most recent call last)",
            "\u001b[0;32m/var/folders/1f/qjk02_3s70zd4sxj573fj7400000gn/T/ipykernel_64102/3660436293.py\u001b[0m in \u001b[0;36m<module>\u001b[0;34m\u001b[0m\n\u001b[1;32m     37\u001b[0m     \u001b[0;32mreturn\u001b[0m \u001b[0mgenerated_names\u001b[0m\u001b[0;34m\u001b[0m\u001b[0;34m\u001b[0m\u001b[0m\n\u001b[1;32m     38\u001b[0m \u001b[0;34m\u001b[0m\u001b[0m\n\u001b[0;32m---> 39\u001b[0;31m \u001b[0msample\u001b[0m\u001b[0;34m(\u001b[0m\u001b[0mC\u001b[0m\u001b[0;34m,\u001b[0m \u001b[0mW1\u001b[0m\u001b[0;34m,\u001b[0m \u001b[0mb1\u001b[0m\u001b[0;34m,\u001b[0m \u001b[0mW2\u001b[0m\u001b[0;34m,\u001b[0m \u001b[0mb2\u001b[0m\u001b[0;34m)\u001b[0m\u001b[0;34m\u001b[0m\u001b[0;34m\u001b[0m\u001b[0m\n\u001b[0m",
            "\u001b[0;32m/var/folders/1f/qjk02_3s70zd4sxj573fj7400000gn/T/ipykernel_64102/3660436293.py\u001b[0m in \u001b[0;36msample\u001b[0;34m(C, W1, b1, W2, b2, num_names)\u001b[0m\n\u001b[1;32m     14\u001b[0m             \u001b[0;31m# Embed the characters\u001b[0m\u001b[0;34m\u001b[0m\u001b[0;34m\u001b[0m\u001b[0m\n\u001b[1;32m     15\u001b[0m             \u001b[0memb\u001b[0m \u001b[0;34m=\u001b[0m \u001b[0mC\u001b[0m\u001b[0;34m[\u001b[0m\u001b[0mcontext\u001b[0m\u001b[0;34m]\u001b[0m\u001b[0;34m\u001b[0m\u001b[0;34m\u001b[0m\u001b[0m\n\u001b[0;32m---> 16\u001b[0;31m             \u001b[0memb\u001b[0m \u001b[0;34m=\u001b[0m \u001b[0memb\u001b[0m\u001b[0;34m.\u001b[0m\u001b[0mview\u001b[0m\u001b[0;34m(\u001b[0m\u001b[0;34m-\u001b[0m\u001b[0;36m1\u001b[0m\u001b[0;34m,\u001b[0m \u001b[0mlayer_size\u001b[0m\u001b[0;34m)\u001b[0m\u001b[0;34m\u001b[0m\u001b[0;34m\u001b[0m\u001b[0m\n\u001b[0m\u001b[1;32m     17\u001b[0m \u001b[0;34m\u001b[0m\u001b[0m\n\u001b[1;32m     18\u001b[0m             \u001b[0;31m# Calculate the hidden layer\u001b[0m\u001b[0;34m\u001b[0m\u001b[0;34m\u001b[0m\u001b[0m\n",
            "\u001b[0;31mRuntimeError\u001b[0m: shape '[-1, 27]' is invalid for input of size 6"
          ]
        }
      ],
      "source": [
        "# Sample from the model\n",
        "def sample(C, W1, b1, W2, b2, num_names=10):\n",
        "    context = [0] * 3\n",
        "    block_size = 3\n",
        "    generated_names = []\n",
        "    K = 9\n",
        "    layer_size = K * block_size\n",
        "    for i in range(num_names):\n",
        "        # Sample a name from the starting context character (.)\n",
        "        context = [0] * block_size\n",
        "        emb = C[context]\n",
        "        name = ''\n",
        "        while True:\n",
        "            # Embed the characters\n",
        "            emb = C[context]\n",
        "            emb = emb.view(-1, layer_size)\n",
        "\n",
        "            # Calculate the hidden layer\n",
        "            h = torch.tanh(emb @ W1 + b1)\n",
        "            logits = h @ W2 + b2\n",
        "\n",
        "            # Sample from the output layer\n",
        "            probs = logits.exp() / logits.exp().sum()\n",
        "            idx = torch.multinomial(probs, 1)\n",
        "\n",
        "            # Check if we're done\n",
        "            if idx2char[idx.item()] == '.':\n",
        "                generated_names.append(name)\n",
        "                break\n",
        "\n",
        "            # Add the character to the name\n",
        "            name += (idx2char[idx.item()])\n",
        "\n",
        "            # Update the context\n",
        "            context = context[1:] + [idx.item()]\n",
        "    \n",
        "    return generated_names\n",
        "\n",
        "sample(C, W1, b1, W2, b2)"
      ]
    },
    {
      "attachments": {},
      "cell_type": "markdown",
      "metadata": {},
      "source": [
        "### Sample names\n",
        "```\n",
        "['ezyon',\n",
        " 'sareroe',\n",
        " 'voe',\n",
        " 'japoyn',\n",
        " 'belhe',\n",
        " 'nna',\n",
        " 'egefe',\n",
        " 'calin',\n",
        " 'kazec',\n",
        " 'cein']\n",
        "```\n",
        "\n",
        "These names are 'name like' but I would've expected slightly better given we've traind on three context charactesr."
      ]
    },
    {
      "attachments": {},
      "cell_type": "markdown",
      "metadata": {},
      "source": [
        "- To counteract a model that is overfitted to our data, we can create a train, validation/dev, and test split."
      ]
    },
    {
      "cell_type": "code",
      "execution_count": null,
      "metadata": {},
      "outputs": [
        {
          "ename": "",
          "evalue": "",
          "output_type": "error",
          "traceback": [
            "\u001b[1;31mFailed to start the Kernel. \n",
            "\u001b[1;31mUnhandled error. \n",
            "\u001b[1;31mView Jupyter <a href='command:jupyter.viewOutput'>log</a> for further details."
          ]
        }
      ],
      "source": [
        "# create the training, validation, and test sets\n",
        "names = open('names.txt', 'r').read().splitlines()\n",
        "num_names = len(names)\n",
        "# shuffle the names\n",
        "import random\n",
        "random.shuffle(names)\n",
        "num_train = int(num_names * 0.8)\n",
        "num_val = int(num_names * 0.1)\n",
        "num_test = num_names - num_train - num_val\n",
        "\n",
        "train_names = names[:num_train]\n",
        "val_names = names[num_train:num_train+num_val]\n",
        "test_names = names[num_train+num_val:]\n",
        "\n",
        "\n"
      ]
    },
    {
      "cell_type": "code",
      "execution_count": null,
      "metadata": {},
      "outputs": [
        {
          "ename": "",
          "evalue": "",
          "output_type": "error",
          "traceback": [
            "\u001b[1;31mFailed to start the Kernel. \n",
            "\u001b[1;31mUnhandled error. \n",
            "\u001b[1;31mView Jupyter <a href='command:jupyter.viewOutput'>log</a> for further details."
          ]
        }
      ],
      "source": [
        "# Train the model\n",
        "weights = train(train_names, lr=0.1, epochs=1000, batch_size=32)\n",
        "\n",
        "# Sample from the model\n",
        "generated_names = sample(*weights, num_names=10)\n",
        "\n",
        "# Print the generated names\n",
        "print('Generated names:')\n",
        "for name in generated_names:\n",
        "    print(name)"
      ]
    },
    {
      "cell_type": "code",
      "execution_count": null,
      "metadata": {},
      "outputs": [
        {
          "ename": "",
          "evalue": "",
          "output_type": "error",
          "traceback": [
            "\u001b[1;31mFailed to start the Kernel. \n",
            "\u001b[1;31mUnhandled error. \n",
            "\u001b[1;31mView Jupyter <a href='command:jupyter.viewOutput'>log</a> for further details."
          ]
        }
      ],
      "source": [
        "# Calculate the accuracy on the validation set\n",
        "[C, W1, b1, W2, b2] = weights\n",
        "correct = 0\n",
        "total = 0\n",
        "\n",
        "x,y = [], []\n",
        "for name in train_names:\n",
        "    # Convert the name to a tensor\n",
        "    # Build the dataset\n",
        "    block_size = 3 # context length: how many characters to consider before predicting the next character\n",
        "    name = name + '.'\n",
        "    context = [0] * block_size      # The first context is a block of zeros which enables padding\n",
        "\n",
        "    for c in name:\n",
        "        x.append(context)\n",
        "        y.append(char2idx[c])      # The next character is context[-1] (the last character in the context)\n",
        "        context = context[1:] + [char2idx[c]]   # Crop & shift the context by one character\n",
        "            \n",
        "x = torch.tensor(x, dtype=torch.long)   # Should we be using long or ints?\n",
        "y = torch.tensor(y, dtype=torch.long)\n",
        "\n",
        "# Embed the characters\n",
        "emb = C[x]\n",
        "emb = emb.view(-1, 6)\n",
        "\n",
        "# Calculate the hidden layer\n",
        "h = torch.tanh(emb @ W1 + b1)\n",
        "logits = h @ W2 + b2\n",
        "\n",
        "# Calculate the loss\n",
        "loss = F.cross_entropy(logits, y)\n",
        "\n",
        "print('Loss:', loss.item())\n",
        "\n",
        "# Calculate the accuracy\n",
        "probs = logits.exp() / logits.exp().sum()\n",
        "idx = torch.argmax(probs, 1)\n",
        "\n",
        "correct += (idx == y).sum().item()\n",
        "total += len(y)\n",
        "\n",
        "print('x:', x)\n",
        "print('y:', y)\n",
        "print('idx:', idx)\n",
        "\n",
        "\n",
        "print('Accuracy:', correct / total)\n"
      ]
    },
    {
      "attachments": {},
      "cell_type": "markdown",
      "metadata": {},
      "source": [
        "Our loss for the train, validation, and test sets are so close that our model is actually underfitting.  To counteract this, we can expand our neural network to overit our model to our training data."
      ]
    },
    {
      "cell_type": "code",
      "execution_count": null,
      "metadata": {},
      "outputs": [
        {
          "ename": "",
          "evalue": "",
          "output_type": "error",
          "traceback": [
            "\u001b[1;31mFailed to start the Kernel. \n",
            "\u001b[1;31mUnhandled error. \n",
            "\u001b[1;31mView Jupyter <a href='command:jupyter.viewOutput'>log</a> for further details."
          ]
        }
      ],
      "source": [
        " # Create a function to train the model\n",
        "def train(names=train_names, weights=[], lr=0.1, epochs=10000, batch_size=64):\n",
        "    loss_counts = []\n",
        "    num_names = len(names)\n",
        "\n",
        "    # Create a dictionary of characters and their indices\n",
        "    chars = sorted(list(set(''.join(names))))\n",
        "    char2idx = {c: i+1 for i, c in enumerate(chars)}\n",
        "    idx2char = {i+1: c for i, c in enumerate(chars)}\n",
        "    char2idx['.'] = 0\n",
        "    idx2char[0] = '.'\n",
        "\n",
        "    # Build the dataset\n",
        "    block_size = 3 # context length: how many characters to consider before predicting the next character\n",
        "    X, Y = [], []\n",
        "\n",
        "    for name in names[:num_names]:\n",
        "        name = name + '.'\n",
        "        context = [0] * block_size      # The first context is a block of zeros which enables padding\n",
        "        for c in name:\n",
        "            X.append(context)\n",
        "            Y.append(char2idx[c])      # The next character is context[-1] (the last character in the context)\n",
        "            context = context[1:] + [char2idx[c]]   # Crop & shift the context by one character\n",
        "            \n",
        "    X = torch.tensor(X, dtype=torch.long)   # Should we be using long or ints?\n",
        "    Y = torch.tensor(Y, dtype=torch.long)\n",
        "\n",
        "    # Create weights if they don't exist\n",
        "    if len(weights) == 0:\n",
        "        # Embed the characters\n",
        "        C = torch.randn((27, 2))    # Two dimensional embedding\n",
        "        emb = C[X]\n",
        "\n",
        "        # construct the hidden layer\n",
        "        W1 = torch.randn(6, 1000)\n",
        "        b1 = torch.randn(1000)\n",
        "\n",
        "        # construct the output layer\n",
        "        W2 = torch.randn(1000, 27)\n",
        "        b2 = torch.randn(27) \n",
        "    else:   # Otherwise use the weights that were passed in\n",
        "        C, W1, b1, W2, b2 = weights\n",
        "\n",
        "    # Set the parameters to require gradients\n",
        "    parameters = [W1, b1, W2, b2, C]\n",
        "    for p in parameters:\n",
        "        p.requires_grad = True\n",
        "    \n",
        "    # Forward pass\n",
        "    for epoch in range(epochs):\n",
        "        rand_batch_idx = torch.randint(0, num_names, (batch_size,))\n",
        "        x_batch = X[rand_batch_idx]\n",
        "        y_batch = Y[rand_batch_idx]\n",
        "\n",
        "        # Embed the characters\n",
        "        emb = C[x_batch]\n",
        "        emb = emb.view(-1, 6)\n",
        "\n",
        "        # Calculate the hidden layer\n",
        "        h = torch.tanh(emb @ W1 + b1)\n",
        "        logits = h @ W2 + b2\n",
        "\n",
        "        # Calculate the loss\n",
        "        loss = F.cross_entropy(logits, y_batch)\n",
        "        loss_counts.append(loss.item())\n",
        "        \n",
        "        # Backward pass\n",
        "        loss.backward()\n",
        "        \n",
        "        # Update the weights\n",
        "        with torch.no_grad():\n",
        "            W1 -= lr * W1.grad\n",
        "            b1 -= lr * b1.grad\n",
        "            W2 -= lr * W2.grad\n",
        "            b2 -= lr * b2.grad\n",
        "            C -= lr * C.grad\n",
        "            \n",
        "        # Zero the gradients\n",
        "        W1.grad.zero_()\n",
        "        b1.grad.zero_()\n",
        "        W2.grad.zero_()\n",
        "        b2.grad.zero_()\n",
        "        C.grad.zero_()\n",
        "        \n",
        "        if epoch % 100 == 0:\n",
        "            print(f'Epoch: {epoch}, Loss: {loss.item()}')\n",
        "\n",
        "    # Plot the loss\n",
        "    plt.plot(loss_counts)\n",
        "    plt.xlabel('Epoch')\n",
        "    plt.ylabel('Loss')\n",
        "    plt.title(f'Loss over time')\n",
        "    plt.annotate(f'lr={lr:.3f}, batch_size={batch_size}, num_names={num_names}, min_loss={min(loss_counts):.3f}', (0, 0), (0, -40), xycoords='axes fraction', textcoords='offset points', va='top')\n",
        "\n",
        "    # Return the trained parameter weighst\n",
        "    return [C, W1, b1, W2, b2]\n",
        "\n",
        "weights = train()"
      ]
    },
    {
      "cell_type": "code",
      "execution_count": 187,
      "metadata": {},
      "outputs": [],
      "source": [
        "val_losses = []"
      ]
    },
    {
      "attachments": {},
      "cell_type": "markdown",
      "metadata": {},
      "source": [
        "# Exercises:\n",
        "- E01: Tune the hyperparameters of the training to beat my best validation loss of 2.2\n",
        "- E02: I was not careful with the intialization of the network in this video. (1) What is the loss you'd get if the predicted probabilities at initialization were perfectly uniform? What loss do we achieve? (2) Can you tune the initialization to get a starting loss that is much more similar to (1)?\n",
        "- E03: Read the Bengio et al 2003 paper (link above), implement and try any idea from the paper. Did it work?"
      ]
    },
    {
      "attachments": {},
      "cell_type": "markdown",
      "metadata": {},
      "source": [
        "### Exercise 1: \n",
        "- Tune the hyperparameters of the training to beat my best validation loss of 2.2"
      ]
    },
    {
      "cell_type": "code",
      "execution_count": 197,
      "metadata": {},
      "outputs": [],
      "source": [
        "# create the training, validation, and test sets\n",
        "names = open('names.txt', 'r').read().splitlines()\n",
        "num_names = len(names)\n",
        "# shuffle the names\n",
        "import random\n",
        "random.shuffle(names)\n",
        "num_train = int(num_names * 0.8)\n",
        "num_val = int(num_names * 0.1)\n",
        "num_test = num_names - num_train - num_val\n",
        "\n",
        "train_names = names[:num_train]\n",
        "val_names = names[num_train:num_train+num_val]\n",
        "test_names = names[num_train+num_val:]\n",
        "\n",
        "# Train the model with different hyperparameters\n",
        "# lrs = [0.1, 0.01, 0.001, 0.0001]\n",
        "# batch_sizes = [64, 128, 256, 512]\n",
        "\n",
        "# embedding size: how many dimensions to embed the characters into\n",
        "\n",
        "ch_emb_sizes = [4]\n",
        "neuron_sizes = [200]\n",
        "second_neuron_size = 100\n",
        "block_sizes = [4] # context length: how many characters to consider before predicting the next character\n",
        "num_epoch_sizes = [50000]\n",
        "\n",
        "\n",
        " # Create a function to train the model\n",
        "def train(names=train_names, weights=[], lr=0.1, batch_size=32):\n",
        "    loss_counts = []\n",
        "    num_names = len(names)\n",
        "\n",
        "    # Create a dictionary of characters and their indices\n",
        "    chars = sorted(list(set(''.join(names))))\n",
        "    char2idx = {c: i+1 for i, c in enumerate(chars)}\n",
        "    idx2char = {i+1: c for i, c in enumerate(chars)}\n",
        "    char2idx['.'] = 0\n",
        "    idx2char[0] = '.'\n",
        "\n",
        "    tuned_weights = []\n",
        "\n",
        "    epoch_counts = []\n",
        "\n",
        "    for K in ch_emb_sizes:\n",
        "        for neurons in neuron_sizes:\n",
        "            for block_size in block_sizes:\n",
        "                for epochs in num_epoch_sizes:\n",
        "                    lr = 0.1\n",
        "                    # Build the dataset\n",
        "                    X, Y = [], []\n",
        "\n",
        "                    for name in names[:num_names]:\n",
        "                        name = name + '.'\n",
        "                        context = [0] * block_size      # The first context is a block of zeros which enables padding\n",
        "                        for c in name:\n",
        "                            X.append(context)\n",
        "                            Y.append(char2idx[c])      # The next character is context[-1] (the last character in the context)\n",
        "                            context = context[1:] + [char2idx[c]]   # Crop & shift the context by one character\n",
        "                            \n",
        "                    X = torch.tensor(X, dtype=torch.long)\n",
        "                    Y = torch.tensor(Y, dtype=torch.long)\n",
        "\n",
        "                    num_epochs = epochs\n",
        "                    adjustment_epoch = num_epochs // 2\n",
        "\n",
        "                    # print('epochs:', epochs)\n",
        "                    # print('adjustment_epoch:', adjustment_epoch)\n",
        "\n",
        "                    layer_size = K * block_size # MOVE BELOW\n",
        "\n",
        "\n",
        "                    # Embed the characters\n",
        "                    C = torch.randn((27, K))    # Two dimensional embedding -> 3D -> \n",
        "                    emb = C[X]\n",
        "\n",
        "                    # construct the first hidden layer\n",
        "                    W1 = torch.randn(layer_size, neurons)\n",
        "                    b1 = torch.randn(neurons)\n",
        "\n",
        "                    # construct the second hidden layer\n",
        "                    W2 = torch.randn(neurons, second_neuron_size)\n",
        "                    b2 = torch.randn(second_neuron_size)\n",
        "\n",
        "                    # construct the output layer\n",
        "                    W3 = torch.randn(second_neuron_size, 27)\n",
        "                    b3 = torch.randn(27) \n",
        "\n",
        "                    # Set the parameters to require gradients\n",
        "                    parameters = [W1, b1, W2, b2, W3, b3, C]\n",
        "                    for p in parameters:\n",
        "                        p.requires_grad = True\n",
        "                    \n",
        "                    # Forward pass\n",
        "                    for epoch in range(epochs):\n",
        "                        epoch_counts.append(epoch)\n",
        "                        # Tune the learning rate and batch size\n",
        "                        if epoch == adjustment_epoch:\n",
        "                            lr = lr / 10\n",
        "                        # if epoch == adjustment_epoch + adjustment_epoch // 2:\n",
        "                        #     lr = lr / 10\n",
        "                            # batch_size = batch_size * 2\n",
        "                            # print(f'Adjusting learning rate to {lr} and batch size to {batch_size} at epoch {epoch}.')\n",
        "                        # elif epoch < adjustment_epoch and lr <= 0.01:\n",
        "                        #     lr = lr * 10\n",
        "                        #     # print(f'Adjusting learning rate to {lr} and batch size to {batch_size} at epoch {epoch}.')\n",
        "\n",
        "                        rand_batch_idx = torch.randint(0, num_names, (batch_size,))\n",
        "                        x_batch = X[rand_batch_idx]\n",
        "                        y_batch = Y[rand_batch_idx]\n",
        "\n",
        "                        # Embed the characters\n",
        "                        emb = C[x_batch]\n",
        "                        emb = emb.view(-1, layer_size)\n",
        "\n",
        "                        # Calculate the first hidden layer\n",
        "                        h1 = emb @ W1 + b1\n",
        "                        h2 = torch.tanh(h1 @ W2 + b2)\n",
        "                        logits = h2 @ W3 + b3\n",
        "\n",
        "                        # Calculate the loss\n",
        "                        loss = F.cross_entropy(logits, y_batch)\n",
        "                        loss_counts.append(loss.item())\n",
        "                        \n",
        "                        # Backward pass\n",
        "                        loss.backward()\n",
        "                        \n",
        "                        # Update the weights\n",
        "                        with torch.no_grad():\n",
        "                            W1 -= lr * W1.grad\n",
        "                            b1 -= lr * b1.grad\n",
        "                            W2 -= lr * W2.grad\n",
        "                            b2 -= lr * b2.grad\n",
        "                            W3 -= lr * W3.grad\n",
        "                            b3 -= lr * b3.grad\n",
        "                            C -= lr * C.grad\n",
        "                            \n",
        "                        # Zero the gradients\n",
        "                        W1.grad.zero_()\n",
        "                        b1.grad.zero_()\n",
        "                        W2.grad.zero_()\n",
        "                        b2.grad.zero_()\n",
        "                        W3.grad.zero_()\n",
        "                        b3.grad.zero_()\n",
        "                        C.grad.zero_()\n",
        "                        \n",
        "                        # if epoch % 1000 == 0:\n",
        "                        #     print(f'Epoch: {epoch}, Loss: {loss.item()}')\n",
        "\n",
        "                    print(f'lr={lr:.3f}, batch_size={batch_size}, num_names={num_names}, min_loss={min(loss_counts):.3f}, K={K}, neurons={neurons}, block_size={block_size}, epochs={epochs}')\n",
        "                    tuned_weights.append([C, W1, b1, W2, b2, W3, b3, K, neurons, second_neuron_size, block_size, epochs, min(loss_counts)])\n",
        "\n",
        "    # Plot the loss\n",
        "    plt.plot(loss_counts)\n",
        "    plt.xlabel('Epoch')\n",
        "    plt.ylabel('Loss')\n",
        "    plt.title(f'Loss over time')\n",
        "    plt.annotate(f'lr={lr:.3f}, batch_size={batch_size}, num_names={num_names}, min_loss={min(loss_counts):.3f}', (0, 0), (0, -40), xycoords='axes fraction', textcoords='offset points', va='top')\n",
        "\n",
        "    # Return the trained parameter weighst\n",
        "    return tuned_weights\n",
        "\n",
        "tuned_weights = train()"
      ]
    },
    {
      "cell_type": "code",
      "execution_count": null,
      "metadata": {},
      "outputs": [
        {
          "name": "stdout",
          "output_type": "stream",
          "text": [
            "val_loss_params: (2.50475811958313, 3, 400, 100, 4, 50000, 1.7651023864746094)\n",
            "train_loss_params: (2.5015368461608887, 3, 400, 100, 4, 50000, 1.7651023864746094)\n",
            "\n"
          ]
        }
      ],
      "source": [
        "# Evaluate the hopefully overfitted model\n",
        "def evaluate(names, hyperparams):\n",
        "    C, W1, b1, W2, b2, W3, b3, K, neurons, second_neuron_size, block_size, epochs, min_loss = hyperparams\n",
        "    num_names = len(names)\n",
        "\n",
        "    # Build the dataset\n",
        "    X, Y = [], []\n",
        "\n",
        "    for name in names[:num_names]:\n",
        "        name = name + '.'\n",
        "        context = [0] * block_size      # The first context is a block of zeros which enables padding\n",
        "        for c in name:\n",
        "            X.append(context)\n",
        "            Y.append(char2idx[c])      # The next character is context[-1] (the last character in the context)\n",
        "            context = context[1:] + [char2idx[c]]   # Crop & shift the context by one character\n",
        "            \n",
        "    X = torch.tensor(X, dtype=torch.long)   # Should we be using long or ints?\n",
        "    Y = torch.tensor(Y, dtype=torch.long)\n",
        "\n",
        "    layer_size = K * block_size\n",
        "\n",
        "    # Embed the characters\n",
        "    emb = C[X]\n",
        "    emb = emb.view(-1, layer_size)\n",
        "    h = emb @ W1 + b1\n",
        "    h = torch.tanh(h @ W2 + b2)\n",
        "    logits = h @ W3 + b3\n",
        "\n",
        "    # Calculate the loss\n",
        "    loss = F.cross_entropy(logits, Y)\n",
        "    \n",
        "    return loss.item(), K, neurons, second_neuron_size, block_size, epochs, min_loss\n",
        "\n",
        "for hyperparams in tuned_weights:\n",
        "    val_loss_params = evaluate(val_names, hyperparams)\n",
        "    val_losses.append(val_loss_params)\n",
        "    print(f'val_loss_params: {val_loss_params}')\n",
        "\n",
        "    train_loss_params = evaluate(train_names, hyperparams)\n",
        "    print(f'train_loss_params: {train_loss_params}\\n')\n"
      ]
    },
    {
      "cell_type": "code",
      "execution_count": null,
      "metadata": {},
      "outputs": [
        {
          "name": "stdout",
          "output_type": "stream",
          "text": [
            "(2.8731911182403564, 3, 400, 200, 4, 5000, 1.984777808189392)\n",
            "(2.838102102279663, 3, 400, 200, 4, 5000, 2.314951181411743)\n",
            "(2.6811134815216064, 3, 400, 200, 4, 15000, 2.0333564281463623)\n",
            "(2.50475811958313, 3, 400, 100, 4, 50000, 1.7651023864746094)\n"
          ]
        }
      ],
      "source": [
        "for val_loss in val_losses:\n",
        "    print(val_loss)"
      ]
    },
    {
      "cell_type": "code",
      "execution_count": 38,
      "metadata": {},
      "outputs": [],
      "source": [
        "# Sample from the model\n",
        "def sample(C, W1, b1, W2, b2,  num_names=10):\n",
        "    context = [0] * block_size\n",
        "    generated_names = []\n",
        "    \n",
        "    for i in range(num_names):\n",
        "        # Sample a name from the starting context character (.)\n",
        "        context = [0] * block_size\n",
        "        emb = C[context]\n",
        "        name = ''\n",
        "        while True:\n",
        "            # Embed the characters\n",
        "            emb = C[context]\n",
        "            emb = emb.view(-1, layer_size)\n",
        "\n",
        "            # Calculate the hidden layer\n",
        "            h = torch.tanh(emb @ W1 + b1)\n",
        "            logits = h @ W2 + b2\n",
        "\n",
        "            # Sample from the output layer\n",
        "            probs = logits.exp() / logits.exp().sum()\n",
        "            idx = torch.multinomial(probs, 1)\n",
        "\n",
        "            # Check if we're done\n",
        "            if idx2char[idx.item()] == '.':\n",
        "                generated_names.append(name)\n",
        "                break\n",
        "\n",
        "            # Add the character to the name\n",
        "            name += (idx2char[idx.item()])\n",
        "\n",
        "            # Update the context\n",
        "            context = context[1:] + [idx.item()]\n",
        "    \n",
        "    return generated_names"
      ]
    },
    {
      "cell_type": "code",
      "execution_count": 41,
      "metadata": {},
      "outputs": [
        {
          "name": "stdout",
          "output_type": "stream",
          "text": [
            "Example weights: [tensor([[-1.6151,  0.4331, -0.2931],\n",
            "        [-0.0288, -0.2700,  0.3360],\n",
            "        [-0.1532,  0.1982,  0.2513],\n",
            "        [ 0.1888,  0.2084,  0.2760],\n",
            "        [ 0.0315,  0.1771,  0.0886],\n",
            "        [-0.0284, -0.3845,  0.0920],\n",
            "        [-0.0046,  0.1789,  0.1480],\n",
            "        [ 0.0892,  0.0763,  0.2648],\n",
            "        [ 0.3877,  0.2708, -0.0433],\n",
            "        [ 0.1860, -0.3919, -0.0546],\n",
            "        [ 0.1825,  0.1706, -0.1213],\n",
            "        [ 0.1735,  0.2874,  0.1056],\n",
            "        [ 0.0434,  0.4218, -0.1677],\n",
            "        [ 0.2854,  0.3064, -0.1072],\n",
            "        [ 0.2205, -0.0062, -0.2922],\n",
            "        [ 0.1468, -0.3178,  0.2880],\n",
            "        [ 0.0231,  0.2422,  0.2512],\n",
            "        [ 0.4479,  0.2504, -1.1159],\n",
            "        [ 0.0418,  0.1297, -0.1864],\n",
            "        [ 0.1742,  0.1809,  0.2244],\n",
            "        [ 0.0820,  0.2657,  0.2408],\n",
            "        [ 0.1387, -0.3843,  0.1501],\n",
            "        [ 0.1739,  0.2783, -0.0999],\n",
            "        [ 0.1886,  0.1990, -0.0924],\n",
            "        [ 0.2329,  0.0265,  0.0213],\n",
            "        [ 0.3216, -0.1348, -0.0443],\n",
            "        [ 0.2302,  0.2816, -0.0133]], requires_grad=True), tensor([[ 1.3219, -0.6206, -0.5787,  ...,  1.4947, -0.7337,  0.4850],\n",
            "        [-1.5088, -0.2162,  1.1028,  ..., -0.5155,  0.5559,  0.9206],\n",
            "        [ 0.4852, -1.1755,  0.1218,  ..., -1.1283, -0.0950, -0.0970],\n",
            "        ...,\n",
            "        [ 1.0168,  0.2025,  1.0281,  ...,  0.4715, -1.2847,  0.0976],\n",
            "        [ 0.1187,  0.3796,  1.3361,  ...,  1.2880,  3.1638, -0.1589],\n",
            "        [-0.8186,  0.1399, -0.8665,  ...,  1.2450, -1.2579, -1.0730]],\n",
            "       requires_grad=True), tensor([ 3.7166e-02, -1.4078e+00, -1.0959e+00, -3.4002e-02, -1.9415e-01,\n",
            "        -3.4994e-02,  6.1745e-02,  6.0295e-01,  1.3926e+00,  1.7064e+00,\n",
            "        -1.5103e+00,  2.5789e-01, -2.1195e+00,  6.0973e-01, -2.0301e+00,\n",
            "         1.7168e+00, -5.5929e-01,  6.8180e-01,  6.7707e-01,  2.7496e+00,\n",
            "        -3.7386e-01,  2.3000e-01,  3.3847e-01,  9.9740e-03,  1.8325e-01,\n",
            "         1.3098e+00,  2.1545e+00, -5.1105e-01,  7.2725e-02,  1.4546e+00,\n",
            "         1.2782e-01, -1.9194e+00,  2.1790e+00, -2.1029e+00, -1.5041e+00,\n",
            "         1.7933e+00, -7.7118e-01, -6.1070e-01,  1.2864e-01, -5.4737e-01,\n",
            "         2.1168e-01, -6.7535e-01, -6.7872e-01, -1.7205e-01,  3.0468e-01,\n",
            "        -1.1057e+00, -1.9971e-01,  6.1287e-01, -1.0441e-01,  1.0987e+00,\n",
            "        -5.9305e-01, -6.8197e-01,  3.0696e-01,  5.8236e-01, -3.9224e-02,\n",
            "         1.4100e-01, -3.6317e-01,  8.0801e-01,  5.7668e-01, -1.7776e+00,\n",
            "         3.0486e+00,  3.3166e-01,  2.7066e-01, -8.9342e-01,  1.1937e+00,\n",
            "        -8.3444e-01,  2.3583e-01, -7.0961e-01, -2.1018e+00, -1.9702e+00,\n",
            "        -9.1431e-01,  5.1697e-01, -5.9786e-01,  3.6057e-01, -4.7841e-01,\n",
            "         6.7426e-01, -6.1686e-01,  6.4858e-01,  7.5496e-01,  1.7009e+00,\n",
            "        -5.6986e-01, -7.4496e-01,  1.6771e+00, -4.9568e-01, -1.1372e+00,\n",
            "         1.9249e+00, -1.6505e+00, -6.1822e-01, -5.1535e-02,  2.2118e-01,\n",
            "        -1.0334e+00,  1.9071e-01,  1.2806e+00,  5.9830e-01,  1.6030e-01,\n",
            "        -1.1282e+00, -1.6284e+00,  1.3928e+00, -5.1401e-02,  8.1332e-02,\n",
            "        -9.1947e-01,  6.5679e-01, -1.7055e-01, -3.7226e-01, -1.6375e-01,\n",
            "        -6.9581e-01, -1.7368e-01,  2.1972e-01,  1.4408e+00, -1.6278e+00,\n",
            "         1.0807e-01, -4.1434e-01,  1.5644e-01,  1.3619e+00, -3.5559e-01,\n",
            "         1.5862e+00, -1.8737e-01,  2.3215e-01, -3.4457e-01,  1.8250e+00,\n",
            "         1.3754e+00, -7.8433e-02, -1.4595e-01, -3.1760e+00, -7.4022e-01,\n",
            "         1.1870e-01,  2.7680e-01,  1.9351e+00, -1.0901e+00,  7.9703e-01,\n",
            "         2.4448e-01, -9.8129e-01, -1.9540e-01,  1.4674e+00,  2.9082e-01,\n",
            "         6.8935e-02, -4.2079e-01, -5.2723e-01, -1.0183e+00,  1.4187e+00,\n",
            "         2.1766e-01,  1.4845e-01, -1.4575e-01, -5.7849e-01, -1.0364e-01,\n",
            "         2.4630e-01, -5.8721e-02,  8.3753e-01,  7.1367e-01, -1.2294e+00,\n",
            "         5.0280e-01, -1.3819e-01,  3.5804e-03, -2.5265e-02, -2.0091e+00,\n",
            "        -5.9341e-01, -1.1649e+00, -3.3618e-02, -5.7476e-02, -2.3860e-01,\n",
            "         8.2161e-01,  3.9149e-01, -1.9162e-01,  8.8470e-01,  1.5211e+00,\n",
            "         1.0522e+00,  5.1687e-01, -5.1415e-01, -5.9404e-02, -1.1532e-01,\n",
            "        -2.1182e+00, -1.7162e+00, -1.7392e-01,  1.1050e+00,  1.9385e+00,\n",
            "         1.7914e-01, -9.7783e-01, -4.7345e-02, -1.0360e+00,  4.2737e-01,\n",
            "         1.1337e+00, -8.0279e-01, -5.5719e-01,  1.0158e+00, -7.6644e-02,\n",
            "        -1.3661e-01,  4.3447e-01, -1.1756e+00, -1.1620e+00,  2.4407e-01,\n",
            "         2.0768e+00, -7.0944e-01,  9.4096e-01,  6.3686e-02,  5.2674e-01,\n",
            "         7.1920e-01,  1.7314e-01, -2.9051e-01,  1.4459e+00, -1.1417e-01,\n",
            "         1.3647e+00,  2.9511e-01, -7.4789e-01,  1.4900e+00, -7.3996e-01,\n",
            "        -3.6589e-01,  1.9821e+00,  3.4804e-01,  1.4850e-01, -8.1781e-01,\n",
            "         1.0250e+00,  4.2620e-01, -8.2419e-01, -1.9691e+00, -1.6179e+00,\n",
            "         1.0697e-01, -1.3834e-01, -4.0817e-01,  4.8015e-01, -1.1238e+00,\n",
            "         1.1647e+00, -9.6699e-01,  5.8492e-01,  2.3616e-01, -9.3901e-01,\n",
            "         4.3503e-01,  1.9140e+00, -1.0147e+00, -5.8499e-01, -1.6859e-01,\n",
            "        -6.5611e-03,  3.0690e-01,  1.3157e+00, -3.5989e-02, -8.0169e-02,\n",
            "         4.8146e-01,  1.6198e+00, -8.6253e-01,  1.2612e+00,  5.1063e-01,\n",
            "         5.5336e-01,  4.1656e-01, -1.4484e+00, -1.5351e-01, -6.7110e-01,\n",
            "         7.3308e-01,  2.1937e-01, -2.4618e+00,  6.3716e-01, -9.0674e-01,\n",
            "        -1.0306e+00, -1.8642e+00,  1.0496e-01,  1.8673e-01, -7.7099e-01,\n",
            "        -5.6452e-02, -9.4360e-01, -6.9923e-01,  7.2283e-01,  1.4699e-01,\n",
            "        -5.0674e-01, -1.0510e+00, -1.7895e-01,  7.4356e-01, -5.9234e-02,\n",
            "        -8.9845e-01, -5.5999e-01,  6.0028e-01,  1.2528e+00, -3.1394e-02,\n",
            "        -2.1590e+00, -4.7572e-01, -2.0567e-01, -1.9084e-01, -3.4681e-01,\n",
            "        -4.1716e-01, -1.3157e+00, -1.8732e+00, -9.1752e-02, -4.1488e-01,\n",
            "        -8.8136e-01,  3.0691e-02,  1.7564e+00,  1.6291e-01,  2.6161e+00,\n",
            "        -2.4303e-01, -6.7379e-01, -8.7126e-01, -3.7292e-01,  7.7697e-01,\n",
            "        -5.8335e-01,  2.0191e+00, -8.7065e-01,  1.5070e-01,  9.7740e-01,\n",
            "        -5.3229e-01,  1.1668e+00, -1.4002e+00,  1.4272e-01, -9.2169e-01,\n",
            "         9.4115e-01, -3.2339e-01,  8.2376e-01, -1.9309e-01,  5.3025e-01,\n",
            "        -6.0577e-01, -8.3268e-01,  8.7689e-01, -1.2420e+00, -1.8098e-01,\n",
            "        -1.2199e+00, -1.2055e-01, -4.1262e-01, -2.2417e-01, -1.4162e-01,\n",
            "        -2.2261e-01, -2.0070e-01,  5.5511e-01, -3.1185e-01,  1.7610e+00,\n",
            "        -1.4268e+00, -4.8235e-01,  1.6219e-01,  4.4994e-02,  1.3542e+00,\n",
            "         1.5800e-01, -1.5128e+00,  5.5742e-01, -4.6409e-01,  3.2676e-01,\n",
            "        -4.1996e-01,  1.4516e+00,  8.0187e-01, -8.2953e-02,  2.1895e+00,\n",
            "        -3.1430e-01,  8.1141e-01,  2.9713e+00, -1.1397e+00,  3.1012e-01,\n",
            "         1.2422e-01,  1.2099e+00, -1.0328e+00,  1.0698e+00, -6.2249e-01,\n",
            "         4.7124e-01, -2.2193e-01,  6.1505e-01, -2.8816e-02, -9.3060e-01,\n",
            "         4.8819e-01,  1.2958e+00, -1.2009e-03,  2.2489e+00,  7.6874e-01,\n",
            "        -6.5714e-01,  5.5371e-01, -5.8660e-01,  4.0242e-01, -4.9498e-01,\n",
            "        -1.5558e-01, -1.2917e+00, -6.6074e-01,  2.5773e-01, -1.8296e-01,\n",
            "        -3.4942e-01, -9.7717e-01, -3.2257e+00, -3.7740e-01, -5.7117e-01,\n",
            "        -9.3835e-01, -1.0100e-01,  2.3504e+00, -1.2454e+00,  1.4551e+00,\n",
            "         2.4040e+00, -6.1109e-01, -2.8286e-01,  1.4664e-01,  8.0355e-02,\n",
            "         6.4652e-01,  8.4856e-01, -3.5691e-01,  5.3082e-01, -2.0292e+00,\n",
            "         8.6187e-01, -2.5925e-01, -1.5247e+00, -6.6138e-01, -1.3009e-01,\n",
            "         2.6110e-01,  2.3633e-01,  9.8791e-01, -1.0042e+00, -1.3529e+00,\n",
            "         6.0758e-01, -1.4432e-01, -1.5792e+00,  5.6503e-01,  1.6687e+00,\n",
            "         2.9566e-01,  4.1499e-01,  3.2916e-01,  1.0439e+00, -8.4181e-01,\n",
            "         1.0639e+00,  9.4752e-01, -7.6754e-01, -5.4189e-01, -3.6176e-01,\n",
            "        -2.1289e+00, -2.1380e+00,  1.1330e-01, -6.0060e-01, -9.5347e-01,\n",
            "         4.9416e-01,  1.4619e+00, -4.2120e-01,  1.1101e-01,  1.3898e+00,\n",
            "         5.9505e-01, -1.2422e-01, -1.0201e-01, -6.2265e-01, -6.4881e-01,\n",
            "        -2.6680e-02, -1.0989e+00, -2.9525e-01, -2.2512e-01,  9.6664e-01,\n",
            "        -1.6988e+00,  1.4469e+00,  7.1488e-01, -3.1520e-01,  4.8933e-01,\n",
            "        -6.8431e-01, -3.4035e-01, -1.2893e+00, -3.4491e-01, -3.7409e-01,\n",
            "         2.9788e-01,  8.8652e-01, -5.7250e-02,  5.1322e-01, -2.0622e+00,\n",
            "         1.0783e-01, -2.3184e+00,  5.3666e-01,  1.9240e+00, -1.3693e+00,\n",
            "        -4.4091e-01, -9.5133e-01, -7.7320e-01, -4.2294e-01,  6.9100e-01,\n",
            "         2.0329e+00,  1.4307e+00, -1.9956e-01, -4.4690e-01,  2.9417e+00,\n",
            "        -7.2067e-01, -2.3308e-01, -6.0344e-01, -6.7428e-01, -1.5071e+00,\n",
            "         2.1963e-01,  8.0135e-01,  1.5194e-01, -1.4050e+00, -3.3222e-02,\n",
            "         1.0896e+00, -5.8495e-01, -9.6820e-02, -2.6054e-01,  6.2073e-01,\n",
            "        -3.1886e-01,  9.8092e-01, -3.2906e-02,  3.6598e-02, -6.9700e-03,\n",
            "        -9.1852e-01, -2.9129e+00, -1.6063e+00, -8.7317e-02,  3.7388e-01,\n",
            "        -6.7128e-01, -7.8126e-01, -2.8950e-01, -6.2617e-01,  1.0725e-01,\n",
            "         2.3399e-01,  1.0377e-01,  3.1592e-01,  2.8326e-01, -7.5103e-01,\n",
            "        -5.3743e-01,  1.3937e+00, -7.0037e-01,  5.8527e-01, -1.3619e-01,\n",
            "        -3.4995e-01,  2.3468e-01, -5.5265e-01, -1.6591e+00,  4.6325e-01,\n",
            "        -3.2696e-01, -1.1186e+00, -8.3884e-01,  1.6404e+00, -4.0788e-01,\n",
            "        -1.1784e-01, -2.7589e-01, -2.4583e-01, -9.0948e-01, -2.3888e-01,\n",
            "         3.3732e-01, -1.1277e-01,  1.3712e-01,  2.4660e-01,  7.0625e-02,\n",
            "         1.0137e-01,  4.2897e-01,  5.5167e-01, -2.2164e-01, -6.7673e-01,\n",
            "        -4.8149e-01,  1.0417e+00,  1.6657e+00, -9.0269e-01,  1.4856e+00,\n",
            "         2.8863e-01,  2.3330e-01, -3.4476e-01,  8.3142e-01, -3.4075e+00,\n",
            "        -4.2395e-01, -1.7593e+00, -7.0089e-01,  3.8711e-01, -1.9134e-01,\n",
            "         4.3798e-01, -1.0422e-01, -1.1978e+00, -1.4579e-01, -4.0593e-01,\n",
            "         1.3104e-02, -8.8882e-01, -8.4860e-02,  6.5264e-01, -5.9965e-01,\n",
            "        -4.7212e-01, -1.0741e-01, -3.9927e-03, -2.1666e+00,  9.8198e-01,\n",
            "        -5.2397e-01, -2.9681e-01, -1.2614e-01, -5.1294e-01,  1.6390e+00,\n",
            "         3.5145e-02, -1.2762e-01,  1.8642e+00, -3.9008e-01,  1.9218e+00,\n",
            "         3.6318e-01,  2.6190e-01,  1.0466e+00,  4.4922e-01, -3.4595e-01,\n",
            "        -9.9629e-01, -5.1482e-01,  6.3911e-01,  3.5042e-01, -3.9345e-01,\n",
            "         4.4390e-02, -4.2090e-01,  6.6537e-01,  4.1231e-01, -1.9735e-01,\n",
            "        -8.2151e-01,  1.6804e-02, -1.2447e+00, -1.1783e+00, -1.8671e-01,\n",
            "         2.1237e+00, -1.1787e+00,  1.3321e+00, -1.8170e+00,  2.5350e-01,\n",
            "        -2.7495e+00,  1.0028e+00,  3.8277e-01, -1.3153e+00, -1.2457e+00,\n",
            "        -1.1544e-01,  4.8467e-02,  9.0530e-01,  2.0147e+00,  5.4971e-03,\n",
            "         3.2309e-01, -1.3447e-01,  7.2401e-02,  2.3358e+00, -3.9672e-01,\n",
            "        -3.0779e+00, -1.2438e+00,  5.3582e-01, -8.4971e-02,  3.6311e+00,\n",
            "         1.3628e+00, -8.9011e-02, -4.4717e-01,  1.3445e-01,  8.6932e-01,\n",
            "        -5.2060e-01,  3.2330e+00,  5.0900e-01, -4.2412e-01,  3.1753e-01,\n",
            "        -1.9303e+00,  1.6148e-01, -1.0099e+00,  1.3637e-01, -1.8564e-03,\n",
            "         6.1545e-02, -3.3602e-01, -2.0673e-01, -9.2930e-01, -7.8845e-01,\n",
            "         5.3757e-01, -3.4614e-01,  2.2501e+00, -2.5553e-01, -2.1883e-01,\n",
            "        -8.8106e-01, -1.9581e-01, -1.8778e-01, -3.8925e-01, -1.8520e+00,\n",
            "        -5.0540e-01, -9.0766e-01,  4.4862e-01,  2.6867e-01,  1.5842e-01,\n",
            "         2.6453e-02, -1.3665e+00, -1.5339e+00, -5.9948e-01,  1.0683e+00,\n",
            "         7.8960e-01,  6.2522e-01,  9.8465e-01, -1.4383e-02, -3.1368e-01,\n",
            "        -3.7902e+00,  2.4412e-01, -5.4928e-01, -1.1045e+00,  2.6862e-01,\n",
            "         3.4665e-01, -4.9710e-02,  1.2421e-01,  1.7971e+00, -7.7584e-02,\n",
            "        -6.0534e-01,  1.4824e+00,  7.0456e-02, -4.9391e-01,  5.3244e-01,\n",
            "        -2.1291e+00, -2.8101e+00,  5.2529e-01,  2.7024e-01,  2.3214e-01,\n",
            "         2.3238e-01,  2.3011e-01,  8.3272e-01,  1.2242e+00, -1.2330e+00,\n",
            "         1.8384e+00, -8.1834e-01, -1.2469e+00,  2.0812e+00, -3.2880e-01,\n",
            "        -1.9932e-02, -1.0704e+00, -6.4258e-01, -2.0896e-01, -2.9747e-01,\n",
            "        -2.0097e+00, -9.4819e-02, -1.1886e+00,  1.4993e+00,  1.3346e+00,\n",
            "         1.0287e+00,  1.1915e+00,  2.8194e-01, -1.1128e+00, -5.7516e-01,\n",
            "        -2.0977e-01, -1.3248e-02, -1.1685e-02,  1.5627e+00, -1.6973e-01,\n",
            "         1.6048e+00,  6.6656e-01, -1.7434e+00, -1.2789e-01,  4.0011e-01,\n",
            "        -7.7524e-02, -3.8051e-01,  1.8614e-01,  1.3840e+00,  6.6309e-01,\n",
            "        -4.4521e-01, -8.8561e-01,  8.9097e-01,  1.3355e-01, -2.7122e-01,\n",
            "         1.3004e-01, -3.6142e-01, -1.1202e+00,  1.4125e-01,  9.4524e-01,\n",
            "         1.3787e+00, -1.7393e+00,  3.2255e-01, -1.7224e+00, -2.6734e-01,\n",
            "         9.5963e-01, -2.6842e-01, -3.2229e-01, -8.3609e-01,  1.9122e-01,\n",
            "         1.3207e+00,  2.1598e+00,  1.5328e-01,  3.6216e-01, -1.0452e+00,\n",
            "         3.1605e-01, -1.5015e+00,  1.6235e-01, -1.0272e+00, -8.1594e-01,\n",
            "        -4.3500e-01,  6.1270e-01,  7.2484e-01, -2.6269e-01, -5.0943e-01,\n",
            "         2.4999e-02, -3.0855e-01, -1.0040e+00,  1.2328e-01, -4.1113e-01,\n",
            "        -1.0362e-01,  5.9596e-01, -8.3742e-01,  8.4926e-01, -1.9911e+00,\n",
            "         5.4176e-01, -1.6695e+00, -1.0428e-02,  6.0224e-01, -3.7381e-02,\n",
            "         1.1137e+00,  4.3629e-01,  1.3196e+00,  2.5967e-01,  2.8697e-01,\n",
            "         3.5076e-01, -1.7155e+00,  1.2973e-01,  2.5649e-01, -3.3551e-01,\n",
            "         7.0873e-01,  3.8616e-01,  1.3945e+00, -2.7098e+00,  7.6070e-01,\n",
            "         3.5457e-01, -2.8737e-01,  1.7381e-02,  1.0333e+00, -7.1380e-03,\n",
            "        -6.5932e-01,  1.3287e+00,  1.6096e+00, -5.5277e-01, -8.5832e-01,\n",
            "         9.9050e-01, -8.7046e-01, -3.7666e-01,  3.5599e-01,  1.9755e+00,\n",
            "        -5.8844e-01, -7.0255e-01,  1.6899e-01,  7.9627e-01,  8.4011e-01,\n",
            "         1.3684e+00,  3.5450e-02, -2.7602e-01,  1.4727e+00, -7.5963e-01,\n",
            "         1.0027e+00,  3.0281e-01,  7.2308e-02,  4.9456e-01,  1.8146e+00,\n",
            "        -1.8329e-01, -5.2554e-01,  3.5746e-01, -9.5982e-01, -1.1877e+00,\n",
            "         9.7125e-01,  4.2115e-03, -2.3545e+00, -1.1656e+00,  4.3831e-01,\n",
            "        -5.7275e-01, -8.0097e-01, -9.6205e-01,  1.5957e+00,  5.6098e-01,\n",
            "         4.6626e-01, -5.3435e-01, -1.3171e-02,  7.8891e-01, -1.1340e+00,\n",
            "         6.1911e-02, -6.3618e-01,  6.4365e-01,  1.0836e+00,  2.7532e-01,\n",
            "        -2.2118e-01, -5.5452e-01,  1.1278e+00,  5.6020e-01,  3.0127e-01,\n",
            "         1.5613e-01,  4.2960e-01,  3.5597e-01, -1.5500e-01, -5.1945e-01,\n",
            "         6.7700e-01, -2.1817e-01, -1.5383e+00, -6.5689e-02,  1.1750e+00,\n",
            "         6.1944e-01,  2.7768e-02, -1.4026e+00,  1.0283e+00,  9.7005e-02,\n",
            "        -1.3561e+00,  1.2327e+00, -4.0668e-01,  3.8494e-01,  1.1825e+00,\n",
            "        -7.2553e-01, -5.4670e-01, -2.7197e-03,  4.5785e-01,  8.9542e-01,\n",
            "         1.4359e-01, -2.6458e-01,  1.0249e+00,  8.0175e-01, -8.0505e-01,\n",
            "         1.4683e+00, -1.5734e-02, -6.5989e-01,  2.0636e-01,  2.2757e-01,\n",
            "        -1.4893e+00,  4.8235e-01, -7.4975e-01, -5.1096e-02,  2.4973e-01,\n",
            "        -7.3826e-01, -7.8253e-01,  5.8981e-01,  2.3198e+00, -2.2013e+00,\n",
            "         1.0370e+00,  1.3081e+00, -1.8663e+00, -1.1809e+00,  1.1181e-01,\n",
            "         5.5850e-01,  1.1698e+00,  1.1530e-01,  3.3116e-01, -5.8574e-01,\n",
            "        -1.5829e-01, -8.4382e-02, -6.4651e-01, -2.8842e-01,  9.3806e-01,\n",
            "        -1.2931e+00, -7.9456e-01,  4.2112e-01,  3.1595e-01, -7.7055e-01,\n",
            "        -1.4751e+00, -3.5098e-01, -5.3506e-01,  1.8798e-02,  3.5856e-02,\n",
            "        -2.0609e-01, -5.0382e-02, -8.1621e-01,  4.4515e-01, -4.3911e-01,\n",
            "        -7.9289e-01,  2.0269e+00, -6.4333e-01,  3.4591e-01, -8.5290e-01,\n",
            "        -9.0011e-01,  4.0098e-01, -1.6260e+00,  1.4179e-01,  1.2820e+00,\n",
            "         1.4893e-01,  6.4968e-02,  2.1968e-02, -1.4147e-01,  4.7359e-01,\n",
            "        -1.5105e+00,  1.0307e-01,  5.5664e-01,  1.5112e+00, -2.6764e-01,\n",
            "         1.1141e+00,  2.7278e-02,  1.4949e+00,  4.2221e-01,  3.3517e-01,\n",
            "        -3.8681e-02, -3.9686e-01, -1.2008e-01,  1.1636e-01,  1.2911e-02,\n",
            "         4.5259e-02, -1.7503e-01,  7.3401e-02, -8.5172e-01, -2.8745e-01,\n",
            "        -4.7239e-01,  2.1670e-01, -1.3441e+00,  6.0201e-03,  8.0321e-01,\n",
            "         4.0313e-01,  1.6833e+00,  1.4973e+00, -5.3613e-01, -7.4796e-01,\n",
            "         6.0018e-01, -1.6195e+00,  5.3913e-01, -6.4670e-01,  7.9877e-01,\n",
            "         2.4541e-01, -1.9336e-01, -5.8668e-01, -3.1275e-01, -1.9589e+00,\n",
            "         7.4412e-02, -8.1993e-01,  8.4045e-01, -1.8026e-01, -8.0535e-01,\n",
            "         3.2731e-01,  6.9794e-01, -1.2469e+00, -1.3160e+00, -1.2591e-01,\n",
            "         1.5840e-01, -3.0678e-01,  7.4825e-01,  9.6424e-01,  1.1008e+00,\n",
            "         8.7952e-01,  9.5831e-01, -1.4568e-01,  3.2614e-01, -2.8602e-01,\n",
            "         2.5875e+00,  1.4296e+00, -2.2685e-01, -2.3931e-01, -1.0969e+00,\n",
            "        -1.9196e-01, -5.9225e-01, -9.6461e-01,  3.9662e-01, -4.9290e-01],\n",
            "       requires_grad=True), tensor([[-0.4019, -0.8650,  0.2535,  ...,  0.2163,  0.3501,  0.5856],\n",
            "        [ 0.3869,  0.6513,  0.8208,  ...,  0.0607,  0.4447, -0.9265],\n",
            "        [-0.5714,  0.4434,  1.2416,  ..., -0.6653, -0.1389,  0.0936],\n",
            "        ...,\n",
            "        [-0.4521, -0.0750,  0.4538,  ...,  0.2237,  0.8559, -0.7360],\n",
            "        [ 0.5680,  0.0526,  1.1083,  ..., -1.1292,  0.5611, -0.4794],\n",
            "        [-0.2402,  0.2258,  0.4761,  ..., -0.4006,  0.1541,  0.5413]],\n",
            "       requires_grad=True), tensor([ 1.0779, -0.2615,  0.6728, -1.9295,  1.3738, -1.5584, -0.2515,  0.4409,\n",
            "         0.1443,  0.0085, -0.1812,  0.4280, -0.2687,  0.6331,  0.4757, -0.2056,\n",
            "        -1.2659,  0.6059,  1.0431, -1.3664,  0.5073, -1.1173,  0.3635,  0.3086,\n",
            "        -0.8494, -0.4000,  1.4184], requires_grad=True), 3, 1000, 4, 50000, 1.205239176750183]\n"
          ]
        },
        {
          "ename": "TypeError",
          "evalue": "sample() got multiple values for argument 'num_names'",
          "output_type": "error",
          "traceback": [
            "\u001b[0;31m---------------------------------------------------------------------------\u001b[0m",
            "\u001b[0;31mTypeError\u001b[0m                                 Traceback (most recent call last)",
            "\u001b[0;32m/var/folders/1f/qjk02_3s70zd4sxj573fj7400000gn/T/ipykernel_64102/1816262583.py\u001b[0m in \u001b[0;36m<module>\u001b[0;34m\u001b[0m\n\u001b[1;32m      2\u001b[0m \u001b[0mex_weights\u001b[0m \u001b[0;34m=\u001b[0m \u001b[0mtuned_weights\u001b[0m\u001b[0;34m[\u001b[0m\u001b[0;36m0\u001b[0m\u001b[0;34m]\u001b[0m\u001b[0;34m\u001b[0m\u001b[0;34m\u001b[0m\u001b[0m\n\u001b[1;32m      3\u001b[0m \u001b[0mprint\u001b[0m\u001b[0;34m(\u001b[0m\u001b[0;34m'Example weights:'\u001b[0m\u001b[0;34m,\u001b[0m \u001b[0mex_weights\u001b[0m\u001b[0;34m)\u001b[0m\u001b[0;34m\u001b[0m\u001b[0;34m\u001b[0m\u001b[0m\n\u001b[0;32m----> 4\u001b[0;31m \u001b[0mgenerated_names\u001b[0m \u001b[0;34m=\u001b[0m \u001b[0msample\u001b[0m\u001b[0;34m(\u001b[0m\u001b[0;34m*\u001b[0m\u001b[0mex_weights\u001b[0m\u001b[0;34m,\u001b[0m \u001b[0mnum_names\u001b[0m\u001b[0;34m=\u001b[0m\u001b[0;36m10\u001b[0m\u001b[0;34m)\u001b[0m\u001b[0;34m\u001b[0m\u001b[0;34m\u001b[0m\u001b[0m\n\u001b[0m\u001b[1;32m      5\u001b[0m \u001b[0;34m\u001b[0m\u001b[0m\n\u001b[1;32m      6\u001b[0m \u001b[0;31m# Print the generated names\u001b[0m\u001b[0;34m\u001b[0m\u001b[0;34m\u001b[0m\u001b[0m\n",
            "\u001b[0;31mTypeError\u001b[0m: sample() got multiple values for argument 'num_names'"
          ]
        }
      ],
      "source": [
        "# Sample from the model\n",
        "ex_weights = tuned_weights[0]\n",
        "print('Example weights:', ex_weights)\n",
        "generated_names = sample(*ex_weights, num_names=10)\n",
        "\n",
        "# Print the generated names\n",
        "print('Generated names:')\n",
        "for name in generated_names:\n",
        "    print(name)"
      ]
    },
    {
      "cell_type": "code",
      "execution_count": null,
      "metadata": {},
      "outputs": [
        {
          "ename": "",
          "evalue": "",
          "output_type": "error",
          "traceback": [
            "\u001b[1;31mFailed to start the Kernel. \n",
            "\u001b[1;31mUnhandled error. \n",
            "\u001b[1;31mView Jupyter <a href='command:jupyter.viewOutput'>log</a> for further details."
          ]
        }
      ],
      "source": []
    },
    {
      "attachments": {},
      "cell_type": "markdown",
      "metadata": {},
      "source": [
        "The best I was able to do was \n",
        "- loss.item(), K, neurons, block_size, epochs, min_loss\n",
        "- (2.350400924682617, 3, 1000, 4, 50000, 1.205239176750183)\n",
        "- (2.30, 3, 500, 4, 40000, 1.384570837020874)\n",
        "- (2.296140193939209, 3, 800, 4, 50000, 1.3054497241973877)\n"
      ]
    }
  ],
  "metadata": {
    "colab": {
      "authorship_tag": "ABX9TyOkY45OAMkpFzYuL1GYgdPQ",
      "include_colab_link": true,
      "provenance": []
    },
    "kernelspec": {
      "display_name": "base",
      "language": "python",
      "name": "python3"
    },
    "language_info": {
      "codemirror_mode": {
        "name": "ipython",
        "version": 3
      },
      "file_extension": ".py",
      "mimetype": "text/x-python",
      "name": "python",
      "nbconvert_exporter": "python",
      "pygments_lexer": "ipython3",
      "version": "3.9.13"
    },
    "vscode": {
      "interpreter": {
        "hash": "bebb980880604d236ddcb4913ad10a36ac6cae9759cdda587ed688a750b11c5c"
      }
    }
  },
  "nbformat": 4,
  "nbformat_minor": 0
}
