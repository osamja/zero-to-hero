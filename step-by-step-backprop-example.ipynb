{
 "cells": [
  {
   "cell_type": "code",
   "execution_count": 64,
   "metadata": {},
   "outputs": [],
   "source": [
    "import torch\n",
    "import torch.nn.functional as F\n",
    "import numpy as np\n",
    "import matplotlib.pyplot as plt # for making figures\n",
    "%matplotlib inline"
   ]
  },
  {
   "cell_type": "code",
   "execution_count": 65,
   "metadata": {},
   "outputs": [],
   "source": [
    "def sigmoid(x):\n",
    "    return 1.0 / (1.0 + np.exp(-x))"
   ]
  },
  {
   "attachments": {},
   "cell_type": "markdown",
   "metadata": {},
   "source": [
    "https://mattmazur.com/2015/03/17/a-step-by-step-backpropagation-example/"
   ]
  },
  {
   "cell_type": "code",
   "execution_count": 176,
   "metadata": {},
   "outputs": [],
   "source": [
    "i1 = 0.05\n",
    "i2 = 0.1\n",
    "\n",
    "w1 = 0.15\n",
    "w2 = 0.2\n",
    "w3 = 0.25\n",
    "w4 = 0.3\n",
    "w5 = .4\n",
    "w6 = .45\n",
    "w7 = .5\n",
    "w8 = .55\n",
    "\n",
    "b1 = 0.35\n",
    "b2 = 0.6\n",
    "\n",
    "total_errors = []\n"
   ]
  },
  {
   "cell_type": "code",
   "execution_count": 211,
   "metadata": {},
   "outputs": [
    {
     "name": "stdout",
     "output_type": "stream",
     "text": [
      "w1: 0.6520\n",
      "total error: 0.22631599613307968\n"
     ]
    }
   ],
   "source": [
    "# forward pass\n",
    "\n",
    "print(f'w1: {w1:.4f}')\n",
    "\n",
    "net_h1 = i1 * w1 + i2 * w2 + b1\n",
    "net_h2 = i1 * w3 + i2 * w4 + b1\n",
    "\n",
    "out_h1 = sigmoid((net_h1))\n",
    "out_h2 = sigmoid((net_h2))\n",
    "\n",
    "net_o1 = out_h1 * w5 + out_h2 * w6 + b2\n",
    "net_o2 = out_h1 * w7 + out_h2 * w8 + b2\n",
    "\n",
    "out_o1 = sigmoid((net_o1))\n",
    "out_o2 = sigmoid((net_o2))\n",
    "\n",
    "target1 = 0.01\n",
    "target2 = 0.99\n",
    "\n",
    "e1 = 0.5 * (target1 - out_o1)**2    # MSE\n",
    "e2 = 0.5 * (target2 - out_o2)**2\n",
    "\n",
    "e = e1 + e2\n",
    "total_errors.append(e)\n",
    "print(f'total error: {e}')\n"
   ]
  },
  {
   "cell_type": "code",
   "execution_count": 212,
   "metadata": {},
   "outputs": [
    {
     "name": "stdout",
     "output_type": "stream",
     "text": [
      "partial_e_wrt_w1: -0.015185685089372018\n",
      "partial_e_wrt_w2: -0.015044491012544028\n",
      "partial_e_wrt_w3: -0.030371370178744035\n",
      "partial_e_wrt_w4: -0.030088982025088057\n",
      "partial_e_wrt_w5: 0.07483196841564616\n",
      "partial_e_wrt_w6: -0.07025138776700263\n",
      "partial_e_wrt_w7: 0.07741821408617625\n",
      "partial_e_wrt_w8: -0.07267932533576973\n"
     ]
    }
   ],
   "source": [
    "# backward pass\n",
    "\n",
    "# Calculate partial_e_wrt_w1\n",
    "partial_net_h1_wrt_w1 = i1\n",
    "partial_out_h1_wrt_net_h1 = out_h1 * (1 - out_h1)\n",
    "partial_net_o1_wrt_out_h1 = w5\n",
    "partial_out_o1_wrt_net_o1 = out_o1 * (1 - out_o1)\n",
    "partial_e1_wrt_out_o1 = -(target1 - out_o1)\n",
    "partial_e1_wrt_out_h1 = partial_net_o1_wrt_out_h1 * partial_out_o1_wrt_net_o1 * partial_e1_wrt_out_o1\n",
    "partial_net_o2_wrt_out_h1 = w6\n",
    "partial_out_o2_wrt_net_o2 = out_o2 * (1 - out_o2)\n",
    "partial_e2_wrt_out_o2 = -(target2 - out_o2)\n",
    "partial_e2_wrt_out_h1 = partial_net_o2_wrt_out_h1 * partial_out_o2_wrt_net_o2 * partial_e2_wrt_out_o2\n",
    "partial_e_wrt_out_h1 = partial_e1_wrt_out_h1 + partial_e2_wrt_out_h1\n",
    "partial_e_wrt_w1 = partial_net_h1_wrt_w1 * partial_out_h1_wrt_net_h1 * partial_e_wrt_out_h1\n",
    "\n",
    "# Calculate partial_e_wrt_w2\n",
    "partial_net_h2_wrt_w2 = i1\n",
    "partial_out_h2_wrt_net_h2 = out_h2 * (1 - out_h2)\n",
    "partial_net_o1_wrt_out_h2 = w7\n",
    "partial_e1_wrt_out_h2 = partial_net_o1_wrt_out_h2 * partial_out_o1_wrt_net_o1 * partial_e1_wrt_out_o1\n",
    "partial_net_o2_wrt_out_h2 = w8\n",
    "partial_e2_wrt_out_h2 = partial_net_o2_wrt_out_h2 * partial_out_o2_wrt_net_o2 * partial_e2_wrt_out_o2\n",
    "partial_e_wrt_out_h2 = partial_e1_wrt_out_h2 + partial_e2_wrt_out_h2\n",
    "partial_e_wrt_w2 = partial_net_h2_wrt_w2 * partial_out_h2_wrt_net_h2 * partial_e_wrt_out_h2\n",
    "\n",
    "# Calculate partial_e_wrt_w3\n",
    "partial_net_h1_wrt_w3 = i2\n",
    "partial_e_wrt_w3 = partial_net_h1_wrt_w3 * partial_out_h1_wrt_net_h1 * partial_e_wrt_out_h1\n",
    "\n",
    "# Calculate partial e wrt w4\n",
    "partial_net_h2_wrt_w4 = i2\n",
    "partial_e_wrt_w4 = partial_net_h2_wrt_w4 * partial_out_h2_wrt_net_h2 * partial_e_wrt_out_h2\n",
    "\n",
    "# Calculate partial e wrt w5\n",
    "partial_net_o1_wrt_w5 = out_h1\n",
    "partial_e_wrt_out_o1 = -(target1 - out_o1)\n",
    "partial_e_wrt_w5 = partial_net_o1_wrt_w5 * partial_out_o1_wrt_net_o1 * partial_e_wrt_out_o1\n",
    "\n",
    "# Calculate partial e wrt w6\n",
    "partial_net_o2_wrt_w6 = out_h1\n",
    "partial_e_wrt_out_o2 = -(target2 - out_o2)\n",
    "partial_e_wrt_w6 = partial_net_o2_wrt_w6 * partial_out_o2_wrt_net_o2 * partial_e_wrt_out_o2\n",
    "\n",
    "# Calculate partial e wrt w7\n",
    "partial_net_o1_wrt_w7 = out_h2\n",
    "partial_e_wrt_w7 = partial_net_o1_wrt_w7 * partial_out_o1_wrt_net_o1 * partial_e_wrt_out_o1\n",
    "\n",
    "# Calculate partial e wrt w8\n",
    "partial_net_o2_wrt_w8 = out_h2\n",
    "partial_e_wrt_w8 = partial_net_o2_wrt_w8 * partial_out_o2_wrt_net_o2 * partial_e_wrt_out_o2\n",
    "\n",
    "# Calculate partial e wrt b1\n",
    "partial_net_h1_wrt_b1 = 1\n",
    "partial_net_h2_wrt_b1 = 1\n",
    "partial_e1_wrt_b1 = partial_net_h1_wrt_b1 * partial_net_h2_wrt_b1 * partial_out_h1_wrt_net_h1 * partial_out_h2_wrt_net_h2 * partial_e1_wrt_out_h1 * partial_e1_wrt_out_h2\n",
    "partial_e2_wrt_b1 = partial_net_h1_wrt_b1 * partial_net_h2_wrt_b1 * partial_out_h1_wrt_net_h1 * partial_out_h2_wrt_net_h2 * partial_e2_wrt_out_h1 * partial_e2_wrt_out_h2\n",
    "partial_e_wrt_b1 = partial_e1_wrt_b1 + partial_e2_wrt_b1\n",
    "\n",
    "# Calculate partial e wrt b2\n",
    "partial_e_wrt_b2 = partial_out_h2_wrt_net_h2 * partial_e_wrt_out_h2\n",
    "\n",
    "\n",
    "\n",
    "print(f'partial_e_wrt_w1: {partial_e_wrt_w1}')\n",
    "print(f'partial_e_wrt_w2: {partial_e_wrt_w2}')\n",
    "print(f'partial_e_wrt_w3: {partial_e_wrt_w3}')\n",
    "print(f'partial_e_wrt_w4: {partial_e_wrt_w4}')\n",
    "print(f'partial_e_wrt_w5: {partial_e_wrt_w5}')\n",
    "print(f'partial_e_wrt_w6: {partial_e_wrt_w6}')\n",
    "print(f'partial_e_wrt_w7: {partial_e_wrt_w7}')\n",
    "print(f'partial_e_wrt_w8: {partial_e_wrt_w8}')\n"
   ]
  },
  {
   "cell_type": "code",
   "execution_count": 213,
   "metadata": {},
   "outputs": [],
   "source": [
    "# Let's update w5 and recalculate the total error\n",
    "LR = 10\n",
    "\n",
    "w1 = w1 - LR * partial_e_wrt_w1\n",
    "w2 = w2 - LR * partial_e_wrt_w2\n",
    "w3 = w3 - LR * partial_e_wrt_w3\n",
    "w4 = w4 - LR * partial_e_wrt_w4\n",
    "w5 = w5 - LR * partial_e_wrt_w5\n",
    "w6 = w6 - LR * partial_e_wrt_w6\n",
    "w7 = w7 - LR * partial_e_wrt_w7\n",
    "w8 = w8 - LR * partial_e_wrt_w8\n",
    "\n",
    "\n",
    "\n",
    "# print(f'old w5: {w5}')\n",
    "# w5 = w5 - LR * partial_e_wrt_w5\n",
    "# print(f'updated w5: {w5}')\n",
    "\n",
    "# o1 = h1 * w5 + h2 * w6 + b2\n",
    "# o1 = torch.sigmoid((o1))\n",
    "# e1 = 0.5 * (target1 - o1)**2    # MSE\n",
    "# e = e1 + e2\n",
    "# print(f'total error: {e}')\n",
    "\n",
    "# Let's update w6 and recalculate the total error"
   ]
  },
  {
   "cell_type": "code",
   "execution_count": 214,
   "metadata": {},
   "outputs": [
    {
     "name": "stdout",
     "output_type": "stream",
     "text": [
      "total errors: [0.2983711087600027, 0.26504789932502626, 0.2424984928780024, 0.23193432150910553, 0.2281928793045917, 0.22702093173463356, 0.22662815003017145, 0.22644425995218703, 0.22631599613307968]\n"
     ]
    },
    {
     "data": {
      "image/png": "[encoded data removed]",
      "text/plain": [
       "<Figure size 640x480 with 1 Axes>"
      ]
     },
     "metadata": {},
     "output_type": "display_data"
    }
   ],
   "source": [
    "print(f'total errors: {total_errors}')\n",
    "\n",
    "# Plot the total error\n",
    "plt.plot(total_errors)\n",
    "plt.xlabel('Epoch')\n",
    "plt.ylabel('Total Error')\n",
    "plt.title('Total Error vs Epoch')\n",
    "plt.show()\n"
   ]
  },
  {
   "attachments": {},
   "cell_type": "markdown",
   "metadata": {},
   "source": [
    "### Questions:\n",
    "\n",
    "- Why do we include the bias to require gradients when they don't contain gradients because they're derivative is always zero? Hmm or maybe we just forgot about them?"
   ]
  },
  {
   "attachments": {},
   "cell_type": "markdown",
   "metadata": {},
   "source": [
    "Updating only w1 decreased the error total, but very slow even with a LR of 10"
   ]
  }
 ],
 "metadata": {
  "kernelspec": {
   "display_name": "base",
   "language": "python",
   "name": "python3"
  },
  "language_info": {
   "codemirror_mode": {
    "name": "ipython",
    "version": 3
   },
   "file_extension": ".py",
   "mimetype": "text/x-python",
   "name": "python",
   "nbconvert_exporter": "python",
   "pygments_lexer": "ipython3",
   "version": "3.9.13"
  },
  "orig_nbformat": 4,
  "vscode": {
   "interpreter": {
    "hash": "bebb980880604d236ddcb4913ad10a36ac6cae9759cdda587ed688a750b11c5c"
   }
  }
 },
 "nbformat": 4,
 "nbformat_minor": 2
}
