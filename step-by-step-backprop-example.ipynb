{
 "cells": [
  {
   "cell_type": "code",
   "execution_count": 1,
   "metadata": {},
   "outputs": [],
   "source": [
    "import torch\n",
    "import torch.nn.functional as F\n",
    "import matplotlib.pyplot as plt # for making figures\n",
    "%matplotlib inline"
   ]
  },
  {
   "attachments": {},
   "cell_type": "markdown",
   "metadata": {},
   "source": [
    "https://mattmazur.com/2015/03/17/a-step-by-step-backpropagation-example/"
   ]
  },
  {
   "cell_type": "code",
   "execution_count": 2,
   "metadata": {},
   "outputs": [
    {
     "name": "stdout",
     "output_type": "stream",
     "text": [
      "total error: 0.2983711063861847\n",
      "partial_e_wrt_w5: 0.08216704428195953\n"
     ]
    }
   ],
   "source": [
    "i1 = 0.05\n",
    "i2 = 0.1\n",
    "\n",
    "w1 = 0.15\n",
    "w2 = 0.2\n",
    "w3 = 0.25\n",
    "w4 = 0.3\n",
    "w5 = .4\n",
    "w6 = .45\n",
    "w7 = .5\n",
    "w8 = .55\n",
    "\n",
    "b1 = 0.35\n",
    "b2 = 0.6\n",
    "\n",
    "h1 = i1 * w1 + i2 * w2 + b1\n",
    "h2 = i1 * w3 + i2 * w4 + b1\n",
    "\n",
    "h1 = torch.sigmoid(torch.tensor(h1))\n",
    "h2 = torch.sigmoid(torch.tensor(h2))\n",
    "\n",
    "o1 = h1 * w5 + h2 * w6 + b2\n",
    "o2 = h1 * w7 + h2 * w8 + b2\n",
    "\n",
    "o1 = torch.sigmoid((o1))\n",
    "o2 = torch.sigmoid((o2))\n",
    "\n",
    "target1 = 0.01\n",
    "target2 = 0.99\n",
    "\n",
    "e1 = 0.5 * (target1 - o1)**2    # MSE\n",
    "e2 = 0.5 * (target2 - o2)**2\n",
    "\n",
    "e = e1 + e2\n",
    "print(f'total error: {e}')\n",
    "\n",
    "partial_e_wrt_o1 = -(target1 - o1)\n",
    "partial_out1_wrt_net1 = o1 * (1 - o1)\n",
    "partial_net1_wrt_w5 = h1\n",
    "partial_e_wrt_w5 = partial_e_wrt_o1 * partial_out1_wrt_net1 * partial_net1_wrt_w5\n",
    "\n",
    "print(f'partial_e_wrt_w5: {partial_e_wrt_w5}')\n",
    "\n",
    "\n"
   ]
  },
  {
   "cell_type": "code",
   "execution_count": 3,
   "metadata": {},
   "outputs": [
    {
     "name": "stdout",
     "output_type": "stream",
     "text": [
      "old w5: 0.4\n",
      "updated w5: 0.3589164912700653\n",
      "total error: 0.29498523473739624\n"
     ]
    }
   ],
   "source": [
    "# Let's update w5 and recalculate the total error\n",
    "LR = 0.5\n",
    "print(f'old w5: {w5}')\n",
    "w5 = w5 - LR * partial_e_wrt_w5\n",
    "print(f'updated w5: {w5}')\n",
    "\n",
    "o1 = h1 * w5 + h2 * w6 + b2\n",
    "o1 = torch.sigmoid((o1))\n",
    "e1 = 0.5 * (target1 - o1)**2    # MSE\n",
    "e = e1 + e2\n",
    "print(f'total error: {e}')\n",
    "\n",
    "# Let's update w6 and recalculate the total error"
   ]
  },
  {
   "cell_type": "code",
   "execution_count": null,
   "metadata": {},
   "outputs": [],
   "source": []
  }
 ],
 "metadata": {
  "kernelspec": {
   "display_name": "base",
   "language": "python",
   "name": "python3"
  },
  "language_info": {
   "codemirror_mode": {
    "name": "ipython",
    "version": 3
   },
   "file_extension": ".py",
   "mimetype": "text/x-python",
   "name": "python",
   "nbconvert_exporter": "python",
   "pygments_lexer": "ipython3",
   "version": "3.9.13"
  },
  "orig_nbformat": 4,
  "vscode": {
   "interpreter": {
    "hash": "bebb980880604d236ddcb4913ad10a36ac6cae9759cdda587ed688a750b11c5c"
   }
  }
 },
 "nbformat": 4,
 "nbformat_minor": 2
}
